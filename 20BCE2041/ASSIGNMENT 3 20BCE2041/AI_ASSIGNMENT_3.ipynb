{
  "nbformat": 4,
  "nbformat_minor": 0,
  "metadata": {
    "colab": {
      "provenance": [],
      "gpuType": "T4"
    },
    "kernelspec": {
      "name": "python3",
      "display_name": "Python 3"
    },
    "language_info": {
      "name": "python"
    },
    "accelerator": "GPU"
  },
  "cells": [
    {
      "cell_type": "code",
      "execution_count": 1,
      "metadata": {
        "id": "ioQla8rBYgmn"
      },
      "outputs": [],
      "source": [
        "# 20BCE2041 - MOGALAPU JAYA SRIKAR"
      ]
    },
    {
      "cell_type": "code",
      "source": [
        "# 20BCE2041 -  MOGALAPU JAYA SRIKAR"
      ],
      "metadata": {
        "id": "FmtjHzy3YbIi"
      },
      "execution_count": 157,
      "outputs": []
    },
    {
      "cell_type": "code",
      "source": [
        "!unzip '/content/drive/MyDrive/DATASET.zip'"
      ],
      "metadata": {
        "id": "TtStLNCyZKtS",
        "colab": {
          "base_uri": "https://localhost:8080/"
        },
        "outputId": "c2d73a93-912a-48f6-ab91-03c65e0532ec"
      },
      "execution_count": 2,
      "outputs": [
        {
          "output_type": "stream",
          "name": "stdout",
          "text": [
            "Archive:  /content/drive/MyDrive/DATASET.zip\n",
            "  inflating: test_data/test_data/blasti/DSC_6396.jpg  \n",
            "  inflating: test_data/test_data/blasti/DSC_6397.jpg  \n",
            "  inflating: test_data/test_data/blasti/DSC_6398.jpg  \n",
            "  inflating: test_data/test_data/blasti/DSC_6399.jpg  \n",
            "  inflating: test_data/test_data/blasti/DSC_6400.jpg  \n",
            "  inflating: test_data/test_data/blasti/DSC_6401.jpg  \n",
            "  inflating: test_data/test_data/blasti/DSC_6402.jpg  \n",
            "  inflating: test_data/test_data/blasti/DSC_6403.jpg  \n",
            "  inflating: test_data/test_data/blasti/DSC_6405.jpg  \n",
            "  inflating: test_data/test_data/blasti/DSC_6406.jpg  \n",
            "  inflating: test_data/test_data/blasti/DSC_6407.jpg  \n",
            "  inflating: test_data/test_data/blasti/DSC_6408.jpg  \n",
            "  inflating: test_data/test_data/blasti/DSC_6409.jpg  \n",
            "  inflating: test_data/test_data/blasti/DSC_6410.jpg  \n",
            "  inflating: test_data/test_data/blasti/DSC_6411.jpg  \n",
            "  inflating: test_data/test_data/bonegl/DSC_4587.jpg  \n",
            "  inflating: test_data/test_data/bonegl/DSC_4588.jpg  \n",
            "  inflating: test_data/test_data/bonegl/DSC_4589.jpg  \n",
            "  inflating: test_data/test_data/bonegl/DSC_4590.jpg  \n",
            "  inflating: test_data/test_data/bonegl/DSC_4591.jpg  \n",
            "  inflating: test_data/test_data/bonegl/DSC_4592.jpg  \n",
            "  inflating: test_data/test_data/bonegl/DSC_4593.jpg  \n",
            "  inflating: test_data/test_data/brhkyt/D72_0473.jpg  \n",
            "  inflating: test_data/test_data/brhkyt/D72_0474.jpg  \n",
            "  inflating: test_data/test_data/brhkyt/D72_0475.jpg  \n",
            "  inflating: test_data/test_data/brhkyt/D72_0477.jpg  \n",
            "  inflating: test_data/test_data/brhkyt/D72_0478.jpg  \n",
            "  inflating: test_data/test_data/brhkyt/D72_0479.jpg  \n",
            "  inflating: test_data/test_data/cbrtsh/_D32_10310.jpg  \n",
            "  inflating: test_data/test_data/cbrtsh/_D32_10311.jpg  \n",
            "  inflating: test_data/test_data/cbrtsh/_D32_10312.jpg  \n",
            "  inflating: test_data/test_data/cbrtsh/_D32_10313.jpg  \n",
            "  inflating: test_data/test_data/cbrtsh/_D32_10314.jpg  \n",
            "  inflating: test_data/test_data/cbrtsh/_D32_10317.jpg  \n",
            "  inflating: test_data/test_data/cbrtsh/_D32_10318.jpg  \n",
            "  inflating: test_data/test_data/cmnmyn/DSC_2443.jpg  \n",
            "  inflating: test_data/test_data/cmnmyn/DSC_4681.jpg  \n",
            "  inflating: test_data/test_data/cmnmyn/DSC_5137.jpg  \n",
            "  inflating: test_data/test_data/cmnmyn/DSC_7625.jpg  \n",
            "  inflating: test_data/test_data/cmnmyn/P1050277.jpg  \n",
            "  inflating: test_data/test_data/cmnmyn/_D32_12426.jpg  \n",
            "  inflating: test_data/test_data/cmnmyn/_D32_12427.jpg  \n",
            "  inflating: test_data/test_data/cmnmyn/_D32_12428.jpg  \n",
            "  inflating: test_data/test_data/gretit/11620454726_31a35c26da_o.jpg  \n",
            "  inflating: test_data/test_data/gretit/11776135285_ccf938fa2e_o.jpg  \n",
            "  inflating: test_data/test_data/gretit/11905645146_6a5d4ff9f9_o.jpg  \n",
            "  inflating: test_data/test_data/gretit/8537646712_0b282c4c6a_o.jpg  \n",
            "  inflating: test_data/test_data/gretit/D72_0693.jpg  \n",
            "  inflating: test_data/test_data/gretit/D72_0694.jpg  \n",
            "  inflating: test_data/test_data/gretit/D72_0695.jpg  \n",
            "  inflating: test_data/test_data/hilpig/DSC_6359.jpg  \n",
            "  inflating: test_data/test_data/hilpig/DSC_6362.jpg  \n",
            "  inflating: test_data/test_data/hilpig/DSC_6364.jpg  \n",
            "  inflating: test_data/test_data/hilpig/DSC_6368.jpg  \n",
            "  inflating: test_data/test_data/hilpig/DSC_6403.jpg  \n",
            "  inflating: test_data/test_data/hilpig/DSC_6404.jpg  \n",
            "  inflating: test_data/test_data/hilpig/P1000319.jpg  \n",
            "  inflating: test_data/test_data/hilpig/P1000323.jpg  \n",
            "  inflating: test_data/test_data/hilpig/P1050044.jpg  \n",
            "  inflating: test_data/test_data/hilpig/P1050045.jpg  \n",
            "  inflating: test_data/test_data/himbul/11602064885_3826df4500_o.jpg  \n",
            "  inflating: test_data/test_data/himbul/11619942574_42f23a7b05_o.jpg  \n",
            "  inflating: test_data/test_data/himbul/11620097904_33fa8ee878_o.jpg  \n",
            "  inflating: test_data/test_data/himbul/5857371972_ed4f88b275_o.jpg  \n",
            "  inflating: test_data/test_data/himbul/6154954471_eefe6e00d1_o.jpg  \n",
            "  inflating: test_data/test_data/himbul/D72_0688.jpg  \n",
            "  inflating: test_data/test_data/himbul/D72_0691.jpg  \n",
            "  inflating: test_data/test_data/himbul/DSC08357.jpg  \n",
            "  inflating: test_data/test_data/himbul/DSC_3230.jpg  \n",
            "  inflating: test_data/test_data/himbul/DSC_7439.jpg  \n",
            "  inflating: test_data/test_data/himbul/DSC_7602.jpg  \n",
            "  inflating: test_data/test_data/himbul/P1060368.jpg  \n",
            "  inflating: test_data/test_data/himbul/P1060369.jpg  \n",
            "  inflating: test_data/test_data/himbul/_D32_10242.jpg  \n",
            "  inflating: test_data/test_data/himbul/_D32_10245.jpg  \n",
            "  inflating: test_data/test_data/himbul/_D32_10251.jpg  \n",
            "  inflating: test_data/test_data/himbul/_D32_10319.jpg  \n",
            "  inflating: test_data/test_data/himbul/_D32_10320.jpg  \n",
            "  inflating: test_data/test_data/himbul/_DSC9446.jpg  \n",
            "  inflating: test_data/test_data/himgri/IMG_5384.JPG  \n",
            "  inflating: test_data/test_data/himgri/IMG_5385.JPG  \n",
            "  inflating: test_data/test_data/himgri/IMG_5386.JPG  \n",
            "  inflating: test_data/test_data/himgri/IMG_5387.JPG  \n",
            "  inflating: test_data/test_data/himgri/IMG_5459.JPG  \n",
            "  inflating: test_data/test_data/himgri/IMG_5460.JPG  \n",
            "  inflating: test_data/test_data/himgri/IMG_5487.JPG  \n",
            "  inflating: test_data/test_data/himgri/IMG_5488.JPG  \n",
            "  inflating: test_data/test_data/himgri/IMG_5489.JPG  \n",
            "  inflating: test_data/test_data/himgri/IMG_5490.JPG  \n",
            "  inflating: test_data/test_data/himgri/IMG_5491.JPG  \n",
            "  inflating: test_data/test_data/himgri/IMG_5492.JPG  \n",
            "  inflating: test_data/test_data/himgri/P1020742.jpg  \n",
            "  inflating: test_data/test_data/himgri/P1020743.jpg  \n",
            "  inflating: test_data/test_data/himgri/P1020746.jpg  \n",
            "  inflating: test_data/test_data/himgri/P1020748.jpg  \n",
            "  inflating: test_data/test_data/himgri/P1030055.jpg  \n",
            "  inflating: test_data/test_data/himgri/P1060776.jpg  \n",
            "  inflating: test_data/test_data/himgri/P1060777.jpg  \n",
            "  inflating: test_data/test_data/himgri/P1060778.jpg  \n",
            "  inflating: test_data/test_data/hsparo/100_5573.JPG  \n",
            "  inflating: test_data/test_data/hsparo/100_5585.JPG  \n",
            "  inflating: test_data/test_data/hsparo/100_5586.JPG  \n",
            "  inflating: test_data/test_data/hsparo/100_5742.JPG  \n",
            "  inflating: test_data/test_data/hsparo/12265273154_48e0fefd42_o.jpg  \n",
            "  inflating: test_data/test_data/hsparo/DSC_4521.jpg  \n",
            "  inflating: test_data/test_data/hsparo/DSC_7619.jpg  \n",
            "  inflating: test_data/test_data/hsparo/_DSC_11244.jpg  \n",
            "  inflating: test_data/test_data/hsparo/_DSC_11246.jpg  \n",
            "  inflating: test_data/test_data/indvul/DSC_1263.jpg  \n",
            "  inflating: test_data/test_data/indvul/DSC_1273.jpg  \n",
            "  inflating: test_data/test_data/indvul/DSC_1274.jpg  \n",
            "  inflating: test_data/test_data/indvul/DSC_1275.jpg  \n",
            "  inflating: test_data/test_data/indvul/DSC_1277.jpg  \n",
            "  inflating: test_data/test_data/indvul/_DSC8754.jpg  \n",
            "  inflating: test_data/test_data/indvul/_DSC9520.jpg  \n",
            "  inflating: test_data/test_data/indvul/_DSC9521.jpg  \n",
            "  inflating: test_data/test_data/indvul/_DSC9523.jpg  \n",
            "  inflating: test_data/test_data/jglowl/_D32_10584.jpg  \n",
            "  inflating: test_data/test_data/jglowl/_D32_10587.jpg  \n",
            "  inflating: test_data/test_data/jglowl/_D32_10593.jpg  \n",
            "  inflating: test_data/test_data/jglowl/_D32_13515.jpg  \n",
            "  inflating: test_data/test_data/jglowl/_D32_13516.jpg  \n",
            "  inflating: test_data/test_data/jglowl/_D32_13517.jpg  \n",
            "  inflating: test_data/test_data/lbicrw/100_4917.JPG  \n",
            "  inflating: test_data/test_data/lbicrw/IMG_5538.JPG  \n",
            "  inflating: test_data/test_data/lbicrw/IMG_5541.JPG  \n",
            "  inflating: test_data/test_data/lbicrw/IMG_5543.JPG  \n",
            "  inflating: test_data/test_data/lbicrw/IMG_5544.JPG  \n",
            "  inflating: test_data/test_data/lbicrw/P1030030.jpg  \n",
            "  inflating: test_data/test_data/mgprob/100_5811.JPG  \n",
            "  inflating: test_data/test_data/mgprob/100_5812.JPG  \n",
            "  inflating: test_data/test_data/mgprob/100_5813.JPG  \n",
            "  inflating: test_data/test_data/mgprob/DSC_3233.jpg  \n",
            "  inflating: test_data/test_data/mgprob/_DSC0085.jpg  \n",
            "  inflating: test_data/test_data/mgprob/_DSC0133.jpg  \n",
            "  inflating: test_data/test_data/mgprob/_DSC0135.jpg  \n",
            "  inflating: test_data/test_data/rebimg/100_5756.JPG  \n",
            "  inflating: test_data/test_data/rebimg/100_5757.JPG  \n",
            "  inflating: test_data/test_data/rebimg/100_5758.JPG  \n",
            "  inflating: test_data/test_data/rebimg/100_5759.JPG  \n",
            "  inflating: test_data/test_data/rebimg/100_5760.JPG  \n",
            "  inflating: test_data/test_data/rebimg/13009302395_5d88a9d62b_o.jpg  \n",
            "  inflating: test_data/test_data/rebimg/13009315305_f1cbfb6767_o.jpg  \n",
            "  inflating: test_data/test_data/rebimg/13009451823_8eb502581f_o.jpg  \n",
            "  inflating: test_data/test_data/rebimg/DSC_7148.jpg  \n",
            "  inflating: test_data/test_data/rebimg/IMG_5251.JPG  \n",
            "  inflating: test_data/test_data/rebimg/IMG_5252.JPG  \n",
            "  inflating: test_data/test_data/wcrsrt/100_4462.JPG  \n",
            "  inflating: test_data/test_data/wcrsrt/100_4463.JPG  \n",
            "  inflating: test_data/test_data/wcrsrt/100_4464.JPG  \n",
            "  inflating: test_data/test_data/wcrsrt/100_4466.JPG  \n",
            "  inflating: test_data/test_data/wcrsrt/100_4467.JPG  \n",
            "  inflating: test_data/test_data/wcrsrt/100_4468.JPG  \n",
            "  inflating: test_data/test_data/wcrsrt/100_5103.JPG  \n",
            "  inflating: test_data/test_data/wcrsrt/100_5105.JPG  \n",
            "  inflating: test_data/test_data/wcrsrt/11382677585_ef6570a041_o.jpg  \n",
            "  inflating: test_data/test_data/wcrsrt/11382746854_7ce73793b3_o.jpg  \n",
            "  inflating: train_data/train_data/blasti/DSC_6382.jpg  \n",
            "  inflating: train_data/train_data/blasti/DSC_6383.jpg  \n",
            "  inflating: train_data/train_data/blasti/DSC_6384-2.jpg  \n",
            "  inflating: train_data/train_data/blasti/DSC_6384.jpg  \n",
            "  inflating: train_data/train_data/blasti/DSC_6385.jpg  \n",
            "  inflating: train_data/train_data/blasti/DSC_6386.jpg  \n",
            "  inflating: train_data/train_data/blasti/DSC_6387.jpg  \n",
            "  inflating: train_data/train_data/blasti/DSC_6388.jpg  \n",
            "  inflating: train_data/train_data/blasti/DSC_6389.jpg  \n",
            "  inflating: train_data/train_data/blasti/DSC_6390.jpg  \n",
            "  inflating: train_data/train_data/blasti/DSC_6391.jpg  \n",
            "  inflating: train_data/train_data/blasti/DSC_6392.jpg  \n",
            "  inflating: train_data/train_data/blasti/DSC_6393.jpg  \n",
            "  inflating: train_data/train_data/blasti/DSC_6394.jpg  \n",
            "  inflating: train_data/train_data/blasti/DSC_6395.jpg  \n",
            "  inflating: train_data/train_data/bonegl/DSC_4570.jpg  \n",
            "  inflating: train_data/train_data/bonegl/DSC_4571.jpg  \n",
            "  inflating: train_data/train_data/bonegl/DSC_4583.jpg  \n",
            "  inflating: train_data/train_data/bonegl/DSC_4584.jpg  \n",
            "  inflating: train_data/train_data/bonegl/DSC_4585.jpg  \n",
            "  inflating: train_data/train_data/bonegl/DSC_4586.jpg  \n",
            "  inflating: train_data/train_data/brhkyt/D72_0400.jpg  \n",
            "  inflating: train_data/train_data/brhkyt/D72_0401.jpg  \n",
            "  inflating: train_data/train_data/brhkyt/D72_0470.jpg  \n",
            "  inflating: train_data/train_data/brhkyt/D72_0471.jpg  \n",
            "  inflating: train_data/train_data/brhkyt/D72_0472.jpg  \n",
            "  inflating: train_data/train_data/cbrtsh/100_5097.JPG  \n",
            "  inflating: train_data/train_data/cbrtsh/_D32_10303.jpg  \n",
            "  inflating: train_data/train_data/cbrtsh/_D32_10305.jpg  \n",
            "  inflating: train_data/train_data/cbrtsh/_D32_10306.jpg  \n",
            "  inflating: train_data/train_data/cbrtsh/_D32_10307.jpg  \n",
            "  inflating: train_data/train_data/cbrtsh/_D32_10308.jpg  \n",
            "  inflating: train_data/train_data/cbrtsh/_D32_10309.jpg  \n",
            "  inflating: train_data/train_data/cmnmyn/100_5763.JPG  \n",
            "  inflating: train_data/train_data/cmnmyn/5866682091_870ccc946c_o.jpg  \n",
            "  inflating: train_data/train_data/cmnmyn/6154956165_64266b8b53_o.jpg  \n",
            "  inflating: train_data/train_data/cmnmyn/DSCN5784.jpg  \n",
            "  inflating: train_data/train_data/cmnmyn/DSCN5787.jpg  \n",
            "  inflating: train_data/train_data/cmnmyn/DSCN5790.jpg  \n",
            "  inflating: train_data/train_data/cmnmyn/DSCN5791.jpg  \n",
            "  inflating: train_data/train_data/gretit/100_5042.JPG  \n",
            "  inflating: train_data/train_data/gretit/100_5043.JPG  \n",
            "  inflating: train_data/train_data/gretit/100_5044.JPG  \n",
            "  inflating: train_data/train_data/gretit/100_5045.JPG  \n",
            "  inflating: train_data/train_data/gretit/100_5046.JPG  \n",
            "  inflating: train_data/train_data/gretit/100_5047.JPG  \n",
            "  inflating: train_data/train_data/hilpig/DSC_6272.jpg  \n",
            "  inflating: train_data/train_data/hilpig/DSC_6273.jpg  \n",
            "  inflating: train_data/train_data/hilpig/DSC_6274.jpg  \n",
            "  inflating: train_data/train_data/hilpig/DSC_6275.jpg  \n",
            "  inflating: train_data/train_data/hilpig/DSC_6350.jpg  \n",
            "  inflating: train_data/train_data/hilpig/DSC_6351.jpg  \n",
            "  inflating: train_data/train_data/hilpig/DSC_6352.jpg  \n",
            "  inflating: train_data/train_data/hilpig/DSC_6353.jpg  \n",
            "  inflating: train_data/train_data/hilpig/DSC_6354.jpg  \n",
            "  inflating: train_data/train_data/hilpig/DSC_6358.jpg  \n",
            "  inflating: train_data/train_data/himbul/100_5028.JPG  \n",
            "  inflating: train_data/train_data/himbul/100_5029.JPG  \n",
            "  inflating: train_data/train_data/himbul/100_5096.JPG  \n",
            "  inflating: train_data/train_data/himbul/100_5099.JPG  \n",
            "  inflating: train_data/train_data/himbul/100_5100.JPG  \n",
            "  inflating: train_data/train_data/himbul/100_5102.JPG  \n",
            "  inflating: train_data/train_data/himbul/100_5110.JPG  \n",
            "  inflating: train_data/train_data/himbul/100_5112.JPG  \n",
            "  inflating: train_data/train_data/himbul/100_5113.JPG  \n",
            "  inflating: train_data/train_data/himbul/100_5159.JPG  \n",
            "  inflating: train_data/train_data/himbul/100_5160.JPG  \n",
            "  inflating: train_data/train_data/himbul/100_5161.JPG  \n",
            "  inflating: train_data/train_data/himbul/100_5162.JPG  \n",
            "  inflating: train_data/train_data/himbul/10774570945_9bc537c255_o.jpg  \n",
            "  inflating: train_data/train_data/himbul/11383838134_96e891a316_o.jpg  \n",
            "  inflating: train_data/train_data/himbul/11383857084_cdd7514746_o.jpg  \n",
            "  inflating: train_data/train_data/himbul/11387473723_464965720a_o.jpg  \n",
            "  inflating: train_data/train_data/himbul/9007817678_24db19fc63_o.jpg  \n",
            "  inflating: train_data/train_data/himgri/12029790563_2fe54a68aa_o.jpg  \n",
            "  inflating: train_data/train_data/himgri/12029822653_1185544e7b_o.jpg  \n",
            "  inflating: train_data/train_data/himgri/12029933015_802428e277_o.jpg  \n",
            "  inflating: train_data/train_data/himgri/12029987304_031b7a2d53_o.jpg  \n",
            "  inflating: train_data/train_data/himgri/12030165813_f5341e8ed0_o.jpg  \n",
            "  inflating: train_data/train_data/himgri/12030221124_1baaf905d1_o.jpg  \n",
            "  inflating: train_data/train_data/himgri/12030269234_1c3f5a8e8c_o.jpg  \n",
            "  inflating: train_data/train_data/himgri/12152037683_13e1556c41_o.jpg  \n",
            "  inflating: train_data/train_data/himgri/12152178844_dc29e3126f_o.jpg  \n",
            "  inflating: train_data/train_data/himgri/12152510436_23b62fed3b_o.jpg  \n",
            "  inflating: train_data/train_data/himgri/12265055185_138e3c7c70_o.jpg  \n",
            "  inflating: train_data/train_data/himgri/12265498144_d2e80faa3b_o.jpg  \n",
            "  inflating: train_data/train_data/himgri/12265561764_4814951031_o.jpg  \n",
            "  inflating: train_data/train_data/himgri/12265582724_61cb64e73a_o.jpg  \n",
            "  inflating: train_data/train_data/himgri/12265738206_2b9b25cc8a_o.jpg  \n",
            "  inflating: train_data/train_data/himgri/12265747116_d4b4fa3741_o.jpg  \n",
            "  inflating: train_data/train_data/himgri/12266053036_fcab92d8e8_o.jpg  \n",
            "  inflating: train_data/train_data/himgri/12266077576_1d7143aaf7_o.jpg  \n",
            "  inflating: train_data/train_data/himgri/12266086526_82cd337667_o.jpg  \n",
            "  inflating: train_data/train_data/himgri/IMG_5463.JPG  \n",
            "  inflating: train_data/train_data/hsparo/100_4757.JPG  \n",
            "  inflating: train_data/train_data/hsparo/100_4758.JPG  \n",
            "  inflating: train_data/train_data/hsparo/100_5039.JPG  \n",
            "  inflating: train_data/train_data/hsparo/100_5040.JPG  \n",
            "  inflating: train_data/train_data/hsparo/100_5041.JPG  \n",
            "  inflating: train_data/train_data/hsparo/100_5048.JPG  \n",
            "  inflating: train_data/train_data/hsparo/100_5049.JPG  \n",
            "  inflating: train_data/train_data/hsparo/100_5050.JPG  \n",
            "  inflating: train_data/train_data/hsparo/100_5572.JPG  \n",
            "  inflating: train_data/train_data/indvul/DSC_0502.jpg  \n",
            "  inflating: train_data/train_data/indvul/DSC_0571e.jpg  \n",
            "  inflating: train_data/train_data/indvul/DSC_0572.jpg  \n",
            "  inflating: train_data/train_data/indvul/DSC_0576e.jpg  \n",
            "  inflating: train_data/train_data/indvul/DSC_0582.jpg  \n",
            "  inflating: train_data/train_data/indvul/DSC_0583e.jpg  \n",
            "  inflating: train_data/train_data/indvul/DSC_0584.jpg  \n",
            "  inflating: train_data/train_data/indvul/DSC_0616c.jpg  \n",
            "  inflating: train_data/train_data/indvul/DSC_0617.jpg  \n",
            "  inflating: train_data/train_data/jglowl/12152151476_7a1524aabb_o.jpg  \n",
            "  inflating: train_data/train_data/jglowl/DSC01335.jpg  \n",
            "  inflating: train_data/train_data/jglowl/DSC01336.jpg  \n",
            "  inflating: train_data/train_data/jglowl/_D32_10285.jpg  \n",
            "  inflating: train_data/train_data/jglowl/_D32_10578.jpg  \n",
            "  inflating: train_data/train_data/jglowl/_D32_10583.jpg  \n",
            "  inflating: train_data/train_data/lbicrw/100_4037.JPG  \n",
            "  inflating: train_data/train_data/lbicrw/100_4912.JPG  \n",
            "  inflating: train_data/train_data/lbicrw/100_4913.JPG  \n",
            "  inflating: train_data/train_data/lbicrw/100_4914.JPG  \n",
            "  inflating: train_data/train_data/lbicrw/100_4915.JPG  \n",
            "  inflating: train_data/train_data/lbicrw/100_4916.JPG  \n",
            "  inflating: train_data/train_data/mgprob/100_5587.JPG  \n",
            "  inflating: train_data/train_data/mgprob/100_5588.JPG  \n",
            "  inflating: train_data/train_data/mgprob/100_5589.JPG  \n",
            "  inflating: train_data/train_data/mgprob/100_5590.JPG  \n",
            "  inflating: train_data/train_data/mgprob/100_5592.JPG  \n",
            "  inflating: train_data/train_data/mgprob/100_5762.JPG  \n",
            "  inflating: train_data/train_data/rebimg/100_5744.JPG  \n",
            "  inflating: train_data/train_data/rebimg/100_5745.JPG  \n",
            "  inflating: train_data/train_data/rebimg/100_5746.JPG  \n",
            "  inflating: train_data/train_data/rebimg/100_5748.JPG  \n",
            "  inflating: train_data/train_data/rebimg/100_5749.JPG  \n",
            "  inflating: train_data/train_data/rebimg/100_5750.JPG  \n",
            "  inflating: train_data/train_data/rebimg/100_5751.JPG  \n",
            "  inflating: train_data/train_data/rebimg/100_5752.JPG  \n",
            "  inflating: train_data/train_data/rebimg/100_5754.JPG  \n",
            "  inflating: train_data/train_data/rebimg/100_5755.JPG  \n",
            "  inflating: train_data/train_data/wcrsrt/100_4452.JPG  \n",
            "  inflating: train_data/train_data/wcrsrt/100_4453.JPG  \n",
            "  inflating: train_data/train_data/wcrsrt/100_4454.JPG  \n",
            "  inflating: train_data/train_data/wcrsrt/100_4455.JPG  \n",
            "  inflating: train_data/train_data/wcrsrt/100_4456.JPG  \n",
            "  inflating: train_data/train_data/wcrsrt/100_4457.JPG  \n",
            "  inflating: train_data/train_data/wcrsrt/100_4458.JPG  \n",
            "  inflating: train_data/train_data/wcrsrt/100_4459.JPG  \n",
            "  inflating: train_data/train_data/wcrsrt/100_4460.JPG  \n",
            "  inflating: train_data/train_data/wcrsrt/100_4461.JPG  \n"
          ]
        }
      ]
    },
    {
      "cell_type": "code",
      "source": [
        "from tensorflow.keras.preprocessing.image import ImageDataGenerator"
      ],
      "metadata": {
        "id": "pzDIve9I1Aws"
      },
      "execution_count": 3,
      "outputs": []
    },
    {
      "cell_type": "code",
      "source": [
        "traindata = ImageDataGenerator(rescale=(1./255),horizontal_flip=True,shear_range=0.2)\n",
        "testdata = ImageDataGenerator(rescale=(1./255))"
      ],
      "metadata": {
        "id": "2A4GGL3o1NO4"
      },
      "execution_count": 4,
      "outputs": []
    },
    {
      "cell_type": "code",
      "source": [
        "train = traindata.flow_from_directory('/content/train_data/train_data',target_size=(120, 120),class_mode='categorical', batch_size=8)\n",
        "test = testdata.flow_from_directory('/content/test_data/test_data',target_size=(120, 120),class_mode='categorical', batch_size=8)"
      ],
      "metadata": {
        "colab": {
          "base_uri": "https://localhost:8080/"
        },
        "id": "-EpC_qbd1Y2A",
        "outputId": "15f91b87-a487-4188-d760-fc4e19b95977"
      },
      "execution_count": 5,
      "outputs": [
        {
          "output_type": "stream",
          "name": "stdout",
          "text": [
            "Found 150 images belonging to 16 classes.\n",
            "Found 157 images belonging to 16 classes.\n"
          ]
        }
      ]
    },
    {
      "cell_type": "code",
      "source": [
        "# 20BCE2041 -  MOGALAPU JAYA SRIKAR"
      ],
      "metadata": {
        "id": "ve9FhcrCYZGi"
      },
      "execution_count": 156,
      "outputs": []
    },
    {
      "cell_type": "code",
      "source": [
        "train.class_indices"
      ],
      "metadata": {
        "colab": {
          "base_uri": "https://localhost:8080/"
        },
        "id": "yqBs49512P8R",
        "outputId": "710eadf4-1fc6-4a91-ab99-9d3a1a5226b2"
      },
      "execution_count": 6,
      "outputs": [
        {
          "output_type": "execute_result",
          "data": {
            "text/plain": [
              "{'blasti': 0,\n",
              " 'bonegl': 1,\n",
              " 'brhkyt': 2,\n",
              " 'cbrtsh': 3,\n",
              " 'cmnmyn': 4,\n",
              " 'gretit': 5,\n",
              " 'hilpig': 6,\n",
              " 'himbul': 7,\n",
              " 'himgri': 8,\n",
              " 'hsparo': 9,\n",
              " 'indvul': 10,\n",
              " 'jglowl': 11,\n",
              " 'lbicrw': 12,\n",
              " 'mgprob': 13,\n",
              " 'rebimg': 14,\n",
              " 'wcrsrt': 15}"
            ]
          },
          "metadata": {},
          "execution_count": 6
        }
      ]
    },
    {
      "cell_type": "code",
      "source": [
        "from tensorflow.keras.layers import Convolution2D,MaxPooling2D,Flatten,Dense\n",
        "from tensorflow.keras.models import Sequential"
      ],
      "metadata": {
        "id": "NlmQWVYl2pOh"
      },
      "execution_count": 7,
      "outputs": []
    },
    {
      "cell_type": "code",
      "source": [
        "model = Sequential()\n",
        "model.add(Convolution2D(20,(3,3),activation='relu',input_shape=(120, 120, 3)))\n",
        "model.add(MaxPooling2D(pool_size=(2,2)))\n",
        "model.add(Flatten())\n",
        "model.add(Dense(45,activation='relu'))\n",
        "model.add(Dense(16,activation='softmax'))"
      ],
      "metadata": {
        "id": "MeUxncWG2uNQ"
      },
      "execution_count": 8,
      "outputs": []
    },
    {
      "cell_type": "code",
      "source": [
        "model.compile(optimizer='adam',loss='categorical_crossentropy',metrics=['accuracy'])"
      ],
      "metadata": {
        "id": "HPItHb4l3q3P"
      },
      "execution_count": 9,
      "outputs": []
    },
    {
      "cell_type": "code",
      "source": [
        "model.fit(train,batch_size=8,validation_data=test,epochs=10)"
      ],
      "metadata": {
        "colab": {
          "base_uri": "https://localhost:8080/"
        },
        "id": "5pxToUSY3uf9",
        "outputId": "4e6da6f6-5bc8-459d-ea88-91fc026affb3"
      },
      "execution_count": 64,
      "outputs": [
        {
          "output_type": "stream",
          "name": "stdout",
          "text": [
            "Epoch 1/10\n",
            "19/19 [==============================] - 102s 5s/step - loss: 3.8175 - accuracy: 0.0667 - val_loss: 2.7506 - val_accuracy: 0.0573\n",
            "Epoch 2/10\n",
            "19/19 [==============================] - 87s 5s/step - loss: 2.7276 - accuracy: 0.1200 - val_loss: 2.7669 - val_accuracy: 0.0764\n",
            "Epoch 3/10\n",
            "19/19 [==============================] - 88s 5s/step - loss: 2.6360 - accuracy: 0.0933 - val_loss: 2.7797 - val_accuracy: 0.1338\n",
            "Epoch 4/10\n",
            "19/19 [==============================] - 86s 5s/step - loss: 2.4767 - accuracy: 0.2400 - val_loss: 2.7520 - val_accuracy: 0.1656\n",
            "Epoch 5/10\n",
            "19/19 [==============================] - 88s 5s/step - loss: 2.3105 - accuracy: 0.2667 - val_loss: 2.7587 - val_accuracy: 0.2038\n",
            "Epoch 6/10\n",
            "19/19 [==============================] - 87s 5s/step - loss: 2.3229 - accuracy: 0.2267 - val_loss: 2.7857 - val_accuracy: 0.1210\n",
            "Epoch 7/10\n",
            "19/19 [==============================] - 119s 6s/step - loss: 2.1193 - accuracy: 0.3333 - val_loss: 2.9132 - val_accuracy: 0.0510\n",
            "Epoch 8/10\n",
            "19/19 [==============================] - 120s 7s/step - loss: 1.9972 - accuracy: 0.3333 - val_loss: 2.7462 - val_accuracy: 0.2166\n",
            "Epoch 9/10\n",
            "19/19 [==============================] - 120s 7s/step - loss: 1.8633 - accuracy: 0.3400 - val_loss: 2.5986 - val_accuracy: 0.1911\n",
            "Epoch 10/10\n",
            "19/19 [==============================] - 120s 7s/step - loss: 1.7174 - accuracy: 0.4333 - val_loss: 2.7899 - val_accuracy: 0.1911\n"
          ]
        },
        {
          "output_type": "execute_result",
          "data": {
            "text/plain": [
              "<keras.callbacks.History at 0x7f77e533c4f0>"
            ]
          },
          "metadata": {},
          "execution_count": 64
        }
      ]
    },
    {
      "cell_type": "code",
      "source": [
        "# 20BCE2041 - MOGALAPU JAYA SRIKAR"
      ],
      "metadata": {
        "id": "OEjSPJHn8axh"
      },
      "execution_count": 10,
      "outputs": []
    },
    {
      "cell_type": "code",
      "source": [
        "model.save('Weights.h5')"
      ],
      "metadata": {
        "id": "1PPuMSnu-tZR"
      },
      "execution_count": 11,
      "outputs": []
    },
    {
      "cell_type": "code",
      "source": [
        "# 20BCE2041 -  MOGALAPU JAYA SRIKAR"
      ],
      "metadata": {
        "id": "G5BYc6OQYXia"
      },
      "execution_count": 155,
      "outputs": []
    },
    {
      "cell_type": "code",
      "source": [
        "import numpy as np\n",
        "from tensorflow.keras.preprocessing import image"
      ],
      "metadata": {
        "id": "uJKo9iw-C3Ah"
      },
      "execution_count": 12,
      "outputs": []
    },
    {
      "cell_type": "code",
      "source": [
        "img = image.load_img('/content/test_data/test_data/hsparo/100_5573.JPG',target_size=(120,120))"
      ],
      "metadata": {
        "id": "IbSHfNtKC7XJ"
      },
      "execution_count": 13,
      "outputs": []
    },
    {
      "cell_type": "code",
      "source": [
        "img"
      ],
      "metadata": {
        "colab": {
          "base_uri": "https://localhost:8080/",
          "height": 137
        },
        "id": "FaGbZRHCDIk3",
        "outputId": "58165e77-c13a-4c9c-f913-c47721fb9e03"
      },
      "execution_count": 14,
      "outputs": [
        {
          "output_type": "execute_result",
          "data": {
            "text/plain": [
              "<PIL.Image.Image image mode=RGB size=120x120 at 0x7F59FC48EC80>"
            ],
            "image/png": "[encoded data removed]"
          },
          "metadata": {},
          "execution_count": 14
        }
      ]
    },
    {
      "cell_type": "code",
      "source": [
        "img = image.img_to_array(img)\n",
        "img"
      ],
      "metadata": {
        "colab": {
          "base_uri": "https://localhost:8080/"
        },
        "id": "24aCT6QvDODf",
        "outputId": "8fd9dd62-3b13-4c71-b5dc-6e260e719b4c"
      },
      "execution_count": 15,
      "outputs": [
        {
          "output_type": "execute_result",
          "data": {
            "text/plain": [
              "array([[[ 83.,  47.,  49.],\n",
              "        [ 89.,  54.,  58.],\n",
              "        [108.,  78.,  78.],\n",
              "        ...,\n",
              "        [ 82.,  62.,  35.],\n",
              "        [ 28.,  18.,  19.],\n",
              "        [ 23.,  14.,  15.]],\n",
              "\n",
              "       [[ 99.,  69.,  67.],\n",
              "        [ 65.,  38.,  45.],\n",
              "        [ 70.,  38.,  51.],\n",
              "        ...,\n",
              "        [ 78.,  72.,  50.],\n",
              "        [ 38.,  24.,  21.],\n",
              "        [ 25.,  14.,  18.]],\n",
              "\n",
              "       [[118.,  71.,  77.],\n",
              "        [148.,  82.,  92.],\n",
              "        [ 61.,  34.,  41.],\n",
              "        ...,\n",
              "        [ 74.,  81.,  63.],\n",
              "        [ 57.,  55.,  34.],\n",
              "        [ 23.,  11.,  15.]],\n",
              "\n",
              "       ...,\n",
              "\n",
              "       [[197., 159., 136.],\n",
              "        [196., 158., 137.],\n",
              "        [198., 156., 132.],\n",
              "        ...,\n",
              "        [113., 102.,  96.],\n",
              "        [111., 102.,  69.],\n",
              "        [ 76.,  61.,  54.]],\n",
              "\n",
              "       [[178., 137., 115.],\n",
              "        [156., 119., 101.],\n",
              "        [177., 132., 111.],\n",
              "        ...,\n",
              "        [100.,  90.,  81.],\n",
              "        [ 90.,  80.,  53.],\n",
              "        [ 59.,  44.,  39.]],\n",
              "\n",
              "       [[137.,  96.,  94.],\n",
              "        [147., 104.,  85.],\n",
              "        [140.,  99.,  81.],\n",
              "        ...,\n",
              "        [ 75.,  68.,  60.],\n",
              "        [ 47.,  37.,  28.],\n",
              "        [ 58.,  45.,  39.]]], dtype=float32)"
            ]
          },
          "metadata": {},
          "execution_count": 15
        }
      ]
    },
    {
      "cell_type": "code",
      "source": [
        "img = np.expand_dims(img,axis=0)\n",
        "img"
      ],
      "metadata": {
        "colab": {
          "base_uri": "https://localhost:8080/"
        },
        "id": "ZzMqqiy5DUoP",
        "outputId": "4ea0d313-b91e-4b80-87ca-5208201520c8"
      },
      "execution_count": 16,
      "outputs": [
        {
          "output_type": "execute_result",
          "data": {
            "text/plain": [
              "array([[[[ 83.,  47.,  49.],\n",
              "         [ 89.,  54.,  58.],\n",
              "         [108.,  78.,  78.],\n",
              "         ...,\n",
              "         [ 82.,  62.,  35.],\n",
              "         [ 28.,  18.,  19.],\n",
              "         [ 23.,  14.,  15.]],\n",
              "\n",
              "        [[ 99.,  69.,  67.],\n",
              "         [ 65.,  38.,  45.],\n",
              "         [ 70.,  38.,  51.],\n",
              "         ...,\n",
              "         [ 78.,  72.,  50.],\n",
              "         [ 38.,  24.,  21.],\n",
              "         [ 25.,  14.,  18.]],\n",
              "\n",
              "        [[118.,  71.,  77.],\n",
              "         [148.,  82.,  92.],\n",
              "         [ 61.,  34.,  41.],\n",
              "         ...,\n",
              "         [ 74.,  81.,  63.],\n",
              "         [ 57.,  55.,  34.],\n",
              "         [ 23.,  11.,  15.]],\n",
              "\n",
              "        ...,\n",
              "\n",
              "        [[197., 159., 136.],\n",
              "         [196., 158., 137.],\n",
              "         [198., 156., 132.],\n",
              "         ...,\n",
              "         [113., 102.,  96.],\n",
              "         [111., 102.,  69.],\n",
              "         [ 76.,  61.,  54.]],\n",
              "\n",
              "        [[178., 137., 115.],\n",
              "         [156., 119., 101.],\n",
              "         [177., 132., 111.],\n",
              "         ...,\n",
              "         [100.,  90.,  81.],\n",
              "         [ 90.,  80.,  53.],\n",
              "         [ 59.,  44.,  39.]],\n",
              "\n",
              "        [[137.,  96.,  94.],\n",
              "         [147., 104.,  85.],\n",
              "         [140.,  99.,  81.],\n",
              "         ...,\n",
              "         [ 75.,  68.,  60.],\n",
              "         [ 47.,  37.,  28.],\n",
              "         [ 58.,  45.,  39.]]]], dtype=float32)"
            ]
          },
          "metadata": {},
          "execution_count": 16
        }
      ]
    },
    {
      "cell_type": "code",
      "source": [
        "model.predict(img)"
      ],
      "metadata": {
        "colab": {
          "base_uri": "https://localhost:8080/"
        },
        "id": "zJ_VI_a8DXiY",
        "outputId": "7b355cab-8b3d-4629-e56c-d68dc0df138b"
      },
      "execution_count": 17,
      "outputs": [
        {
          "output_type": "stream",
          "name": "stdout",
          "text": [
            "1/1 [==============================] - 0s 270ms/step\n"
          ]
        },
        {
          "output_type": "execute_result",
          "data": {
            "text/plain": [
              "array([[3.2802214e-32, 1.4956188e-34, 3.1010374e-15, 0.0000000e+00,\n",
              "        2.3670392e-17, 1.0000000e+00, 0.0000000e+00, 4.5946048e-16,\n",
              "        1.4780350e-36, 0.0000000e+00, 1.4219352e-18, 0.0000000e+00,\n",
              "        5.0272429e-38, 6.6396650e-17, 5.7197417e-29, 3.4677902e-10]],\n",
              "      dtype=float32)"
            ]
          },
          "metadata": {},
          "execution_count": 17
        }
      ]
    },
    {
      "cell_type": "code",
      "source": [
        "np.argmax(model.predict(img))"
      ],
      "metadata": {
        "colab": {
          "base_uri": "https://localhost:8080/"
        },
        "id": "V0OtytnyDeza",
        "outputId": "f4b7ea87-7812-4e1d-baeb-5f02bc6a031a"
      },
      "execution_count": 18,
      "outputs": [
        {
          "output_type": "stream",
          "name": "stdout",
          "text": [
            "1/1 [==============================] - 0s 22ms/step\n"
          ]
        },
        {
          "output_type": "execute_result",
          "data": {
            "text/plain": [
              "5"
            ]
          },
          "metadata": {},
          "execution_count": 18
        }
      ]
    },
    {
      "cell_type": "code",
      "source": [
        "train.class_indices"
      ],
      "metadata": {
        "colab": {
          "base_uri": "https://localhost:8080/"
        },
        "id": "RJmy7VCHDiWR",
        "outputId": "8702ff7e-21f1-4217-e453-d55b57412258"
      },
      "execution_count": 19,
      "outputs": [
        {
          "output_type": "execute_result",
          "data": {
            "text/plain": [
              "{'blasti': 0,\n",
              " 'bonegl': 1,\n",
              " 'brhkyt': 2,\n",
              " 'cbrtsh': 3,\n",
              " 'cmnmyn': 4,\n",
              " 'gretit': 5,\n",
              " 'hilpig': 6,\n",
              " 'himbul': 7,\n",
              " 'himgri': 8,\n",
              " 'hsparo': 9,\n",
              " 'indvul': 10,\n",
              " 'jglowl': 11,\n",
              " 'lbicrw': 12,\n",
              " 'mgprob': 13,\n",
              " 'rebimg': 14,\n",
              " 'wcrsrt': 15}"
            ]
          },
          "metadata": {},
          "execution_count": 19
        }
      ]
    },
    {
      "cell_type": "code",
      "source": [
        "# 20BCE2041 -  MOGALAPU JAYA SRIKAR"
      ],
      "metadata": {
        "id": "M-VZkTlZYVni"
      },
      "execution_count": 154,
      "outputs": []
    },
    {
      "cell_type": "code",
      "source": [
        "test.class_indices"
      ],
      "metadata": {
        "colab": {
          "base_uri": "https://localhost:8080/"
        },
        "id": "Uu3aQN5xDqAZ",
        "outputId": "310b90cc-4e4d-4f01-d8ee-c0a854862a60"
      },
      "execution_count": 20,
      "outputs": [
        {
          "output_type": "execute_result",
          "data": {
            "text/plain": [
              "{'blasti': 0,\n",
              " 'bonegl': 1,\n",
              " 'brhkyt': 2,\n",
              " 'cbrtsh': 3,\n",
              " 'cmnmyn': 4,\n",
              " 'gretit': 5,\n",
              " 'hilpig': 6,\n",
              " 'himbul': 7,\n",
              " 'himgri': 8,\n",
              " 'hsparo': 9,\n",
              " 'indvul': 10,\n",
              " 'jglowl': 11,\n",
              " 'lbicrw': 12,\n",
              " 'mgprob': 13,\n",
              " 'rebimg': 14,\n",
              " 'wcrsrt': 15}"
            ]
          },
          "metadata": {},
          "execution_count": 20
        }
      ]
    },
    {
      "cell_type": "code",
      "source": [
        "np.argmax(model.predict(img))"
      ],
      "metadata": {
        "colab": {
          "base_uri": "https://localhost:8080/"
        },
        "id": "eSYCYQloD0cn",
        "outputId": "c3900f39-2d2e-4fd4-ee4b-46b578e412e6"
      },
      "execution_count": 21,
      "outputs": [
        {
          "output_type": "stream",
          "name": "stdout",
          "text": [
            "1/1 [==============================] - 0s 19ms/step\n"
          ]
        },
        {
          "output_type": "execute_result",
          "data": {
            "text/plain": [
              "5"
            ]
          },
          "metadata": {},
          "execution_count": 21
        }
      ]
    },
    {
      "cell_type": "code",
      "source": [
        "output = ['blasti','bonegl','brhkyt','cbrtsh','cmnmyn','gretit','hilpig','himbul','himgri','hsparo','indvul','jglowl','lbicrw','mgprob','rebimg','wcrsrt']"
      ],
      "metadata": {
        "id": "MOAkCAyDEWJD"
      },
      "execution_count": 22,
      "outputs": []
    },
    {
      "cell_type": "code",
      "source": [
        "output"
      ],
      "metadata": {
        "colab": {
          "base_uri": "https://localhost:8080/"
        },
        "id": "7_1eBTPnE644",
        "outputId": "b7d861e4-d81b-42f5-a90c-89bac5f68c0d"
      },
      "execution_count": 23,
      "outputs": [
        {
          "output_type": "execute_result",
          "data": {
            "text/plain": [
              "['blasti',\n",
              " 'bonegl',\n",
              " 'brhkyt',\n",
              " 'cbrtsh',\n",
              " 'cmnmyn',\n",
              " 'gretit',\n",
              " 'hilpig',\n",
              " 'himbul',\n",
              " 'himgri',\n",
              " 'hsparo',\n",
              " 'indvul',\n",
              " 'jglowl',\n",
              " 'lbicrw',\n",
              " 'mgprob',\n",
              " 'rebimg',\n",
              " 'wcrsrt']"
            ]
          },
          "metadata": {},
          "execution_count": 23
        }
      ]
    },
    {
      "cell_type": "code",
      "source": [
        "output[np.argmax(model.predict(img))]"
      ],
      "metadata": {
        "colab": {
          "base_uri": "https://localhost:8080/",
          "height": 53
        },
        "id": "CulEePxdE_2F",
        "outputId": "4abeb253-a48b-4882-b325-0fd80b478d4d"
      },
      "execution_count": 24,
      "outputs": [
        {
          "output_type": "stream",
          "name": "stdout",
          "text": [
            "1/1 [==============================] - 0s 18ms/step\n"
          ]
        },
        {
          "output_type": "execute_result",
          "data": {
            "text/plain": [
              "'gretit'"
            ],
            "application/vnd.google.colaboratory.intrinsic+json": {
              "type": "string"
            }
          },
          "metadata": {},
          "execution_count": 24
        }
      ]
    },
    {
      "cell_type": "markdown",
      "source": [
        "Model tuning"
      ],
      "metadata": {
        "id": "7i_xzG9eFtZp"
      }
    },
    {
      "cell_type": "code",
      "source": [
        "# Model tuning"
      ],
      "metadata": {
        "id": "AtI0P6UXFF4W"
      },
      "execution_count": 25,
      "outputs": []
    },
    {
      "cell_type": "code",
      "source": [
        "# 20BCE2041 - MOGALAPU JAYA SRIKAR"
      ],
      "metadata": {
        "id": "MuVE9JTHGAUP"
      },
      "execution_count": 26,
      "outputs": []
    },
    {
      "cell_type": "code",
      "source": [
        "model = Sequential()\n",
        "model.add(Convolution2D(12,(3,3),activation='relu',input_shape=(120, 120, 3)))\n",
        "model.add(MaxPooling2D(pool_size=(2,2)))\n",
        "model.add(Convolution2D(24,(3,3),activation='relu'))\n",
        "model.add(MaxPooling2D(pool_size=(2,2)))\n",
        "model.add(Convolution2D(36,(3,3),activation='relu'))\n",
        "model.add(MaxPooling2D(pool_size=(2,2)))\n",
        "model.add(Flatten())\n",
        "model.add(Dense(62,activation='relu'))\n",
        "model.add(Dense(32,activation='relu'))\n",
        "model.add(Dense(16,activation='relu'))\n",
        "model.add(Dense(16,activation='softmax'))"
      ],
      "metadata": {
        "id": "nuEZZlN6GEi3"
      },
      "execution_count": 27,
      "outputs": []
    },
    {
      "cell_type": "code",
      "source": [
        "model.summary()"
      ],
      "metadata": {
        "colab": {
          "base_uri": "https://localhost:8080/"
        },
        "id": "RcS9MNAKGka9",
        "outputId": "65ea8039-93f4-413a-cfed-853c89e158bf"
      },
      "execution_count": 28,
      "outputs": [
        {
          "output_type": "stream",
          "name": "stdout",
          "text": [
            "Model: \"sequential_1\"\n",
            "_________________________________________________________________\n",
            " Layer (type)                Output Shape              Param #   \n",
            "=================================================================\n",
            " conv2d_1 (Conv2D)           (None, 118, 118, 12)      336       \n",
            "                                                                 \n",
            " max_pooling2d_1 (MaxPooling  (None, 59, 59, 12)       0         \n",
            " 2D)                                                             \n",
            "                                                                 \n",
            " conv2d_2 (Conv2D)           (None, 57, 57, 24)        2616      \n",
            "                                                                 \n",
            " max_pooling2d_2 (MaxPooling  (None, 28, 28, 24)       0         \n",
            " 2D)                                                             \n",
            "                                                                 \n",
            " conv2d_3 (Conv2D)           (None, 26, 26, 36)        7812      \n",
            "                                                                 \n",
            " max_pooling2d_3 (MaxPooling  (None, 13, 13, 36)       0         \n",
            " 2D)                                                             \n",
            "                                                                 \n",
            " flatten_1 (Flatten)         (None, 6084)              0         \n",
            "                                                                 \n",
            " dense_2 (Dense)             (None, 62)                377270    \n",
            "                                                                 \n",
            " dense_3 (Dense)             (None, 32)                2016      \n",
            "                                                                 \n",
            " dense_4 (Dense)             (None, 16)                528       \n",
            "                                                                 \n",
            " dense_5 (Dense)             (None, 16)                272       \n",
            "                                                                 \n",
            "=================================================================\n",
            "Total params: 390,850\n",
            "Trainable params: 390,850\n",
            "Non-trainable params: 0\n",
            "_________________________________________________________________\n"
          ]
        }
      ]
    },
    {
      "cell_type": "code",
      "source": [
        "model.compile(optimizer='adam',loss='categorical_crossentropy',metrics=['accuracy'])"
      ],
      "metadata": {
        "id": "zVc-DT_dGntO"
      },
      "execution_count": 29,
      "outputs": []
    },
    {
      "cell_type": "code",
      "source": [
        "model.fit(train,batch_size=8,validation_data=test,epochs=10)"
      ],
      "metadata": {
        "colab": {
          "base_uri": "https://localhost:8080/"
        },
        "id": "ZTWLmFuaGqpX",
        "outputId": "c297691f-fb5b-4bd9-b967-837de2c151b7"
      },
      "execution_count": 91,
      "outputs": [
        {
          "output_type": "stream",
          "name": "stdout",
          "text": [
            "Epoch 1/10\n",
            "19/19 [==============================] - 93s 5s/step - loss: 2.7726 - accuracy: 0.0467 - val_loss: 2.7597 - val_accuracy: 0.0955\n",
            "Epoch 2/10\n",
            "19/19 [==============================] - 87s 5s/step - loss: 2.7628 - accuracy: 0.0467 - val_loss: 2.7503 - val_accuracy: 0.0701\n",
            "Epoch 3/10\n",
            "19/19 [==============================] - 87s 5s/step - loss: 2.7379 - accuracy: 0.0800 - val_loss: 2.7370 - val_accuracy: 0.0828\n",
            "Epoch 4/10\n",
            "19/19 [==============================] - 86s 5s/step - loss: 2.7209 - accuracy: 0.1600 - val_loss: 2.7365 - val_accuracy: 0.0764\n",
            "Epoch 5/10\n",
            "19/19 [==============================] - 119s 7s/step - loss: 2.6215 - accuracy: 0.2000 - val_loss: 2.6951 - val_accuracy: 0.1911\n",
            "Epoch 6/10\n",
            "19/19 [==============================] - 120s 7s/step - loss: 2.6187 - accuracy: 0.1667 - val_loss: 2.7378 - val_accuracy: 0.1338\n",
            "Epoch 7/10\n",
            "19/19 [==============================] - 86s 5s/step - loss: 2.5389 - accuracy: 0.2133 - val_loss: 2.7699 - val_accuracy: 0.1146\n",
            "Epoch 8/10\n",
            "19/19 [==============================] - 87s 5s/step - loss: 2.4723 - accuracy: 0.2000 - val_loss: 2.7323 - val_accuracy: 0.2293\n",
            "Epoch 9/10\n",
            "19/19 [==============================] - 87s 5s/step - loss: 2.4123 - accuracy: 0.1933 - val_loss: 2.8479 - val_accuracy: 0.1210\n",
            "Epoch 10/10\n",
            "19/19 [==============================] - 87s 5s/step - loss: 2.3594 - accuracy: 0.2400 - val_loss: 2.7329 - val_accuracy: 0.2293\n"
          ]
        },
        {
          "output_type": "execute_result",
          "data": {
            "text/plain": [
              "<keras.callbacks.History at 0x7f77c1b65840>"
            ]
          },
          "metadata": {},
          "execution_count": 91
        }
      ]
    },
    {
      "cell_type": "code",
      "source": [
        "# 20BCE2041 -  MOGALAPU JAYA SRIKAR"
      ],
      "metadata": {
        "id": "oDPo9mQ_YTiz"
      },
      "execution_count": 153,
      "outputs": []
    },
    {
      "cell_type": "code",
      "source": [
        "img"
      ],
      "metadata": {
        "colab": {
          "base_uri": "https://localhost:8080/"
        },
        "id": "qRFdreB8MxyD",
        "outputId": "22c30272-6f44-4a2f-fa45-12f10b8d9568"
      },
      "execution_count": 30,
      "outputs": [
        {
          "output_type": "execute_result",
          "data": {
            "text/plain": [
              "array([[[[ 83.,  47.,  49.],\n",
              "         [ 89.,  54.,  58.],\n",
              "         [108.,  78.,  78.],\n",
              "         ...,\n",
              "         [ 82.,  62.,  35.],\n",
              "         [ 28.,  18.,  19.],\n",
              "         [ 23.,  14.,  15.]],\n",
              "\n",
              "        [[ 99.,  69.,  67.],\n",
              "         [ 65.,  38.,  45.],\n",
              "         [ 70.,  38.,  51.],\n",
              "         ...,\n",
              "         [ 78.,  72.,  50.],\n",
              "         [ 38.,  24.,  21.],\n",
              "         [ 25.,  14.,  18.]],\n",
              "\n",
              "        [[118.,  71.,  77.],\n",
              "         [148.,  82.,  92.],\n",
              "         [ 61.,  34.,  41.],\n",
              "         ...,\n",
              "         [ 74.,  81.,  63.],\n",
              "         [ 57.,  55.,  34.],\n",
              "         [ 23.,  11.,  15.]],\n",
              "\n",
              "        ...,\n",
              "\n",
              "        [[197., 159., 136.],\n",
              "         [196., 158., 137.],\n",
              "         [198., 156., 132.],\n",
              "         ...,\n",
              "         [113., 102.,  96.],\n",
              "         [111., 102.,  69.],\n",
              "         [ 76.,  61.,  54.]],\n",
              "\n",
              "        [[178., 137., 115.],\n",
              "         [156., 119., 101.],\n",
              "         [177., 132., 111.],\n",
              "         ...,\n",
              "         [100.,  90.,  81.],\n",
              "         [ 90.,  80.,  53.],\n",
              "         [ 59.,  44.,  39.]],\n",
              "\n",
              "        [[137.,  96.,  94.],\n",
              "         [147., 104.,  85.],\n",
              "         [140.,  99.,  81.],\n",
              "         ...,\n",
              "         [ 75.,  68.,  60.],\n",
              "         [ 47.,  37.,  28.],\n",
              "         [ 58.,  45.,  39.]]]], dtype=float32)"
            ]
          },
          "metadata": {},
          "execution_count": 30
        }
      ]
    },
    {
      "cell_type": "code",
      "source": [
        "model.predict(img)"
      ],
      "metadata": {
        "colab": {
          "base_uri": "https://localhost:8080/"
        },
        "id": "XunLl2YJNLwY",
        "outputId": "fccc4175-bf6d-4bae-bee3-e6b005d902c6"
      },
      "execution_count": 31,
      "outputs": [
        {
          "output_type": "stream",
          "name": "stdout",
          "text": [
            "1/1 [==============================] - 0s 90ms/step\n"
          ]
        },
        {
          "output_type": "execute_result",
          "data": {
            "text/plain": [
              "array([[6.6741747e-01, 3.0750232e-24, 1.7647525e-32, 7.7896863e-11,\n",
              "        2.2133216e-29, 4.7157513e-04, 7.8592935e-33, 8.4123617e-16,\n",
              "        3.3201155e-01, 0.0000000e+00, 2.5972744e-09, 4.9435112e-36,\n",
              "        1.3107573e-10, 9.9409823e-05, 1.9329503e-26, 3.5929566e-23]],\n",
              "      dtype=float32)"
            ]
          },
          "metadata": {},
          "execution_count": 31
        }
      ]
    },
    {
      "cell_type": "code",
      "source": [
        "np.argmax(model.predict(img))"
      ],
      "metadata": {
        "colab": {
          "base_uri": "https://localhost:8080/"
        },
        "id": "1jtuEuyJNNWJ",
        "outputId": "e8a0b605-b62a-4e53-b76b-6aa8b728d2dc"
      },
      "execution_count": 32,
      "outputs": [
        {
          "output_type": "stream",
          "name": "stdout",
          "text": [
            "1/1 [==============================] - 0s 18ms/step\n"
          ]
        },
        {
          "output_type": "execute_result",
          "data": {
            "text/plain": [
              "0"
            ]
          },
          "metadata": {},
          "execution_count": 32
        }
      ]
    },
    {
      "cell_type": "code",
      "source": [
        "test.class_indices"
      ],
      "metadata": {
        "colab": {
          "base_uri": "https://localhost:8080/"
        },
        "id": "BQfWHXkyNTMJ",
        "outputId": "31f7af2a-ae7a-41b7-bc1e-0ee50f8fe4b2"
      },
      "execution_count": 33,
      "outputs": [
        {
          "output_type": "execute_result",
          "data": {
            "text/plain": [
              "{'blasti': 0,\n",
              " 'bonegl': 1,\n",
              " 'brhkyt': 2,\n",
              " 'cbrtsh': 3,\n",
              " 'cmnmyn': 4,\n",
              " 'gretit': 5,\n",
              " 'hilpig': 6,\n",
              " 'himbul': 7,\n",
              " 'himgri': 8,\n",
              " 'hsparo': 9,\n",
              " 'indvul': 10,\n",
              " 'jglowl': 11,\n",
              " 'lbicrw': 12,\n",
              " 'mgprob': 13,\n",
              " 'rebimg': 14,\n",
              " 'wcrsrt': 15}"
            ]
          },
          "metadata": {},
          "execution_count": 33
        }
      ]
    },
    {
      "cell_type": "code",
      "source": [
        "output[np.argmax(model.predict(img))]"
      ],
      "metadata": {
        "colab": {
          "base_uri": "https://localhost:8080/",
          "height": 53
        },
        "id": "I8yoHiMRNZwC",
        "outputId": "84a147c6-86b1-49df-af4c-e04e2bd8a9d0"
      },
      "execution_count": 34,
      "outputs": [
        {
          "output_type": "stream",
          "name": "stdout",
          "text": [
            "1/1 [==============================] - 0s 19ms/step\n"
          ]
        },
        {
          "output_type": "execute_result",
          "data": {
            "text/plain": [
              "'blasti'"
            ],
            "application/vnd.google.colaboratory.intrinsic+json": {
              "type": "string"
            }
          },
          "metadata": {},
          "execution_count": 34
        }
      ]
    },
    {
      "cell_type": "code",
      "source": [
        "# 20BCE2041 -  MOGALAPU JAYA SRIKAR"
      ],
      "metadata": {
        "id": "R0452kjVYSAF"
      },
      "execution_count": 152,
      "outputs": []
    },
    {
      "cell_type": "markdown",
      "source": [
        "Model tuning"
      ],
      "metadata": {
        "id": "qWxLbzMKNlHn"
      }
    },
    {
      "cell_type": "code",
      "source": [
        "# Model tuning"
      ],
      "metadata": {
        "id": "8-RH_-NhNedp"
      },
      "execution_count": 35,
      "outputs": []
    },
    {
      "cell_type": "code",
      "source": [
        "# 20BCE2041 - MOGALAPU JAYA SRIKAR"
      ],
      "metadata": {
        "id": "Uh4CjRE0NnsU"
      },
      "execution_count": 36,
      "outputs": []
    },
    {
      "cell_type": "code",
      "source": [
        "from tensorflow.keras.layers import BatchNormalization, Dropout"
      ],
      "metadata": {
        "id": "inenQfVJNrBJ"
      },
      "execution_count": 37,
      "outputs": []
    },
    {
      "cell_type": "code",
      "source": [
        "model = Sequential()\n",
        "model.add(Convolution2D(12,(3,3),activation='relu',input_shape=(120, 120, 3)))\n",
        "model.add(BatchNormalization())\n",
        "model.add(MaxPooling2D(pool_size=(2,2)))\n",
        "model.add(Dropout(0.2))\n",
        "model.add(Convolution2D(24,(3,3),activation='relu'))\n",
        "model.add(BatchNormalization())\n",
        "model.add(MaxPooling2D(pool_size=(2,2)))\n",
        "model.add(Dropout(0.2))\n",
        "model.add(Convolution2D(36,(3,3),activation='relu'))\n",
        "model.add(BatchNormalization())\n",
        "model.add(MaxPooling2D(pool_size=(2,2)))\n",
        "model.add(Dropout(0.2))\n",
        "model.add(Flatten())\n",
        "model.add(Dense(62,activation='relu'))\n",
        "model.add(BatchNormalization())\n",
        "model.add(Dropout(0.1))\n",
        "model.add(Dense(32,activation='relu'))\n",
        "model.add(Dense(16,activation='relu'))\n",
        "model.add(Dense(16,activation='softmax'))"
      ],
      "metadata": {
        "id": "n4aT6hJ-Ny16"
      },
      "execution_count": 38,
      "outputs": []
    },
    {
      "cell_type": "code",
      "source": [
        "model.summary()"
      ],
      "metadata": {
        "colab": {
          "base_uri": "https://localhost:8080/"
        },
        "id": "0Jhsyu9nOOEy",
        "outputId": "2d5ebaf8-647a-4bf6-8206-4dc169ed51fc"
      },
      "execution_count": 39,
      "outputs": [
        {
          "output_type": "stream",
          "name": "stdout",
          "text": [
            "Model: \"sequential_2\"\n",
            "_________________________________________________________________\n",
            " Layer (type)                Output Shape              Param #   \n",
            "=================================================================\n",
            " conv2d_4 (Conv2D)           (None, 118, 118, 12)      336       \n",
            "                                                                 \n",
            " batch_normalization (BatchN  (None, 118, 118, 12)     48        \n",
            " ormalization)                                                   \n",
            "                                                                 \n",
            " max_pooling2d_4 (MaxPooling  (None, 59, 59, 12)       0         \n",
            " 2D)                                                             \n",
            "                                                                 \n",
            " dropout (Dropout)           (None, 59, 59, 12)        0         \n",
            "                                                                 \n",
            " conv2d_5 (Conv2D)           (None, 57, 57, 24)        2616      \n",
            "                                                                 \n",
            " batch_normalization_1 (Batc  (None, 57, 57, 24)       96        \n",
            " hNormalization)                                                 \n",
            "                                                                 \n",
            " max_pooling2d_5 (MaxPooling  (None, 28, 28, 24)       0         \n",
            " 2D)                                                             \n",
            "                                                                 \n",
            " dropout_1 (Dropout)         (None, 28, 28, 24)        0         \n",
            "                                                                 \n",
            " conv2d_6 (Conv2D)           (None, 26, 26, 36)        7812      \n",
            "                                                                 \n",
            " batch_normalization_2 (Batc  (None, 26, 26, 36)       144       \n",
            " hNormalization)                                                 \n",
            "                                                                 \n",
            " max_pooling2d_6 (MaxPooling  (None, 13, 13, 36)       0         \n",
            " 2D)                                                             \n",
            "                                                                 \n",
            " dropout_2 (Dropout)         (None, 13, 13, 36)        0         \n",
            "                                                                 \n",
            " flatten_2 (Flatten)         (None, 6084)              0         \n",
            "                                                                 \n",
            " dense_6 (Dense)             (None, 62)                377270    \n",
            "                                                                 \n",
            " batch_normalization_3 (Batc  (None, 62)               248       \n",
            " hNormalization)                                                 \n",
            "                                                                 \n",
            " dropout_3 (Dropout)         (None, 62)                0         \n",
            "                                                                 \n",
            " dense_7 (Dense)             (None, 32)                2016      \n",
            "                                                                 \n",
            " dense_8 (Dense)             (None, 16)                528       \n",
            "                                                                 \n",
            " dense_9 (Dense)             (None, 16)                272       \n",
            "                                                                 \n",
            "=================================================================\n",
            "Total params: 391,386\n",
            "Trainable params: 391,118\n",
            "Non-trainable params: 268\n",
            "_________________________________________________________________\n"
          ]
        }
      ]
    },
    {
      "cell_type": "code",
      "source": [
        "model.compile(optimizer='adam',loss='categorical_crossentropy',metrics=['accuracy'])"
      ],
      "metadata": {
        "id": "Q-KkzizOORAy"
      },
      "execution_count": 40,
      "outputs": []
    },
    {
      "cell_type": "code",
      "source": [
        "from tensorflow.keras.callbacks import EarlyStopping"
      ],
      "metadata": {
        "id": "fGTVJEDWOVM6"
      },
      "execution_count": 41,
      "outputs": []
    },
    {
      "cell_type": "code",
      "source": [
        "earlystop = EarlyStopping(monitor='accuracy',patience=8)"
      ],
      "metadata": {
        "id": "wswEL4O7OX4o"
      },
      "execution_count": 42,
      "outputs": []
    },
    {
      "cell_type": "code",
      "source": [
        "model.fit(train,batch_size=8,validation_data=test,epochs=15,callbacks=earlystop)"
      ],
      "metadata": {
        "colab": {
          "base_uri": "https://localhost:8080/"
        },
        "id": "SEFQ9gqAOqmS",
        "outputId": "1c847e06-daac-4136-8396-e84382f334e5"
      },
      "execution_count": 106,
      "outputs": [
        {
          "output_type": "stream",
          "name": "stdout",
          "text": [
            "Epoch 1/15\n",
            "19/19 [==============================] - 94s 5s/step - loss: 2.8101 - accuracy: 0.1267 - val_loss: 2.7701 - val_accuracy: 0.1274\n",
            "Epoch 2/15\n",
            "19/19 [==============================] - 88s 5s/step - loss: 2.6061 - accuracy: 0.1333 - val_loss: 2.8894 - val_accuracy: 0.1274\n",
            "Epoch 3/15\n",
            "19/19 [==============================] - 88s 5s/step - loss: 2.4899 - accuracy: 0.2333 - val_loss: 3.0138 - val_accuracy: 0.1274\n",
            "Epoch 4/15\n",
            "19/19 [==============================] - 86s 5s/step - loss: 2.3662 - accuracy: 0.2933 - val_loss: 3.3190 - val_accuracy: 0.2166\n",
            "Epoch 5/15\n",
            "19/19 [==============================] - 87s 5s/step - loss: 2.3199 - accuracy: 0.3067 - val_loss: 3.4208 - val_accuracy: 0.1274\n",
            "Epoch 6/15\n",
            "19/19 [==============================] - 87s 5s/step - loss: 2.2477 - accuracy: 0.3400 - val_loss: 3.5262 - val_accuracy: 0.1274\n",
            "Epoch 7/15\n",
            "19/19 [==============================] - 87s 5s/step - loss: 2.1349 - accuracy: 0.4000 - val_loss: 3.9668 - val_accuracy: 0.1274\n",
            "Epoch 8/15\n",
            "19/19 [==============================] - 86s 5s/step - loss: 2.0841 - accuracy: 0.3667 - val_loss: 4.1507 - val_accuracy: 0.2038\n",
            "Epoch 9/15\n",
            "19/19 [==============================] - 119s 7s/step - loss: 2.0971 - accuracy: 0.3600 - val_loss: 4.4373 - val_accuracy: 0.1783\n",
            "Epoch 10/15\n",
            "19/19 [==============================] - 120s 7s/step - loss: 1.8864 - accuracy: 0.4800 - val_loss: 4.2204 - val_accuracy: 0.1274\n",
            "Epoch 11/15\n",
            "19/19 [==============================] - 88s 5s/step - loss: 1.9042 - accuracy: 0.4067 - val_loss: 3.9010 - val_accuracy: 0.1529\n",
            "Epoch 12/15\n",
            "19/19 [==============================] - 86s 5s/step - loss: 1.7843 - accuracy: 0.4400 - val_loss: 4.1562 - val_accuracy: 0.1019\n",
            "Epoch 13/15\n",
            "19/19 [==============================] - 89s 5s/step - loss: 1.7194 - accuracy: 0.5067 - val_loss: 3.9576 - val_accuracy: 0.0701\n",
            "Epoch 14/15\n",
            "19/19 [==============================] - 88s 5s/step - loss: 1.6285 - accuracy: 0.5000 - val_loss: 3.8581 - val_accuracy: 0.1338\n",
            "Epoch 15/15\n",
            "19/19 [==============================] - 85s 5s/step - loss: 1.5334 - accuracy: 0.4867 - val_loss: 4.2744 - val_accuracy: 0.0701\n"
          ]
        },
        {
          "output_type": "execute_result",
          "data": {
            "text/plain": [
              "<keras.callbacks.History at 0x7f77c1a62650>"
            ]
          },
          "metadata": {},
          "execution_count": 106
        }
      ]
    },
    {
      "cell_type": "code",
      "source": [
        "# 20BCE2041 -  MOGALAPU JAYA SRIKAR"
      ],
      "metadata": {
        "id": "TzQfWZkZYQEz"
      },
      "execution_count": 151,
      "outputs": []
    },
    {
      "cell_type": "code",
      "source": [
        "img"
      ],
      "metadata": {
        "colab": {
          "base_uri": "https://localhost:8080/"
        },
        "id": "_qIVDjgoVJEt",
        "outputId": "37ef9026-6454-42b0-c054-62c53c43f24f"
      },
      "execution_count": 43,
      "outputs": [
        {
          "output_type": "execute_result",
          "data": {
            "text/plain": [
              "array([[[[ 83.,  47.,  49.],\n",
              "         [ 89.,  54.,  58.],\n",
              "         [108.,  78.,  78.],\n",
              "         ...,\n",
              "         [ 82.,  62.,  35.],\n",
              "         [ 28.,  18.,  19.],\n",
              "         [ 23.,  14.,  15.]],\n",
              "\n",
              "        [[ 99.,  69.,  67.],\n",
              "         [ 65.,  38.,  45.],\n",
              "         [ 70.,  38.,  51.],\n",
              "         ...,\n",
              "         [ 78.,  72.,  50.],\n",
              "         [ 38.,  24.,  21.],\n",
              "         [ 25.,  14.,  18.]],\n",
              "\n",
              "        [[118.,  71.,  77.],\n",
              "         [148.,  82.,  92.],\n",
              "         [ 61.,  34.,  41.],\n",
              "         ...,\n",
              "         [ 74.,  81.,  63.],\n",
              "         [ 57.,  55.,  34.],\n",
              "         [ 23.,  11.,  15.]],\n",
              "\n",
              "        ...,\n",
              "\n",
              "        [[197., 159., 136.],\n",
              "         [196., 158., 137.],\n",
              "         [198., 156., 132.],\n",
              "         ...,\n",
              "         [113., 102.,  96.],\n",
              "         [111., 102.,  69.],\n",
              "         [ 76.,  61.,  54.]],\n",
              "\n",
              "        [[178., 137., 115.],\n",
              "         [156., 119., 101.],\n",
              "         [177., 132., 111.],\n",
              "         ...,\n",
              "         [100.,  90.,  81.],\n",
              "         [ 90.,  80.,  53.],\n",
              "         [ 59.,  44.,  39.]],\n",
              "\n",
              "        [[137.,  96.,  94.],\n",
              "         [147., 104.,  85.],\n",
              "         [140.,  99.,  81.],\n",
              "         ...,\n",
              "         [ 75.,  68.,  60.],\n",
              "         [ 47.,  37.,  28.],\n",
              "         [ 58.,  45.,  39.]]]], dtype=float32)"
            ]
          },
          "metadata": {},
          "execution_count": 43
        }
      ]
    },
    {
      "cell_type": "code",
      "source": [
        "model.predict(img)"
      ],
      "metadata": {
        "colab": {
          "base_uri": "https://localhost:8080/"
        },
        "id": "YpIderI1WHj6",
        "outputId": "8eb37874-f00d-4b26-d210-d9e7adbc03a1"
      },
      "execution_count": 44,
      "outputs": [
        {
          "output_type": "stream",
          "name": "stdout",
          "text": [
            "1/1 [==============================] - 0s 127ms/step\n"
          ]
        },
        {
          "output_type": "execute_result",
          "data": {
            "text/plain": [
              "array([[4.04164780e-26, 2.06531884e-04, 4.29727968e-32, 1.04839514e-26,\n",
              "        2.37577016e-20, 1.05814437e-15, 8.83709231e-36, 6.18046868e-30,\n",
              "        2.07743729e-29, 1.59380549e-21, 3.24218030e-09, 0.00000000e+00,\n",
              "        1.19736728e-06, 9.75599462e-11, 9.99792278e-01, 9.26407875e-16]],\n",
              "      dtype=float32)"
            ]
          },
          "metadata": {},
          "execution_count": 44
        }
      ]
    },
    {
      "cell_type": "code",
      "source": [
        "np.argmax(model.predict(img))"
      ],
      "metadata": {
        "colab": {
          "base_uri": "https://localhost:8080/"
        },
        "id": "zExO5I9UWPFZ",
        "outputId": "35ecebc0-a422-43b8-f62c-23caa8a4b69f"
      },
      "execution_count": 45,
      "outputs": [
        {
          "output_type": "stream",
          "name": "stdout",
          "text": [
            "1/1 [==============================] - 0s 19ms/step\n"
          ]
        },
        {
          "output_type": "execute_result",
          "data": {
            "text/plain": [
              "14"
            ]
          },
          "metadata": {},
          "execution_count": 45
        }
      ]
    },
    {
      "cell_type": "code",
      "source": [
        "test.class_indices"
      ],
      "metadata": {
        "colab": {
          "base_uri": "https://localhost:8080/"
        },
        "id": "5BfXDLa1WST5",
        "outputId": "288e0733-e0d3-440d-b8d9-26e79b611c31"
      },
      "execution_count": 46,
      "outputs": [
        {
          "output_type": "execute_result",
          "data": {
            "text/plain": [
              "{'blasti': 0,\n",
              " 'bonegl': 1,\n",
              " 'brhkyt': 2,\n",
              " 'cbrtsh': 3,\n",
              " 'cmnmyn': 4,\n",
              " 'gretit': 5,\n",
              " 'hilpig': 6,\n",
              " 'himbul': 7,\n",
              " 'himgri': 8,\n",
              " 'hsparo': 9,\n",
              " 'indvul': 10,\n",
              " 'jglowl': 11,\n",
              " 'lbicrw': 12,\n",
              " 'mgprob': 13,\n",
              " 'rebimg': 14,\n",
              " 'wcrsrt': 15}"
            ]
          },
          "metadata": {},
          "execution_count": 46
        }
      ]
    },
    {
      "cell_type": "code",
      "source": [
        "output[np.argmax(model.predict(img))]"
      ],
      "metadata": {
        "colab": {
          "base_uri": "https://localhost:8080/",
          "height": 53
        },
        "id": "6mglR0lGWaXJ",
        "outputId": "c398c1d2-40b4-483d-e9f5-d63487699b05"
      },
      "execution_count": 47,
      "outputs": [
        {
          "output_type": "stream",
          "name": "stdout",
          "text": [
            "1/1 [==============================] - 0s 18ms/step\n"
          ]
        },
        {
          "output_type": "execute_result",
          "data": {
            "text/plain": [
              "'rebimg'"
            ],
            "application/vnd.google.colaboratory.intrinsic+json": {
              "type": "string"
            }
          },
          "metadata": {},
          "execution_count": 47
        }
      ]
    },
    {
      "cell_type": "markdown",
      "source": [
        "Transfer Learning"
      ],
      "metadata": {
        "id": "40IjHlGHWseD"
      }
    },
    {
      "cell_type": "code",
      "source": [
        "#  Transfer Learning"
      ],
      "metadata": {
        "id": "OgOtx-BgWfsr"
      },
      "execution_count": 61,
      "outputs": []
    },
    {
      "cell_type": "code",
      "source": [
        "#  20BCE2041 - MOGALAPU JAYA SRIKAR"
      ],
      "metadata": {
        "id": "uLp60QRfWwkx"
      },
      "execution_count": 62,
      "outputs": []
    },
    {
      "cell_type": "code",
      "source": [
        "from tensorflow.keras.layers import Dense,Flatten,Input\n",
        "from tensorflow.keras.models import Model\n",
        "from tensorflow.keras.preprocessing import image\n",
        "from tensorflow.keras.preprocessing.image import ImageDataGenerator, load_img\n",
        "import numpy as np"
      ],
      "metadata": {
        "id": "QnDr4V_T2apr"
      },
      "execution_count": 63,
      "outputs": []
    },
    {
      "cell_type": "code",
      "source": [
        "train_path = \"/content/train_data/train_data\"\n",
        "test_path = \"/content/test_data/test_data\""
      ],
      "metadata": {
        "id": "KfJn-MzE2kbj"
      },
      "execution_count": 64,
      "outputs": []
    },
    {
      "cell_type": "code",
      "source": [
        "train_gen = ImageDataGenerator(rescale=1./255,shear_range=0.2,zoom_range=0.2,horizontal_flip=True)\n",
        "test_gen = ImageDataGenerator(rescale=1./255) "
      ],
      "metadata": {
        "id": "Ec7Bv1TW3nr5"
      },
      "execution_count": 65,
      "outputs": []
    },
    {
      "cell_type": "code",
      "source": [
        "train = train_gen.flow_from_directory(train_path,target_size=(224,224),batch_size=22,class_mode='categorical')\n",
        "test = test_gen.flow_from_directory(test_path,target_size=(224,224),batch_size=22,class_mode='categorical')"
      ],
      "metadata": {
        "colab": {
          "base_uri": "https://localhost:8080/"
        },
        "id": "x62Gvtcw3v1M",
        "outputId": "e18fa64e-51d3-465d-f889-e856a6ece2ee"
      },
      "execution_count": 66,
      "outputs": [
        {
          "output_type": "stream",
          "name": "stdout",
          "text": [
            "Found 150 images belonging to 16 classes.\n",
            "Found 157 images belonging to 16 classes.\n"
          ]
        }
      ]
    },
    {
      "cell_type": "code",
      "source": [
        "# 20BCE2041 -  MOGALAPU JAYA SRIKAR"
      ],
      "metadata": {
        "id": "RDwa7NuLYOHK"
      },
      "execution_count": 150,
      "outputs": []
    },
    {
      "cell_type": "code",
      "source": [
        "#  ResNet50"
      ],
      "metadata": {
        "id": "rOX-lvM4W1Th"
      },
      "execution_count": 67,
      "outputs": []
    },
    {
      "cell_type": "code",
      "source": [
        "from tensorflow.keras.applications.resnet50 import ResNet50"
      ],
      "metadata": {
        "id": "irQ_3SsIW_XB"
      },
      "execution_count": 68,
      "outputs": []
    },
    {
      "cell_type": "code",
      "source": [
        "resnet = ResNet50(include_top=False,input_shape=(224,224,3))"
      ],
      "metadata": {
        "id": "vslvvMKiXH1y"
      },
      "execution_count": 70,
      "outputs": []
    },
    {
      "cell_type": "code",
      "source": [
        "# 20BCE2041 -  MOGALAPU JAYA SRIKAR"
      ],
      "metadata": {
        "id": "A-zjYIddYM_y"
      },
      "execution_count": 149,
      "outputs": []
    },
    {
      "cell_type": "code",
      "source": [
        "for layer in resnet.layers:\n",
        "  layer.trainable=False"
      ],
      "metadata": {
        "id": "0251s-FCblE4"
      },
      "execution_count": 71,
      "outputs": []
    },
    {
      "cell_type": "code",
      "source": [
        "for layer in resnet.layers:\n",
        "  print(layer)"
      ],
      "metadata": {
        "colab": {
          "base_uri": "https://localhost:8080/"
        },
        "id": "be0MT5rWbqXR",
        "outputId": "7157108a-6148-4083-8ab6-366640bff5a9"
      },
      "execution_count": 73,
      "outputs": [
        {
          "output_type": "stream",
          "name": "stdout",
          "text": [
            "<keras.engine.input_layer.InputLayer object at 0x7f5954325a50>\n",
            "<keras.layers.reshaping.zero_padding2d.ZeroPadding2D object at 0x7f5954216860>\n",
            "<keras.layers.convolutional.conv2d.Conv2D object at 0x7f5954324310>\n",
            "<keras.layers.normalization.batch_normalization.BatchNormalization object at 0x7f595c1fbaf0>\n",
            "<keras.layers.core.activation.Activation object at 0x7f595c1fb190>\n",
            "<keras.layers.reshaping.zero_padding2d.ZeroPadding2D object at 0x7f5954239bd0>\n",
            "<keras.layers.pooling.max_pooling2d.MaxPooling2D object at 0x7f5954238f40>\n",
            "<keras.layers.convolutional.conv2d.Conv2D object at 0x7f595423baf0>\n",
            "<keras.layers.normalization.batch_normalization.BatchNormalization object at 0x7f595423a4a0>\n",
            "<keras.layers.core.activation.Activation object at 0x7f595423ad70>\n",
            "<keras.layers.convolutional.conv2d.Conv2D object at 0x7f595428dc30>\n",
            "<keras.layers.normalization.batch_normalization.BatchNormalization object at 0x7f595428e9b0>\n",
            "<keras.layers.core.activation.Activation object at 0x7f595428ec80>\n",
            "<keras.layers.convolutional.conv2d.Conv2D object at 0x7f5954217640>\n",
            "<keras.layers.convolutional.conv2d.Conv2D object at 0x7f595428f5e0>\n",
            "<keras.layers.normalization.batch_normalization.BatchNormalization object at 0x7f595423bd30>\n",
            "<keras.layers.normalization.batch_normalization.BatchNormalization object at 0x7f595428e620>\n",
            "<keras.layers.merging.add.Add object at 0x7f595428f6a0>\n",
            "<keras.layers.core.activation.Activation object at 0x7f595428fac0>\n",
            "<keras.layers.convolutional.conv2d.Conv2D object at 0x7f5954279510>\n",
            "<keras.layers.normalization.batch_normalization.BatchNormalization object at 0x7f595427aad0>\n",
            "<keras.layers.core.activation.Activation object at 0x7f595428e4a0>\n",
            "<keras.layers.convolutional.conv2d.Conv2D object at 0x7f595428d990>\n",
            "<keras.layers.normalization.batch_normalization.BatchNormalization object at 0x7f595428f7c0>\n",
            "<keras.layers.core.activation.Activation object at 0x7f5954216920>\n",
            "<keras.layers.convolutional.conv2d.Conv2D object at 0x7f5954214700>\n",
            "<keras.layers.normalization.batch_normalization.BatchNormalization object at 0x7f59541b4130>\n",
            "<keras.layers.merging.add.Add object at 0x7f59541caa70>\n",
            "<keras.layers.core.activation.Activation object at 0x7f59541e84f0>\n",
            "<keras.layers.convolutional.conv2d.Conv2D object at 0x7f5954175ae0>\n",
            "<keras.layers.normalization.batch_normalization.BatchNormalization object at 0x7f59542781c0>\n",
            "<keras.layers.core.activation.Activation object at 0x7f5954215d20>\n",
            "<keras.layers.convolutional.conv2d.Conv2D object at 0x7f595423a530>\n",
            "<keras.layers.normalization.batch_normalization.BatchNormalization object at 0x7f5954278b20>\n",
            "<keras.layers.core.activation.Activation object at 0x7f5954278f10>\n",
            "<keras.layers.convolutional.conv2d.Conv2D object at 0x7f595429de70>\n",
            "<keras.layers.normalization.batch_normalization.BatchNormalization object at 0x7f595429ee30>\n",
            "<keras.layers.merging.add.Add object at 0x7f595429df00>\n",
            "<keras.layers.core.activation.Activation object at 0x7f595429ea70>\n",
            "<keras.layers.convolutional.conv2d.Conv2D object at 0x7f595429e200>\n",
            "<keras.layers.normalization.batch_normalization.BatchNormalization object at 0x7f595429faf0>\n",
            "<keras.layers.core.activation.Activation object at 0x7f595429ff10>\n",
            "<keras.layers.convolutional.conv2d.Conv2D object at 0x7f59542c7040>\n",
            "<keras.layers.normalization.batch_normalization.BatchNormalization object at 0x7f59542c7ac0>\n",
            "<keras.layers.core.activation.Activation object at 0x7f59542c4f70>\n",
            "<keras.layers.convolutional.conv2d.Conv2D object at 0x7f595429fb50>\n",
            "<keras.layers.convolutional.conv2d.Conv2D object at 0x7f59542c6ce0>\n",
            "<keras.layers.normalization.batch_normalization.BatchNormalization object at 0x7f595429ec80>\n",
            "<keras.layers.normalization.batch_normalization.BatchNormalization object at 0x7f59542e21a0>\n",
            "<keras.layers.merging.add.Add object at 0x7f59542c7af0>\n",
            "<keras.layers.core.activation.Activation object at 0x7f59542e3580>\n",
            "<keras.layers.convolutional.conv2d.Conv2D object at 0x7f59542e2740>\n",
            "<keras.layers.normalization.batch_normalization.BatchNormalization object at 0x7f59542e08e0>\n",
            "<keras.layers.core.activation.Activation object at 0x7f59542e24a0>\n",
            "<keras.layers.convolutional.conv2d.Conv2D object at 0x7f59542e0070>\n",
            "<keras.layers.normalization.batch_normalization.BatchNormalization object at 0x7f59542f1e40>\n",
            "<keras.layers.core.activation.Activation object at 0x7f59542f2110>\n",
            "<keras.layers.convolutional.conv2d.Conv2D object at 0x7f59542f2a70>\n",
            "<keras.layers.normalization.batch_normalization.BatchNormalization object at 0x7f59542f3af0>\n",
            "<keras.layers.merging.add.Add object at 0x7f59542f2b30>\n",
            "<keras.layers.core.activation.Activation object at 0x7f59542f2380>\n",
            "<keras.layers.convolutional.conv2d.Conv2D object at 0x7f59542f0580>\n",
            "<keras.layers.normalization.batch_normalization.BatchNormalization object at 0x7f59542f1750>\n",
            "<keras.layers.core.activation.Activation object at 0x7f59542e0c40>\n",
            "<keras.layers.convolutional.conv2d.Conv2D object at 0x7f59542e3c40>\n",
            "<keras.layers.normalization.batch_normalization.BatchNormalization object at 0x7f59542f12a0>\n",
            "<keras.layers.core.activation.Activation object at 0x7f59542c7f10>\n",
            "<keras.layers.convolutional.conv2d.Conv2D object at 0x7f59542f1960>\n",
            "<keras.layers.normalization.batch_normalization.BatchNormalization object at 0x7f595429d060>\n",
            "<keras.layers.merging.add.Add object at 0x7f5954190c10>\n",
            "<keras.layers.core.activation.Activation object at 0x7f59541b63e0>\n",
            "<keras.layers.convolutional.conv2d.Conv2D object at 0x7f595428d900>\n",
            "<keras.layers.normalization.batch_normalization.BatchNormalization object at 0x7f595428cac0>\n",
            "<keras.layers.core.activation.Activation object at 0x7f595429c640>\n",
            "<keras.layers.convolutional.conv2d.Conv2D object at 0x7f595427b2b0>\n",
            "<keras.layers.normalization.batch_normalization.BatchNormalization object at 0x7f5954b1b160>\n",
            "<keras.layers.core.activation.Activation object at 0x7f5954b1ae90>\n",
            "<keras.layers.convolutional.conv2d.Conv2D object at 0x7f5954b1bd90>\n",
            "<keras.layers.normalization.batch_normalization.BatchNormalization object at 0x7f5954b1afb0>\n",
            "<keras.layers.merging.add.Add object at 0x7f5954b1be50>\n",
            "<keras.layers.core.activation.Activation object at 0x7f5954b1be20>\n",
            "<keras.layers.convolutional.conv2d.Conv2D object at 0x7f5954b2db40>\n",
            "<keras.layers.normalization.batch_normalization.BatchNormalization object at 0x7f5954b2fd30>\n",
            "<keras.layers.core.activation.Activation object at 0x7f5954b2fd60>\n",
            "<keras.layers.convolutional.conv2d.Conv2D object at 0x7f5954b2e2c0>\n",
            "<keras.layers.normalization.batch_normalization.BatchNormalization object at 0x7f5954b4a4d0>\n",
            "<keras.layers.core.activation.Activation object at 0x7f5954b4b970>\n",
            "<keras.layers.convolutional.conv2d.Conv2D object at 0x7f5954b1beb0>\n",
            "<keras.layers.convolutional.conv2d.Conv2D object at 0x7f5954b4b100>\n",
            "<keras.layers.normalization.batch_normalization.BatchNormalization object at 0x7f5954b2f1f0>\n",
            "<keras.layers.normalization.batch_normalization.BatchNormalization object at 0x7f5954b4bb80>\n",
            "<keras.layers.merging.add.Add object at 0x7f5954b4b1c0>\n",
            "<keras.layers.core.activation.Activation object at 0x7f5954b49e40>\n",
            "<keras.layers.convolutional.conv2d.Conv2D object at 0x7f5954b60fd0>\n",
            "<keras.layers.normalization.batch_normalization.BatchNormalization object at 0x7f5954b625c0>\n",
            "<keras.layers.core.activation.Activation object at 0x7f5954b62230>\n",
            "<keras.layers.convolutional.conv2d.Conv2D object at 0x7f5954b631f0>\n",
            "<keras.layers.normalization.batch_normalization.BatchNormalization object at 0x7f5954b63e20>\n",
            "<keras.layers.core.activation.Activation object at 0x7f5954b62350>\n",
            "<keras.layers.convolutional.conv2d.Conv2D object at 0x7f5954b63640>\n",
            "<keras.layers.normalization.batch_normalization.BatchNormalization object at 0x7f5954b63730>\n",
            "<keras.layers.merging.add.Add object at 0x7f5954b499f0>\n",
            "<keras.layers.core.activation.Activation object at 0x7f5954b48130>\n",
            "<keras.layers.convolutional.conv2d.Conv2D object at 0x7f5954b2e4d0>\n",
            "<keras.layers.normalization.batch_normalization.BatchNormalization object at 0x7f5954b621a0>\n",
            "<keras.layers.core.activation.Activation object at 0x7f5954b4a7a0>\n",
            "<keras.layers.convolutional.conv2d.Conv2D object at 0x7f5954b18e50>\n",
            "<keras.layers.normalization.batch_normalization.BatchNormalization object at 0x7f59542c71f0>\n",
            "<keras.layers.core.activation.Activation object at 0x7f5954b633d0>\n",
            "<keras.layers.convolutional.conv2d.Conv2D object at 0x7f5954b18520>\n",
            "<keras.layers.normalization.batch_normalization.BatchNormalization object at 0x7f595427b1f0>\n",
            "<keras.layers.merging.add.Add object at 0x7f5954b1a800>\n",
            "<keras.layers.core.activation.Activation object at 0x7f5954b7e0b0>\n",
            "<keras.layers.convolutional.conv2d.Conv2D object at 0x7f5954b7e4a0>\n",
            "<keras.layers.normalization.batch_normalization.BatchNormalization object at 0x7f5954b7fdf0>\n",
            "<keras.layers.core.activation.Activation object at 0x7f5954b7fbb0>\n",
            "<keras.layers.convolutional.conv2d.Conv2D object at 0x7f5954b7f850>\n",
            "<keras.layers.normalization.batch_normalization.BatchNormalization object at 0x7f5954b7e5c0>\n",
            "<keras.layers.core.activation.Activation object at 0x7f5954b7ef80>\n",
            "<keras.layers.convolutional.conv2d.Conv2D object at 0x7f5954b98af0>\n",
            "<keras.layers.normalization.batch_normalization.BatchNormalization object at 0x7f5954b9ae60>\n",
            "<keras.layers.merging.add.Add object at 0x7f5954b7d3c0>\n",
            "<keras.layers.core.activation.Activation object at 0x7f5954b98820>\n",
            "<keras.layers.convolutional.conv2d.Conv2D object at 0x7f5954b9a110>\n",
            "<keras.layers.normalization.batch_normalization.BatchNormalization object at 0x7f5954b9b760>\n",
            "<keras.layers.core.activation.Activation object at 0x7f5954b9a980>\n",
            "<keras.layers.convolutional.conv2d.Conv2D object at 0x7f5954bb0dc0>\n",
            "<keras.layers.normalization.batch_normalization.BatchNormalization object at 0x7f5954bb2650>\n",
            "<keras.layers.core.activation.Activation object at 0x7f5954bb2e60>\n",
            "<keras.layers.convolutional.conv2d.Conv2D object at 0x7f5954bb1ba0>\n",
            "<keras.layers.normalization.batch_normalization.BatchNormalization object at 0x7f5954bb3070>\n",
            "<keras.layers.merging.add.Add object at 0x7f5954bb1a50>\n",
            "<keras.layers.core.activation.Activation object at 0x7f5954bb3730>\n",
            "<keras.layers.convolutional.conv2d.Conv2D object at 0x7f5954bb30a0>\n",
            "<keras.layers.normalization.batch_normalization.BatchNormalization object at 0x7f5954bb3370>\n",
            "<keras.layers.core.activation.Activation object at 0x7f5954bb3580>\n",
            "<keras.layers.convolutional.conv2d.Conv2D object at 0x7f5954bcc0d0>\n",
            "<keras.layers.normalization.batch_normalization.BatchNormalization object at 0x7f5954bce830>\n",
            "<keras.layers.core.activation.Activation object at 0x7f5954bcd7b0>\n",
            "<keras.layers.convolutional.conv2d.Conv2D object at 0x7f5954bcec20>\n",
            "<keras.layers.normalization.batch_normalization.BatchNormalization object at 0x7f5954bb3d00>\n",
            "<keras.layers.merging.add.Add object at 0x7f5954bb0d90>\n",
            "<keras.layers.core.activation.Activation object at 0x7f5954bcd600>\n",
            "<keras.layers.convolutional.conv2d.Conv2D object at 0x7f59542e1cc0>\n",
            "<keras.layers.normalization.batch_normalization.BatchNormalization object at 0x7f5954b1a3b0>\n",
            "<keras.layers.core.activation.Activation object at 0x7f5954b4a020>\n",
            "<keras.layers.convolutional.conv2d.Conv2D object at 0x7f5954bceef0>\n",
            "<keras.layers.normalization.batch_normalization.BatchNormalization object at 0x7f5954b98430>\n",
            "<keras.layers.core.activation.Activation object at 0x7f5954bcef50>\n",
            "<keras.layers.convolutional.conv2d.Conv2D object at 0x7f5954b9aaa0>\n",
            "<keras.layers.convolutional.conv2d.Conv2D object at 0x7f5954be5db0>\n",
            "<keras.layers.normalization.batch_normalization.BatchNormalization object at 0x7f595429e380>\n",
            "<keras.layers.normalization.batch_normalization.BatchNormalization object at 0x7f5954be6e00>\n",
            "<keras.layers.merging.add.Add object at 0x7f5954be5e40>\n",
            "<keras.layers.core.activation.Activation object at 0x7f5954be6ad0>\n",
            "<keras.layers.convolutional.conv2d.Conv2D object at 0x7f5954be73a0>\n",
            "<keras.layers.normalization.batch_normalization.BatchNormalization object at 0x7f5954be6a70>\n",
            "<keras.layers.core.activation.Activation object at 0x7f5954be7160>\n",
            "<keras.layers.convolutional.conv2d.Conv2D object at 0x7f5954be7790>\n",
            "<keras.layers.normalization.batch_normalization.BatchNormalization object at 0x7f5954c02b30>\n",
            "<keras.layers.core.activation.Activation object at 0x7f5954c02860>\n",
            "<keras.layers.convolutional.conv2d.Conv2D object at 0x7f5954c03760>\n",
            "<keras.layers.normalization.batch_normalization.BatchNormalization object at 0x7f5954c02e60>\n",
            "<keras.layers.merging.add.Add object at 0x7f5954c03820>\n",
            "<keras.layers.core.activation.Activation object at 0x7f5954c03910>\n",
            "<keras.layers.convolutional.conv2d.Conv2D object at 0x7f5954a21960>\n",
            "<keras.layers.normalization.batch_normalization.BatchNormalization object at 0x7f5954a22c20>\n",
            "<keras.layers.core.activation.Activation object at 0x7f5954a22470>\n",
            "<keras.layers.convolutional.conv2d.Conv2D object at 0x7f5954a23850>\n",
            "<keras.layers.normalization.batch_normalization.BatchNormalization object at 0x7f5954a21d80>\n",
            "<keras.layers.core.activation.Activation object at 0x7f5954a23ca0>\n",
            "<keras.layers.convolutional.conv2d.Conv2D object at 0x7f5954a23f10>\n",
            "<keras.layers.normalization.batch_normalization.BatchNormalization object at 0x7f5954a3e1a0>\n",
            "<keras.layers.merging.add.Add object at 0x7f5954a23310>\n",
            "<keras.layers.core.activation.Activation object at 0x7f5954a3f580>\n"
          ]
        }
      ]
    },
    {
      "cell_type": "code",
      "source": [
        "x = Flatten()(resnet.output)"
      ],
      "metadata": {
        "id": "olnjpz5EbtdY"
      },
      "execution_count": 74,
      "outputs": []
    },
    {
      "cell_type": "code",
      "source": [
        "out = Dense(16, activation='softmax')(x)"
      ],
      "metadata": {
        "id": "j66w6cvScDc4"
      },
      "execution_count": 75,
      "outputs": []
    },
    {
      "cell_type": "code",
      "source": [
        "res_model = Model(inputs=resnet.input,outputs=out)"
      ],
      "metadata": {
        "id": "BFY9zk-Oxdhw"
      },
      "execution_count": 77,
      "outputs": []
    },
    {
      "cell_type": "code",
      "source": [
        "res_model.summary()"
      ],
      "metadata": {
        "colab": {
          "base_uri": "https://localhost:8080/"
        },
        "id": "ZRttmVY44sDD",
        "outputId": "cffff50a-7c1e-400f-b05f-3d274dd0271b"
      },
      "execution_count": 78,
      "outputs": [
        {
          "output_type": "stream",
          "name": "stdout",
          "text": [
            "Model: \"model_1\"\n",
            "__________________________________________________________________________________________________\n",
            " Layer (type)                   Output Shape         Param #     Connected to                     \n",
            "==================================================================================================\n",
            " input_3 (InputLayer)           [(None, 224, 224, 3  0           []                               \n",
            "                                )]                                                                \n",
            "                                                                                                  \n",
            " conv1_pad (ZeroPadding2D)      (None, 230, 230, 3)  0           ['input_3[0][0]']                \n",
            "                                                                                                  \n",
            " conv1_conv (Conv2D)            (None, 112, 112, 64  9472        ['conv1_pad[0][0]']              \n",
            "                                )                                                                 \n",
            "                                                                                                  \n",
            " conv1_bn (BatchNormalization)  (None, 112, 112, 64  256         ['conv1_conv[0][0]']             \n",
            "                                )                                                                 \n",
            "                                                                                                  \n",
            " conv1_relu (Activation)        (None, 112, 112, 64  0           ['conv1_bn[0][0]']               \n",
            "                                )                                                                 \n",
            "                                                                                                  \n",
            " pool1_pad (ZeroPadding2D)      (None, 114, 114, 64  0           ['conv1_relu[0][0]']             \n",
            "                                )                                                                 \n",
            "                                                                                                  \n",
            " pool1_pool (MaxPooling2D)      (None, 56, 56, 64)   0           ['pool1_pad[0][0]']              \n",
            "                                                                                                  \n",
            " conv2_block1_1_conv (Conv2D)   (None, 56, 56, 64)   4160        ['pool1_pool[0][0]']             \n",
            "                                                                                                  \n",
            " conv2_block1_1_bn (BatchNormal  (None, 56, 56, 64)  256         ['conv2_block1_1_conv[0][0]']    \n",
            " ization)                                                                                         \n",
            "                                                                                                  \n",
            " conv2_block1_1_relu (Activatio  (None, 56, 56, 64)  0           ['conv2_block1_1_bn[0][0]']      \n",
            " n)                                                                                               \n",
            "                                                                                                  \n",
            " conv2_block1_2_conv (Conv2D)   (None, 56, 56, 64)   36928       ['conv2_block1_1_relu[0][0]']    \n",
            "                                                                                                  \n",
            " conv2_block1_2_bn (BatchNormal  (None, 56, 56, 64)  256         ['conv2_block1_2_conv[0][0]']    \n",
            " ization)                                                                                         \n",
            "                                                                                                  \n",
            " conv2_block1_2_relu (Activatio  (None, 56, 56, 64)  0           ['conv2_block1_2_bn[0][0]']      \n",
            " n)                                                                                               \n",
            "                                                                                                  \n",
            " conv2_block1_0_conv (Conv2D)   (None, 56, 56, 256)  16640       ['pool1_pool[0][0]']             \n",
            "                                                                                                  \n",
            " conv2_block1_3_conv (Conv2D)   (None, 56, 56, 256)  16640       ['conv2_block1_2_relu[0][0]']    \n",
            "                                                                                                  \n",
            " conv2_block1_0_bn (BatchNormal  (None, 56, 56, 256)  1024       ['conv2_block1_0_conv[0][0]']    \n",
            " ization)                                                                                         \n",
            "                                                                                                  \n",
            " conv2_block1_3_bn (BatchNormal  (None, 56, 56, 256)  1024       ['conv2_block1_3_conv[0][0]']    \n",
            " ization)                                                                                         \n",
            "                                                                                                  \n",
            " conv2_block1_add (Add)         (None, 56, 56, 256)  0           ['conv2_block1_0_bn[0][0]',      \n",
            "                                                                  'conv2_block1_3_bn[0][0]']      \n",
            "                                                                                                  \n",
            " conv2_block1_out (Activation)  (None, 56, 56, 256)  0           ['conv2_block1_add[0][0]']       \n",
            "                                                                                                  \n",
            " conv2_block2_1_conv (Conv2D)   (None, 56, 56, 64)   16448       ['conv2_block1_out[0][0]']       \n",
            "                                                                                                  \n",
            " conv2_block2_1_bn (BatchNormal  (None, 56, 56, 64)  256         ['conv2_block2_1_conv[0][0]']    \n",
            " ization)                                                                                         \n",
            "                                                                                                  \n",
            " conv2_block2_1_relu (Activatio  (None, 56, 56, 64)  0           ['conv2_block2_1_bn[0][0]']      \n",
            " n)                                                                                               \n",
            "                                                                                                  \n",
            " conv2_block2_2_conv (Conv2D)   (None, 56, 56, 64)   36928       ['conv2_block2_1_relu[0][0]']    \n",
            "                                                                                                  \n",
            " conv2_block2_2_bn (BatchNormal  (None, 56, 56, 64)  256         ['conv2_block2_2_conv[0][0]']    \n",
            " ization)                                                                                         \n",
            "                                                                                                  \n",
            " conv2_block2_2_relu (Activatio  (None, 56, 56, 64)  0           ['conv2_block2_2_bn[0][0]']      \n",
            " n)                                                                                               \n",
            "                                                                                                  \n",
            " conv2_block2_3_conv (Conv2D)   (None, 56, 56, 256)  16640       ['conv2_block2_2_relu[0][0]']    \n",
            "                                                                                                  \n",
            " conv2_block2_3_bn (BatchNormal  (None, 56, 56, 256)  1024       ['conv2_block2_3_conv[0][0]']    \n",
            " ization)                                                                                         \n",
            "                                                                                                  \n",
            " conv2_block2_add (Add)         (None, 56, 56, 256)  0           ['conv2_block1_out[0][0]',       \n",
            "                                                                  'conv2_block2_3_bn[0][0]']      \n",
            "                                                                                                  \n",
            " conv2_block2_out (Activation)  (None, 56, 56, 256)  0           ['conv2_block2_add[0][0]']       \n",
            "                                                                                                  \n",
            " conv2_block3_1_conv (Conv2D)   (None, 56, 56, 64)   16448       ['conv2_block2_out[0][0]']       \n",
            "                                                                                                  \n",
            " conv2_block3_1_bn (BatchNormal  (None, 56, 56, 64)  256         ['conv2_block3_1_conv[0][0]']    \n",
            " ization)                                                                                         \n",
            "                                                                                                  \n",
            " conv2_block3_1_relu (Activatio  (None, 56, 56, 64)  0           ['conv2_block3_1_bn[0][0]']      \n",
            " n)                                                                                               \n",
            "                                                                                                  \n",
            " conv2_block3_2_conv (Conv2D)   (None, 56, 56, 64)   36928       ['conv2_block3_1_relu[0][0]']    \n",
            "                                                                                                  \n",
            " conv2_block3_2_bn (BatchNormal  (None, 56, 56, 64)  256         ['conv2_block3_2_conv[0][0]']    \n",
            " ization)                                                                                         \n",
            "                                                                                                  \n",
            " conv2_block3_2_relu (Activatio  (None, 56, 56, 64)  0           ['conv2_block3_2_bn[0][0]']      \n",
            " n)                                                                                               \n",
            "                                                                                                  \n",
            " conv2_block3_3_conv (Conv2D)   (None, 56, 56, 256)  16640       ['conv2_block3_2_relu[0][0]']    \n",
            "                                                                                                  \n",
            " conv2_block3_3_bn (BatchNormal  (None, 56, 56, 256)  1024       ['conv2_block3_3_conv[0][0]']    \n",
            " ization)                                                                                         \n",
            "                                                                                                  \n",
            " conv2_block3_add (Add)         (None, 56, 56, 256)  0           ['conv2_block2_out[0][0]',       \n",
            "                                                                  'conv2_block3_3_bn[0][0]']      \n",
            "                                                                                                  \n",
            " conv2_block3_out (Activation)  (None, 56, 56, 256)  0           ['conv2_block3_add[0][0]']       \n",
            "                                                                                                  \n",
            " conv3_block1_1_conv (Conv2D)   (None, 28, 28, 128)  32896       ['conv2_block3_out[0][0]']       \n",
            "                                                                                                  \n",
            " conv3_block1_1_bn (BatchNormal  (None, 28, 28, 128)  512        ['conv3_block1_1_conv[0][0]']    \n",
            " ization)                                                                                         \n",
            "                                                                                                  \n",
            " conv3_block1_1_relu (Activatio  (None, 28, 28, 128)  0          ['conv3_block1_1_bn[0][0]']      \n",
            " n)                                                                                               \n",
            "                                                                                                  \n",
            " conv3_block1_2_conv (Conv2D)   (None, 28, 28, 128)  147584      ['conv3_block1_1_relu[0][0]']    \n",
            "                                                                                                  \n",
            " conv3_block1_2_bn (BatchNormal  (None, 28, 28, 128)  512        ['conv3_block1_2_conv[0][0]']    \n",
            " ization)                                                                                         \n",
            "                                                                                                  \n",
            " conv3_block1_2_relu (Activatio  (None, 28, 28, 128)  0          ['conv3_block1_2_bn[0][0]']      \n",
            " n)                                                                                               \n",
            "                                                                                                  \n",
            " conv3_block1_0_conv (Conv2D)   (None, 28, 28, 512)  131584      ['conv2_block3_out[0][0]']       \n",
            "                                                                                                  \n",
            " conv3_block1_3_conv (Conv2D)   (None, 28, 28, 512)  66048       ['conv3_block1_2_relu[0][0]']    \n",
            "                                                                                                  \n",
            " conv3_block1_0_bn (BatchNormal  (None, 28, 28, 512)  2048       ['conv3_block1_0_conv[0][0]']    \n",
            " ization)                                                                                         \n",
            "                                                                                                  \n",
            " conv3_block1_3_bn (BatchNormal  (None, 28, 28, 512)  2048       ['conv3_block1_3_conv[0][0]']    \n",
            " ization)                                                                                         \n",
            "                                                                                                  \n",
            " conv3_block1_add (Add)         (None, 28, 28, 512)  0           ['conv3_block1_0_bn[0][0]',      \n",
            "                                                                  'conv3_block1_3_bn[0][0]']      \n",
            "                                                                                                  \n",
            " conv3_block1_out (Activation)  (None, 28, 28, 512)  0           ['conv3_block1_add[0][0]']       \n",
            "                                                                                                  \n",
            " conv3_block2_1_conv (Conv2D)   (None, 28, 28, 128)  65664       ['conv3_block1_out[0][0]']       \n",
            "                                                                                                  \n",
            " conv3_block2_1_bn (BatchNormal  (None, 28, 28, 128)  512        ['conv3_block2_1_conv[0][0]']    \n",
            " ization)                                                                                         \n",
            "                                                                                                  \n",
            " conv3_block2_1_relu (Activatio  (None, 28, 28, 128)  0          ['conv3_block2_1_bn[0][0]']      \n",
            " n)                                                                                               \n",
            "                                                                                                  \n",
            " conv3_block2_2_conv (Conv2D)   (None, 28, 28, 128)  147584      ['conv3_block2_1_relu[0][0]']    \n",
            "                                                                                                  \n",
            " conv3_block2_2_bn (BatchNormal  (None, 28, 28, 128)  512        ['conv3_block2_2_conv[0][0]']    \n",
            " ization)                                                                                         \n",
            "                                                                                                  \n",
            " conv3_block2_2_relu (Activatio  (None, 28, 28, 128)  0          ['conv3_block2_2_bn[0][0]']      \n",
            " n)                                                                                               \n",
            "                                                                                                  \n",
            " conv3_block2_3_conv (Conv2D)   (None, 28, 28, 512)  66048       ['conv3_block2_2_relu[0][0]']    \n",
            "                                                                                                  \n",
            " conv3_block2_3_bn (BatchNormal  (None, 28, 28, 512)  2048       ['conv3_block2_3_conv[0][0]']    \n",
            " ization)                                                                                         \n",
            "                                                                                                  \n",
            " conv3_block2_add (Add)         (None, 28, 28, 512)  0           ['conv3_block1_out[0][0]',       \n",
            "                                                                  'conv3_block2_3_bn[0][0]']      \n",
            "                                                                                                  \n",
            " conv3_block2_out (Activation)  (None, 28, 28, 512)  0           ['conv3_block2_add[0][0]']       \n",
            "                                                                                                  \n",
            " conv3_block3_1_conv (Conv2D)   (None, 28, 28, 128)  65664       ['conv3_block2_out[0][0]']       \n",
            "                                                                                                  \n",
            " conv3_block3_1_bn (BatchNormal  (None, 28, 28, 128)  512        ['conv3_block3_1_conv[0][0]']    \n",
            " ization)                                                                                         \n",
            "                                                                                                  \n",
            " conv3_block3_1_relu (Activatio  (None, 28, 28, 128)  0          ['conv3_block3_1_bn[0][0]']      \n",
            " n)                                                                                               \n",
            "                                                                                                  \n",
            " conv3_block3_2_conv (Conv2D)   (None, 28, 28, 128)  147584      ['conv3_block3_1_relu[0][0]']    \n",
            "                                                                                                  \n",
            " conv3_block3_2_bn (BatchNormal  (None, 28, 28, 128)  512        ['conv3_block3_2_conv[0][0]']    \n",
            " ization)                                                                                         \n",
            "                                                                                                  \n",
            " conv3_block3_2_relu (Activatio  (None, 28, 28, 128)  0          ['conv3_block3_2_bn[0][0]']      \n",
            " n)                                                                                               \n",
            "                                                                                                  \n",
            " conv3_block3_3_conv (Conv2D)   (None, 28, 28, 512)  66048       ['conv3_block3_2_relu[0][0]']    \n",
            "                                                                                                  \n",
            " conv3_block3_3_bn (BatchNormal  (None, 28, 28, 512)  2048       ['conv3_block3_3_conv[0][0]']    \n",
            " ization)                                                                                         \n",
            "                                                                                                  \n",
            " conv3_block3_add (Add)         (None, 28, 28, 512)  0           ['conv3_block2_out[0][0]',       \n",
            "                                                                  'conv3_block3_3_bn[0][0]']      \n",
            "                                                                                                  \n",
            " conv3_block3_out (Activation)  (None, 28, 28, 512)  0           ['conv3_block3_add[0][0]']       \n",
            "                                                                                                  \n",
            " conv3_block4_1_conv (Conv2D)   (None, 28, 28, 128)  65664       ['conv3_block3_out[0][0]']       \n",
            "                                                                                                  \n",
            " conv3_block4_1_bn (BatchNormal  (None, 28, 28, 128)  512        ['conv3_block4_1_conv[0][0]']    \n",
            " ization)                                                                                         \n",
            "                                                                                                  \n",
            " conv3_block4_1_relu (Activatio  (None, 28, 28, 128)  0          ['conv3_block4_1_bn[0][0]']      \n",
            " n)                                                                                               \n",
            "                                                                                                  \n",
            " conv3_block4_2_conv (Conv2D)   (None, 28, 28, 128)  147584      ['conv3_block4_1_relu[0][0]']    \n",
            "                                                                                                  \n",
            " conv3_block4_2_bn (BatchNormal  (None, 28, 28, 128)  512        ['conv3_block4_2_conv[0][0]']    \n",
            " ization)                                                                                         \n",
            "                                                                                                  \n",
            " conv3_block4_2_relu (Activatio  (None, 28, 28, 128)  0          ['conv3_block4_2_bn[0][0]']      \n",
            " n)                                                                                               \n",
            "                                                                                                  \n",
            " conv3_block4_3_conv (Conv2D)   (None, 28, 28, 512)  66048       ['conv3_block4_2_relu[0][0]']    \n",
            "                                                                                                  \n",
            " conv3_block4_3_bn (BatchNormal  (None, 28, 28, 512)  2048       ['conv3_block4_3_conv[0][0]']    \n",
            " ization)                                                                                         \n",
            "                                                                                                  \n",
            " conv3_block4_add (Add)         (None, 28, 28, 512)  0           ['conv3_block3_out[0][0]',       \n",
            "                                                                  'conv3_block4_3_bn[0][0]']      \n",
            "                                                                                                  \n",
            " conv3_block4_out (Activation)  (None, 28, 28, 512)  0           ['conv3_block4_add[0][0]']       \n",
            "                                                                                                  \n",
            " conv4_block1_1_conv (Conv2D)   (None, 14, 14, 256)  131328      ['conv3_block4_out[0][0]']       \n",
            "                                                                                                  \n",
            " conv4_block1_1_bn (BatchNormal  (None, 14, 14, 256)  1024       ['conv4_block1_1_conv[0][0]']    \n",
            " ization)                                                                                         \n",
            "                                                                                                  \n",
            " conv4_block1_1_relu (Activatio  (None, 14, 14, 256)  0          ['conv4_block1_1_bn[0][0]']      \n",
            " n)                                                                                               \n",
            "                                                                                                  \n",
            " conv4_block1_2_conv (Conv2D)   (None, 14, 14, 256)  590080      ['conv4_block1_1_relu[0][0]']    \n",
            "                                                                                                  \n",
            " conv4_block1_2_bn (BatchNormal  (None, 14, 14, 256)  1024       ['conv4_block1_2_conv[0][0]']    \n",
            " ization)                                                                                         \n",
            "                                                                                                  \n",
            " conv4_block1_2_relu (Activatio  (None, 14, 14, 256)  0          ['conv4_block1_2_bn[0][0]']      \n",
            " n)                                                                                               \n",
            "                                                                                                  \n",
            " conv4_block1_0_conv (Conv2D)   (None, 14, 14, 1024  525312      ['conv3_block4_out[0][0]']       \n",
            "                                )                                                                 \n",
            "                                                                                                  \n",
            " conv4_block1_3_conv (Conv2D)   (None, 14, 14, 1024  263168      ['conv4_block1_2_relu[0][0]']    \n",
            "                                )                                                                 \n",
            "                                                                                                  \n",
            " conv4_block1_0_bn (BatchNormal  (None, 14, 14, 1024  4096       ['conv4_block1_0_conv[0][0]']    \n",
            " ization)                       )                                                                 \n",
            "                                                                                                  \n",
            " conv4_block1_3_bn (BatchNormal  (None, 14, 14, 1024  4096       ['conv4_block1_3_conv[0][0]']    \n",
            " ization)                       )                                                                 \n",
            "                                                                                                  \n",
            " conv4_block1_add (Add)         (None, 14, 14, 1024  0           ['conv4_block1_0_bn[0][0]',      \n",
            "                                )                                 'conv4_block1_3_bn[0][0]']      \n",
            "                                                                                                  \n",
            " conv4_block1_out (Activation)  (None, 14, 14, 1024  0           ['conv4_block1_add[0][0]']       \n",
            "                                )                                                                 \n",
            "                                                                                                  \n",
            " conv4_block2_1_conv (Conv2D)   (None, 14, 14, 256)  262400      ['conv4_block1_out[0][0]']       \n",
            "                                                                                                  \n",
            " conv4_block2_1_bn (BatchNormal  (None, 14, 14, 256)  1024       ['conv4_block2_1_conv[0][0]']    \n",
            " ization)                                                                                         \n",
            "                                                                                                  \n",
            " conv4_block2_1_relu (Activatio  (None, 14, 14, 256)  0          ['conv4_block2_1_bn[0][0]']      \n",
            " n)                                                                                               \n",
            "                                                                                                  \n",
            " conv4_block2_2_conv (Conv2D)   (None, 14, 14, 256)  590080      ['conv4_block2_1_relu[0][0]']    \n",
            "                                                                                                  \n",
            " conv4_block2_2_bn (BatchNormal  (None, 14, 14, 256)  1024       ['conv4_block2_2_conv[0][0]']    \n",
            " ization)                                                                                         \n",
            "                                                                                                  \n",
            " conv4_block2_2_relu (Activatio  (None, 14, 14, 256)  0          ['conv4_block2_2_bn[0][0]']      \n",
            " n)                                                                                               \n",
            "                                                                                                  \n",
            " conv4_block2_3_conv (Conv2D)   (None, 14, 14, 1024  263168      ['conv4_block2_2_relu[0][0]']    \n",
            "                                )                                                                 \n",
            "                                                                                                  \n",
            " conv4_block2_3_bn (BatchNormal  (None, 14, 14, 1024  4096       ['conv4_block2_3_conv[0][0]']    \n",
            " ization)                       )                                                                 \n",
            "                                                                                                  \n",
            " conv4_block2_add (Add)         (None, 14, 14, 1024  0           ['conv4_block1_out[0][0]',       \n",
            "                                )                                 'conv4_block2_3_bn[0][0]']      \n",
            "                                                                                                  \n",
            " conv4_block2_out (Activation)  (None, 14, 14, 1024  0           ['conv4_block2_add[0][0]']       \n",
            "                                )                                                                 \n",
            "                                                                                                  \n",
            " conv4_block3_1_conv (Conv2D)   (None, 14, 14, 256)  262400      ['conv4_block2_out[0][0]']       \n",
            "                                                                                                  \n",
            " conv4_block3_1_bn (BatchNormal  (None, 14, 14, 256)  1024       ['conv4_block3_1_conv[0][0]']    \n",
            " ization)                                                                                         \n",
            "                                                                                                  \n",
            " conv4_block3_1_relu (Activatio  (None, 14, 14, 256)  0          ['conv4_block3_1_bn[0][0]']      \n",
            " n)                                                                                               \n",
            "                                                                                                  \n",
            " conv4_block3_2_conv (Conv2D)   (None, 14, 14, 256)  590080      ['conv4_block3_1_relu[0][0]']    \n",
            "                                                                                                  \n",
            " conv4_block3_2_bn (BatchNormal  (None, 14, 14, 256)  1024       ['conv4_block3_2_conv[0][0]']    \n",
            " ization)                                                                                         \n",
            "                                                                                                  \n",
            " conv4_block3_2_relu (Activatio  (None, 14, 14, 256)  0          ['conv4_block3_2_bn[0][0]']      \n",
            " n)                                                                                               \n",
            "                                                                                                  \n",
            " conv4_block3_3_conv (Conv2D)   (None, 14, 14, 1024  263168      ['conv4_block3_2_relu[0][0]']    \n",
            "                                )                                                                 \n",
            "                                                                                                  \n",
            " conv4_block3_3_bn (BatchNormal  (None, 14, 14, 1024  4096       ['conv4_block3_3_conv[0][0]']    \n",
            " ization)                       )                                                                 \n",
            "                                                                                                  \n",
            " conv4_block3_add (Add)         (None, 14, 14, 1024  0           ['conv4_block2_out[0][0]',       \n",
            "                                )                                 'conv4_block3_3_bn[0][0]']      \n",
            "                                                                                                  \n",
            " conv4_block3_out (Activation)  (None, 14, 14, 1024  0           ['conv4_block3_add[0][0]']       \n",
            "                                )                                                                 \n",
            "                                                                                                  \n",
            " conv4_block4_1_conv (Conv2D)   (None, 14, 14, 256)  262400      ['conv4_block3_out[0][0]']       \n",
            "                                                                                                  \n",
            " conv4_block4_1_bn (BatchNormal  (None, 14, 14, 256)  1024       ['conv4_block4_1_conv[0][0]']    \n",
            " ization)                                                                                         \n",
            "                                                                                                  \n",
            " conv4_block4_1_relu (Activatio  (None, 14, 14, 256)  0          ['conv4_block4_1_bn[0][0]']      \n",
            " n)                                                                                               \n",
            "                                                                                                  \n",
            " conv4_block4_2_conv (Conv2D)   (None, 14, 14, 256)  590080      ['conv4_block4_1_relu[0][0]']    \n",
            "                                                                                                  \n",
            " conv4_block4_2_bn (BatchNormal  (None, 14, 14, 256)  1024       ['conv4_block4_2_conv[0][0]']    \n",
            " ization)                                                                                         \n",
            "                                                                                                  \n",
            " conv4_block4_2_relu (Activatio  (None, 14, 14, 256)  0          ['conv4_block4_2_bn[0][0]']      \n",
            " n)                                                                                               \n",
            "                                                                                                  \n",
            " conv4_block4_3_conv (Conv2D)   (None, 14, 14, 1024  263168      ['conv4_block4_2_relu[0][0]']    \n",
            "                                )                                                                 \n",
            "                                                                                                  \n",
            " conv4_block4_3_bn (BatchNormal  (None, 14, 14, 1024  4096       ['conv4_block4_3_conv[0][0]']    \n",
            " ization)                       )                                                                 \n",
            "                                                                                                  \n",
            " conv4_block4_add (Add)         (None, 14, 14, 1024  0           ['conv4_block3_out[0][0]',       \n",
            "                                )                                 'conv4_block4_3_bn[0][0]']      \n",
            "                                                                                                  \n",
            " conv4_block4_out (Activation)  (None, 14, 14, 1024  0           ['conv4_block4_add[0][0]']       \n",
            "                                )                                                                 \n",
            "                                                                                                  \n",
            " conv4_block5_1_conv (Conv2D)   (None, 14, 14, 256)  262400      ['conv4_block4_out[0][0]']       \n",
            "                                                                                                  \n",
            " conv4_block5_1_bn (BatchNormal  (None, 14, 14, 256)  1024       ['conv4_block5_1_conv[0][0]']    \n",
            " ization)                                                                                         \n",
            "                                                                                                  \n",
            " conv4_block5_1_relu (Activatio  (None, 14, 14, 256)  0          ['conv4_block5_1_bn[0][0]']      \n",
            " n)                                                                                               \n",
            "                                                                                                  \n",
            " conv4_block5_2_conv (Conv2D)   (None, 14, 14, 256)  590080      ['conv4_block5_1_relu[0][0]']    \n",
            "                                                                                                  \n",
            " conv4_block5_2_bn (BatchNormal  (None, 14, 14, 256)  1024       ['conv4_block5_2_conv[0][0]']    \n",
            " ization)                                                                                         \n",
            "                                                                                                  \n",
            " conv4_block5_2_relu (Activatio  (None, 14, 14, 256)  0          ['conv4_block5_2_bn[0][0]']      \n",
            " n)                                                                                               \n",
            "                                                                                                  \n",
            " conv4_block5_3_conv (Conv2D)   (None, 14, 14, 1024  263168      ['conv4_block5_2_relu[0][0]']    \n",
            "                                )                                                                 \n",
            "                                                                                                  \n",
            " conv4_block5_3_bn (BatchNormal  (None, 14, 14, 1024  4096       ['conv4_block5_3_conv[0][0]']    \n",
            " ization)                       )                                                                 \n",
            "                                                                                                  \n",
            " conv4_block5_add (Add)         (None, 14, 14, 1024  0           ['conv4_block4_out[0][0]',       \n",
            "                                )                                 'conv4_block5_3_bn[0][0]']      \n",
            "                                                                                                  \n",
            " conv4_block5_out (Activation)  (None, 14, 14, 1024  0           ['conv4_block5_add[0][0]']       \n",
            "                                )                                                                 \n",
            "                                                                                                  \n",
            " conv4_block6_1_conv (Conv2D)   (None, 14, 14, 256)  262400      ['conv4_block5_out[0][0]']       \n",
            "                                                                                                  \n",
            " conv4_block6_1_bn (BatchNormal  (None, 14, 14, 256)  1024       ['conv4_block6_1_conv[0][0]']    \n",
            " ization)                                                                                         \n",
            "                                                                                                  \n",
            " conv4_block6_1_relu (Activatio  (None, 14, 14, 256)  0          ['conv4_block6_1_bn[0][0]']      \n",
            " n)                                                                                               \n",
            "                                                                                                  \n",
            " conv4_block6_2_conv (Conv2D)   (None, 14, 14, 256)  590080      ['conv4_block6_1_relu[0][0]']    \n",
            "                                                                                                  \n",
            " conv4_block6_2_bn (BatchNormal  (None, 14, 14, 256)  1024       ['conv4_block6_2_conv[0][0]']    \n",
            " ization)                                                                                         \n",
            "                                                                                                  \n",
            " conv4_block6_2_relu (Activatio  (None, 14, 14, 256)  0          ['conv4_block6_2_bn[0][0]']      \n",
            " n)                                                                                               \n",
            "                                                                                                  \n",
            " conv4_block6_3_conv (Conv2D)   (None, 14, 14, 1024  263168      ['conv4_block6_2_relu[0][0]']    \n",
            "                                )                                                                 \n",
            "                                                                                                  \n",
            " conv4_block6_3_bn (BatchNormal  (None, 14, 14, 1024  4096       ['conv4_block6_3_conv[0][0]']    \n",
            " ization)                       )                                                                 \n",
            "                                                                                                  \n",
            " conv4_block6_add (Add)         (None, 14, 14, 1024  0           ['conv4_block5_out[0][0]',       \n",
            "                                )                                 'conv4_block6_3_bn[0][0]']      \n",
            "                                                                                                  \n",
            " conv4_block6_out (Activation)  (None, 14, 14, 1024  0           ['conv4_block6_add[0][0]']       \n",
            "                                )                                                                 \n",
            "                                                                                                  \n",
            " conv5_block1_1_conv (Conv2D)   (None, 7, 7, 512)    524800      ['conv4_block6_out[0][0]']       \n",
            "                                                                                                  \n",
            " conv5_block1_1_bn (BatchNormal  (None, 7, 7, 512)   2048        ['conv5_block1_1_conv[0][0]']    \n",
            " ization)                                                                                         \n",
            "                                                                                                  \n",
            " conv5_block1_1_relu (Activatio  (None, 7, 7, 512)   0           ['conv5_block1_1_bn[0][0]']      \n",
            " n)                                                                                               \n",
            "                                                                                                  \n",
            " conv5_block1_2_conv (Conv2D)   (None, 7, 7, 512)    2359808     ['conv5_block1_1_relu[0][0]']    \n",
            "                                                                                                  \n",
            " conv5_block1_2_bn (BatchNormal  (None, 7, 7, 512)   2048        ['conv5_block1_2_conv[0][0]']    \n",
            " ization)                                                                                         \n",
            "                                                                                                  \n",
            " conv5_block1_2_relu (Activatio  (None, 7, 7, 512)   0           ['conv5_block1_2_bn[0][0]']      \n",
            " n)                                                                                               \n",
            "                                                                                                  \n",
            " conv5_block1_0_conv (Conv2D)   (None, 7, 7, 2048)   2099200     ['conv4_block6_out[0][0]']       \n",
            "                                                                                                  \n",
            " conv5_block1_3_conv (Conv2D)   (None, 7, 7, 2048)   1050624     ['conv5_block1_2_relu[0][0]']    \n",
            "                                                                                                  \n",
            " conv5_block1_0_bn (BatchNormal  (None, 7, 7, 2048)  8192        ['conv5_block1_0_conv[0][0]']    \n",
            " ization)                                                                                         \n",
            "                                                                                                  \n",
            " conv5_block1_3_bn (BatchNormal  (None, 7, 7, 2048)  8192        ['conv5_block1_3_conv[0][0]']    \n",
            " ization)                                                                                         \n",
            "                                                                                                  \n",
            " conv5_block1_add (Add)         (None, 7, 7, 2048)   0           ['conv5_block1_0_bn[0][0]',      \n",
            "                                                                  'conv5_block1_3_bn[0][0]']      \n",
            "                                                                                                  \n",
            " conv5_block1_out (Activation)  (None, 7, 7, 2048)   0           ['conv5_block1_add[0][0]']       \n",
            "                                                                                                  \n",
            " conv5_block2_1_conv (Conv2D)   (None, 7, 7, 512)    1049088     ['conv5_block1_out[0][0]']       \n",
            "                                                                                                  \n",
            " conv5_block2_1_bn (BatchNormal  (None, 7, 7, 512)   2048        ['conv5_block2_1_conv[0][0]']    \n",
            " ization)                                                                                         \n",
            "                                                                                                  \n",
            " conv5_block2_1_relu (Activatio  (None, 7, 7, 512)   0           ['conv5_block2_1_bn[0][0]']      \n",
            " n)                                                                                               \n",
            "                                                                                                  \n",
            " conv5_block2_2_conv (Conv2D)   (None, 7, 7, 512)    2359808     ['conv5_block2_1_relu[0][0]']    \n",
            "                                                                                                  \n",
            " conv5_block2_2_bn (BatchNormal  (None, 7, 7, 512)   2048        ['conv5_block2_2_conv[0][0]']    \n",
            " ization)                                                                                         \n",
            "                                                                                                  \n",
            " conv5_block2_2_relu (Activatio  (None, 7, 7, 512)   0           ['conv5_block2_2_bn[0][0]']      \n",
            " n)                                                                                               \n",
            "                                                                                                  \n",
            " conv5_block2_3_conv (Conv2D)   (None, 7, 7, 2048)   1050624     ['conv5_block2_2_relu[0][0]']    \n",
            "                                                                                                  \n",
            " conv5_block2_3_bn (BatchNormal  (None, 7, 7, 2048)  8192        ['conv5_block2_3_conv[0][0]']    \n",
            " ization)                                                                                         \n",
            "                                                                                                  \n",
            " conv5_block2_add (Add)         (None, 7, 7, 2048)   0           ['conv5_block1_out[0][0]',       \n",
            "                                                                  'conv5_block2_3_bn[0][0]']      \n",
            "                                                                                                  \n",
            " conv5_block2_out (Activation)  (None, 7, 7, 2048)   0           ['conv5_block2_add[0][0]']       \n",
            "                                                                                                  \n",
            " conv5_block3_1_conv (Conv2D)   (None, 7, 7, 512)    1049088     ['conv5_block2_out[0][0]']       \n",
            "                                                                                                  \n",
            " conv5_block3_1_bn (BatchNormal  (None, 7, 7, 512)   2048        ['conv5_block3_1_conv[0][0]']    \n",
            " ization)                                                                                         \n",
            "                                                                                                  \n",
            " conv5_block3_1_relu (Activatio  (None, 7, 7, 512)   0           ['conv5_block3_1_bn[0][0]']      \n",
            " n)                                                                                               \n",
            "                                                                                                  \n",
            " conv5_block3_2_conv (Conv2D)   (None, 7, 7, 512)    2359808     ['conv5_block3_1_relu[0][0]']    \n",
            "                                                                                                  \n",
            " conv5_block3_2_bn (BatchNormal  (None, 7, 7, 512)   2048        ['conv5_block3_2_conv[0][0]']    \n",
            " ization)                                                                                         \n",
            "                                                                                                  \n",
            " conv5_block3_2_relu (Activatio  (None, 7, 7, 512)   0           ['conv5_block3_2_bn[0][0]']      \n",
            " n)                                                                                               \n",
            "                                                                                                  \n",
            " conv5_block3_3_conv (Conv2D)   (None, 7, 7, 2048)   1050624     ['conv5_block3_2_relu[0][0]']    \n",
            "                                                                                                  \n",
            " conv5_block3_3_bn (BatchNormal  (None, 7, 7, 2048)  8192        ['conv5_block3_3_conv[0][0]']    \n",
            " ization)                                                                                         \n",
            "                                                                                                  \n",
            " conv5_block3_add (Add)         (None, 7, 7, 2048)   0           ['conv5_block2_out[0][0]',       \n",
            "                                                                  'conv5_block3_3_bn[0][0]']      \n",
            "                                                                                                  \n",
            " conv5_block3_out (Activation)  (None, 7, 7, 2048)   0           ['conv5_block3_add[0][0]']       \n",
            "                                                                                                  \n",
            " flatten_4 (Flatten)            (None, 100352)       0           ['conv5_block3_out[0][0]']       \n",
            "                                                                                                  \n",
            " dense_11 (Dense)               (None, 16)           1605648     ['flatten_4[0][0]']              \n",
            "                                                                                                  \n",
            "==================================================================================================\n",
            "Total params: 25,193,360\n",
            "Trainable params: 1,605,648\n",
            "Non-trainable params: 23,587,712\n",
            "__________________________________________________________________________________________________\n"
          ]
        }
      ]
    },
    {
      "cell_type": "code",
      "source": [
        "res_model.compile(loss='categorical_crossentropy',optimizer='adam',metrics=['accuracy'])"
      ],
      "metadata": {
        "id": "QukFXhq-4xyZ"
      },
      "execution_count": 79,
      "outputs": []
    },
    {
      "cell_type": "code",
      "source": [
        "res_model.fit(train,epochs=5,validation_data=test,steps_per_epoch=len(train),validation_steps=len(test))"
      ],
      "metadata": {
        "colab": {
          "base_uri": "https://localhost:8080/"
        },
        "id": "bQsGHOwZ429T",
        "outputId": "e1497486-7866-4f1e-de26-10a235d428ab"
      },
      "execution_count": 80,
      "outputs": [
        {
          "output_type": "stream",
          "name": "stdout",
          "text": [
            "Epoch 1/5\n",
            "7/7 [==============================] - 115s 17s/step - loss: 12.6411 - accuracy: 0.0867 - val_loss: 11.2638 - val_accuracy: 0.0573\n",
            "Epoch 2/5\n",
            "7/7 [==============================] - 99s 15s/step - loss: 12.9382 - accuracy: 0.0800 - val_loss: 10.6882 - val_accuracy: 0.1019\n",
            "Epoch 3/5\n",
            "7/7 [==============================] - 96s 14s/step - loss: 9.0632 - accuracy: 0.1200 - val_loss: 6.8915 - val_accuracy: 0.1083\n",
            "Epoch 4/5\n",
            "7/7 [==============================] - 125s 19s/step - loss: 5.5828 - accuracy: 0.2000 - val_loss: 4.7027 - val_accuracy: 0.1592\n",
            "Epoch 5/5\n",
            "7/7 [==============================] - 99s 15s/step - loss: 3.6475 - accuracy: 0.1600 - val_loss: 4.1963 - val_accuracy: 0.1975\n"
          ]
        },
        {
          "output_type": "execute_result",
          "data": {
            "text/plain": [
              "<keras.callbacks.History at 0x7f5954bb2950>"
            ]
          },
          "metadata": {},
          "execution_count": 80
        }
      ]
    },
    {
      "cell_type": "code",
      "source": [
        "img"
      ],
      "metadata": {
        "colab": {
          "base_uri": "https://localhost:8080/"
        },
        "id": "IH0I3mTY8E3E",
        "outputId": "eae69417-844b-43f5-dae9-d4a57bba9d44"
      },
      "execution_count": 88,
      "outputs": [
        {
          "output_type": "execute_result",
          "data": {
            "text/plain": [
              "array([[[[ 83.,  47.,  49.],\n",
              "         [ 89.,  54.,  58.],\n",
              "         [108.,  78.,  78.],\n",
              "         ...,\n",
              "         [ 82.,  62.,  35.],\n",
              "         [ 28.,  18.,  19.],\n",
              "         [ 23.,  14.,  15.]],\n",
              "\n",
              "        [[ 99.,  69.,  67.],\n",
              "         [ 65.,  38.,  45.],\n",
              "         [ 70.,  38.,  51.],\n",
              "         ...,\n",
              "         [ 78.,  72.,  50.],\n",
              "         [ 38.,  24.,  21.],\n",
              "         [ 25.,  14.,  18.]],\n",
              "\n",
              "        [[118.,  71.,  77.],\n",
              "         [148.,  82.,  92.],\n",
              "         [ 61.,  34.,  41.],\n",
              "         ...,\n",
              "         [ 74.,  81.,  63.],\n",
              "         [ 57.,  55.,  34.],\n",
              "         [ 23.,  11.,  15.]],\n",
              "\n",
              "        ...,\n",
              "\n",
              "        [[197., 159., 136.],\n",
              "         [196., 158., 137.],\n",
              "         [198., 156., 132.],\n",
              "         ...,\n",
              "         [113., 102.,  96.],\n",
              "         [111., 102.,  69.],\n",
              "         [ 76.,  61.,  54.]],\n",
              "\n",
              "        [[178., 137., 115.],\n",
              "         [156., 119., 101.],\n",
              "         [177., 132., 111.],\n",
              "         ...,\n",
              "         [100.,  90.,  81.],\n",
              "         [ 90.,  80.,  53.],\n",
              "         [ 59.,  44.,  39.]],\n",
              "\n",
              "        [[137.,  96.,  94.],\n",
              "         [147., 104.,  85.],\n",
              "         [140.,  99.,  81.],\n",
              "         ...,\n",
              "         [ 75.,  68.,  60.],\n",
              "         [ 47.,  37.,  28.],\n",
              "         [ 58.,  45.,  39.]]]], dtype=float32)"
            ]
          },
          "metadata": {},
          "execution_count": 88
        }
      ]
    },
    {
      "cell_type": "code",
      "source": [
        "# 20BCE2041 -  MOGALAPU JAYA SRIKAR"
      ],
      "metadata": {
        "id": "heYBG-FKYJ3B"
      },
      "execution_count": 148,
      "outputs": []
    },
    {
      "cell_type": "code",
      "source": [
        "img1 = image.load_img('/content/test_data/test_data/hsparo/100_5573.JPG',target_size=(224,224))\n",
        "img1 = image.img_to_array(img1)\n",
        "img1 = np.expand_dims(img1,axis=0)\n",
        "pred = np.argmax(res_model.predict(img1))\n",
        "print(pred)\n",
        "output = ['blasti','bonegl','brhkyt','cbrtsh','cmnmyn','gretit','hilpig','himbul','himgri','hsparo','indvul','jglowl','lbicrw','mgprob','rebimg','wcrsrt']\n",
        "print(output[pred])"
      ],
      "metadata": {
        "colab": {
          "base_uri": "https://localhost:8080/"
        },
        "id": "SxZ6m6lB8LGH",
        "outputId": "c1556a18-7022-4831-d66d-43b8b42b144d"
      },
      "execution_count": 134,
      "outputs": [
        {
          "output_type": "stream",
          "name": "stdout",
          "text": [
            "1/1 [==============================] - 1s 925ms/step\n",
            "4\n",
            "cmnmyn\n"
          ]
        }
      ]
    },
    {
      "cell_type": "code",
      "source": [
        "np.argmax(res_model.predict(img1))"
      ],
      "metadata": {
        "colab": {
          "base_uri": "https://localhost:8080/"
        },
        "id": "0EF0fxdV8MYd",
        "outputId": "ac75bbaf-f847-48cb-daff-907252d5dc88"
      },
      "execution_count": 135,
      "outputs": [
        {
          "output_type": "stream",
          "name": "stdout",
          "text": [
            "1/1 [==============================] - 0s 138ms/step\n"
          ]
        },
        {
          "output_type": "execute_result",
          "data": {
            "text/plain": [
              "4"
            ]
          },
          "metadata": {},
          "execution_count": 135
        }
      ]
    },
    {
      "cell_type": "code",
      "source": [
        "test.class_indices"
      ],
      "metadata": {
        "colab": {
          "base_uri": "https://localhost:8080/"
        },
        "id": "O0zSeaAx8S7x",
        "outputId": "1f2524dd-d4bd-474e-d5f2-2099073c8612"
      },
      "execution_count": 136,
      "outputs": [
        {
          "output_type": "execute_result",
          "data": {
            "text/plain": [
              "{'blasti': 0,\n",
              " 'bonegl': 1,\n",
              " 'brhkyt': 2,\n",
              " 'cbrtsh': 3,\n",
              " 'cmnmyn': 4,\n",
              " 'gretit': 5,\n",
              " 'hilpig': 6,\n",
              " 'himbul': 7,\n",
              " 'himgri': 8,\n",
              " 'hsparo': 9,\n",
              " 'indvul': 10,\n",
              " 'jglowl': 11,\n",
              " 'lbicrw': 12,\n",
              " 'mgprob': 13,\n",
              " 'rebimg': 14,\n",
              " 'wcrsrt': 15}"
            ]
          },
          "metadata": {},
          "execution_count": 136
        }
      ]
    },
    {
      "cell_type": "code",
      "source": [
        "output[np.argmax(res_model.predict(img1))]"
      ],
      "metadata": {
        "colab": {
          "base_uri": "https://localhost:8080/",
          "height": 53
        },
        "id": "ANk8vQdS8Yua",
        "outputId": "8a9ec5c8-2281-4f2f-f776-a60cf5d7d8f9"
      },
      "execution_count": 137,
      "outputs": [
        {
          "output_type": "stream",
          "name": "stdout",
          "text": [
            "1/1 [==============================] - 0s 195ms/step\n"
          ]
        },
        {
          "output_type": "execute_result",
          "data": {
            "text/plain": [
              "'cmnmyn'"
            ],
            "application/vnd.google.colaboratory.intrinsic+json": {
              "type": "string"
            }
          },
          "metadata": {},
          "execution_count": 137
        }
      ]
    },
    {
      "cell_type": "code",
      "source": [
        "#  20BCE2041 - MOGALAPU JAYA SRIKAR"
      ],
      "metadata": {
        "id": "inztAbQZ7fm7"
      },
      "execution_count": 105,
      "outputs": []
    },
    {
      "cell_type": "code",
      "source": [
        "#  VGG16"
      ],
      "metadata": {
        "id": "WBdW1pjU7lPi"
      },
      "execution_count": 106,
      "outputs": []
    },
    {
      "cell_type": "code",
      "source": [
        "from tensorflow.keras.applications.vgg16 import VGG16, preprocess_input"
      ],
      "metadata": {
        "id": "yd-lMAH07odh"
      },
      "execution_count": 109,
      "outputs": []
    },
    {
      "cell_type": "code",
      "source": [
        "vgg = VGG16(include_top=False,weights='imagenet',input_shape=(224,224,3))"
      ],
      "metadata": {
        "id": "DC-VRCU27r86"
      },
      "execution_count": 110,
      "outputs": []
    },
    {
      "cell_type": "code",
      "source": [
        "for layer in vgg.layers:\n",
        "  print(layer)"
      ],
      "metadata": {
        "colab": {
          "base_uri": "https://localhost:8080/"
        },
        "id": "xAf0phfO7vs7",
        "outputId": "eb42af60-e85a-4d9b-c3af-2f620ff2c7bc"
      },
      "execution_count": 112,
      "outputs": [
        {
          "output_type": "stream",
          "name": "stdout",
          "text": [
            "<keras.engine.input_layer.InputLayer object at 0x7f59572959f0>\n",
            "<keras.layers.convolutional.conv2d.Conv2D object at 0x7f5957295510>\n",
            "<keras.layers.convolutional.conv2d.Conv2D object at 0x7f5957297610>\n",
            "<keras.layers.pooling.max_pooling2d.MaxPooling2D object at 0x7f59572e2080>\n",
            "<keras.layers.convolutional.conv2d.Conv2D object at 0x7f5957294670>\n",
            "<keras.layers.convolutional.conv2d.Conv2D object at 0x7f59575461d0>\n",
            "<keras.layers.pooling.max_pooling2d.MaxPooling2D object at 0x7f5957102fb0>\n",
            "<keras.layers.convolutional.conv2d.Conv2D object at 0x7f5957101390>\n",
            "<keras.layers.convolutional.conv2d.Conv2D object at 0x7f5957103370>\n",
            "<keras.layers.convolutional.conv2d.Conv2D object at 0x7f5957101ae0>\n",
            "<keras.layers.pooling.max_pooling2d.MaxPooling2D object at 0x7f5957103c40>\n",
            "<keras.layers.convolutional.conv2d.Conv2D object at 0x7f5957103100>\n",
            "<keras.layers.convolutional.conv2d.Conv2D object at 0x7f5957102950>\n",
            "<keras.layers.convolutional.conv2d.Conv2D object at 0x7f59571156c0>\n",
            "<keras.layers.pooling.max_pooling2d.MaxPooling2D object at 0x7f5957116470>\n",
            "<keras.layers.convolutional.conv2d.Conv2D object at 0x7f5957102ef0>\n",
            "<keras.layers.convolutional.conv2d.Conv2D object at 0x7f5957116890>\n",
            "<keras.layers.convolutional.conv2d.Conv2D object at 0x7f5957100c70>\n",
            "<keras.layers.pooling.max_pooling2d.MaxPooling2D object at 0x7f5957114c40>\n"
          ]
        }
      ]
    },
    {
      "cell_type": "code",
      "source": [
        "for layer in vgg.layers:\n",
        "  layer.trainable=False"
      ],
      "metadata": {
        "id": "SwrTHu017ykJ"
      },
      "execution_count": 117,
      "outputs": []
    },
    {
      "cell_type": "code",
      "source": [
        "# 20BCE2041 -  MOGALAPU JAYA SRIKAR"
      ],
      "metadata": {
        "id": "VqDBTPvzYIDr"
      },
      "execution_count": 147,
      "outputs": []
    },
    {
      "cell_type": "code",
      "source": [
        "x = Flatten()(vgg.output)"
      ],
      "metadata": {
        "id": "ZMP2lw3h71sB"
      },
      "execution_count": 118,
      "outputs": []
    },
    {
      "cell_type": "code",
      "source": [
        "prediction = Dense(16,activation='softmax')(x)"
      ],
      "metadata": {
        "id": "K9bzi5tf8DRe"
      },
      "execution_count": 119,
      "outputs": []
    },
    {
      "cell_type": "code",
      "source": [
        "model = Model(inputs=vgg.input,outputs=prediction)"
      ],
      "metadata": {
        "id": "i5RsDiO-9TCV"
      },
      "execution_count": 126,
      "outputs": []
    },
    {
      "cell_type": "code",
      "source": [
        "model.summary()"
      ],
      "metadata": {
        "colab": {
          "base_uri": "https://localhost:8080/"
        },
        "id": "Ac-vfWyD9eLh",
        "outputId": "c307df42-39dc-4e4d-c539-038df33a8b14"
      },
      "execution_count": 127,
      "outputs": [
        {
          "output_type": "stream",
          "name": "stdout",
          "text": [
            "Model: \"model_3\"\n",
            "_________________________________________________________________\n",
            " Layer (type)                Output Shape              Param #   \n",
            "=================================================================\n",
            " input_11 (InputLayer)       [(None, 224, 224, 3)]     0         \n",
            "                                                                 \n",
            " block1_conv1 (Conv2D)       (None, 224, 224, 64)      1792      \n",
            "                                                                 \n",
            " block1_conv2 (Conv2D)       (None, 224, 224, 64)      36928     \n",
            "                                                                 \n",
            " block1_pool (MaxPooling2D)  (None, 112, 112, 64)      0         \n",
            "                                                                 \n",
            " block2_conv1 (Conv2D)       (None, 112, 112, 128)     73856     \n",
            "                                                                 \n",
            " block2_conv2 (Conv2D)       (None, 112, 112, 128)     147584    \n",
            "                                                                 \n",
            " block2_pool (MaxPooling2D)  (None, 56, 56, 128)       0         \n",
            "                                                                 \n",
            " block3_conv1 (Conv2D)       (None, 56, 56, 256)       295168    \n",
            "                                                                 \n",
            " block3_conv2 (Conv2D)       (None, 56, 56, 256)       590080    \n",
            "                                                                 \n",
            " block3_conv3 (Conv2D)       (None, 56, 56, 256)       590080    \n",
            "                                                                 \n",
            " block3_pool (MaxPooling2D)  (None, 28, 28, 256)       0         \n",
            "                                                                 \n",
            " block4_conv1 (Conv2D)       (None, 28, 28, 512)       1180160   \n",
            "                                                                 \n",
            " block4_conv2 (Conv2D)       (None, 28, 28, 512)       2359808   \n",
            "                                                                 \n",
            " block4_conv3 (Conv2D)       (None, 28, 28, 512)       2359808   \n",
            "                                                                 \n",
            " block4_pool (MaxPooling2D)  (None, 14, 14, 512)       0         \n",
            "                                                                 \n",
            " block5_conv1 (Conv2D)       (None, 14, 14, 512)       2359808   \n",
            "                                                                 \n",
            " block5_conv2 (Conv2D)       (None, 14, 14, 512)       2359808   \n",
            "                                                                 \n",
            " block5_conv3 (Conv2D)       (None, 14, 14, 512)       2359808   \n",
            "                                                                 \n",
            " block5_pool (MaxPooling2D)  (None, 7, 7, 512)         0         \n",
            "                                                                 \n",
            " flatten_7 (Flatten)         (None, 25088)             0         \n",
            "                                                                 \n",
            " dense_14 (Dense)            (None, 16)                401424    \n",
            "                                                                 \n",
            "=================================================================\n",
            "Total params: 15,116,112\n",
            "Trainable params: 401,424\n",
            "Non-trainable params: 14,714,688\n",
            "_________________________________________________________________\n"
          ]
        }
      ]
    },
    {
      "cell_type": "code",
      "source": [
        "model.compile(loss='categorical_crossentropy',optimizer='adam',metrics=['accuracy'])"
      ],
      "metadata": {
        "id": "U7qtjFeT9hbP"
      },
      "execution_count": 128,
      "outputs": []
    },
    {
      "cell_type": "code",
      "source": [
        "model.fit(train,validation_data=test,epochs=20,steps_per_epoch=len(train),validation_steps=len(test))"
      ],
      "metadata": {
        "colab": {
          "base_uri": "https://localhost:8080/"
        },
        "id": "syd83l1Z-xKS",
        "outputId": "b71bcd63-dee6-4e9d-ec51-4eedd661fb00"
      },
      "execution_count": 129,
      "outputs": [
        {
          "output_type": "stream",
          "name": "stdout",
          "text": [
            "Epoch 1/20\n",
            "7/7 [==============================] - 228s 35s/step - loss: 2.2157 - accuracy: 0.4800 - val_loss: 3.2116 - val_accuracy: 0.3248\n",
            "Epoch 2/20\n",
            "7/7 [==============================] - 172s 26s/step - loss: 1.3391 - accuracy: 0.6333 - val_loss: 3.0974 - val_accuracy: 0.2866\n",
            "Epoch 3/20\n",
            "7/7 [==============================] - 224s 34s/step - loss: 0.6150 - accuracy: 0.7867 - val_loss: 3.1551 - val_accuracy: 0.2930\n",
            "Epoch 4/20\n",
            "7/7 [==============================] - 222s 34s/step - loss: 0.4751 - accuracy: 0.8467 - val_loss: 2.8620 - val_accuracy: 0.3885\n",
            "Epoch 5/20\n",
            "7/7 [==============================] - 222s 34s/step - loss: 0.2333 - accuracy: 0.9533 - val_loss: 3.0840 - val_accuracy: 0.3567\n",
            "Epoch 6/20\n",
            "7/7 [==============================] - 168s 26s/step - loss: 0.1732 - accuracy: 0.9600 - val_loss: 3.1636 - val_accuracy: 0.3503\n",
            "Epoch 7/20\n",
            "7/7 [==============================] - 221s 34s/step - loss: 0.1326 - accuracy: 0.9600 - val_loss: 3.1343 - val_accuracy: 0.3822\n",
            "Epoch 8/20\n",
            "7/7 [==============================] - 221s 34s/step - loss: 0.0917 - accuracy: 0.9800 - val_loss: 2.9965 - val_accuracy: 0.4013\n",
            "Epoch 9/20\n",
            "7/7 [==============================] - 220s 34s/step - loss: 0.0664 - accuracy: 0.9867 - val_loss: 2.9895 - val_accuracy: 0.3822\n",
            "Epoch 10/20\n",
            "7/7 [==============================] - 221s 35s/step - loss: 0.0633 - accuracy: 0.9933 - val_loss: 3.0258 - val_accuracy: 0.4140\n",
            "Epoch 11/20\n",
            "7/7 [==============================] - 171s 26s/step - loss: 0.0505 - accuracy: 0.9933 - val_loss: 3.1045 - val_accuracy: 0.4013\n",
            "Epoch 12/20\n",
            "7/7 [==============================] - 170s 26s/step - loss: 0.0312 - accuracy: 1.0000 - val_loss: 2.9734 - val_accuracy: 0.4076\n",
            "Epoch 13/20\n",
            "7/7 [==============================] - 221s 34s/step - loss: 0.0338 - accuracy: 1.0000 - val_loss: 3.0528 - val_accuracy: 0.3885\n",
            "Epoch 14/20\n",
            "7/7 [==============================] - 221s 34s/step - loss: 0.0441 - accuracy: 0.9933 - val_loss: 3.0851 - val_accuracy: 0.3949\n",
            "Epoch 15/20\n",
            "7/7 [==============================] - 168s 25s/step - loss: 0.0243 - accuracy: 1.0000 - val_loss: 3.0476 - val_accuracy: 0.4140\n",
            "Epoch 16/20\n",
            "7/7 [==============================] - 168s 26s/step - loss: 0.0316 - accuracy: 1.0000 - val_loss: 3.0747 - val_accuracy: 0.3949\n",
            "Epoch 17/20\n",
            "7/7 [==============================] - 221s 34s/step - loss: 0.0236 - accuracy: 1.0000 - val_loss: 3.0456 - val_accuracy: 0.3885\n",
            "Epoch 18/20\n",
            "7/7 [==============================] - 222s 34s/step - loss: 0.0191 - accuracy: 1.0000 - val_loss: 3.0096 - val_accuracy: 0.4013\n",
            "Epoch 19/20\n",
            "7/7 [==============================] - 221s 35s/step - loss: 0.0214 - accuracy: 1.0000 - val_loss: 3.0434 - val_accuracy: 0.4204\n",
            "Epoch 20/20\n",
            "7/7 [==============================] - 220s 35s/step - loss: 0.0196 - accuracy: 1.0000 - val_loss: 3.0748 - val_accuracy: 0.4076\n"
          ]
        },
        {
          "output_type": "execute_result",
          "data": {
            "text/plain": [
              "<keras.callbacks.History at 0x7f59570a6620>"
            ]
          },
          "metadata": {},
          "execution_count": 129
        }
      ]
    },
    {
      "cell_type": "code",
      "source": [
        "img"
      ],
      "metadata": {
        "colab": {
          "base_uri": "https://localhost:8080/"
        },
        "id": "t0BHBDh9QALZ",
        "outputId": "7435219d-098d-4674-9ee9-94fe06cb5cfd"
      },
      "execution_count": 130,
      "outputs": [
        {
          "output_type": "execute_result",
          "data": {
            "text/plain": [
              "array([[[[ 83.,  47.,  49.],\n",
              "         [ 89.,  54.,  58.],\n",
              "         [108.,  78.,  78.],\n",
              "         ...,\n",
              "         [ 82.,  62.,  35.],\n",
              "         [ 28.,  18.,  19.],\n",
              "         [ 23.,  14.,  15.]],\n",
              "\n",
              "        [[ 99.,  69.,  67.],\n",
              "         [ 65.,  38.,  45.],\n",
              "         [ 70.,  38.,  51.],\n",
              "         ...,\n",
              "         [ 78.,  72.,  50.],\n",
              "         [ 38.,  24.,  21.],\n",
              "         [ 25.,  14.,  18.]],\n",
              "\n",
              "        [[118.,  71.,  77.],\n",
              "         [148.,  82.,  92.],\n",
              "         [ 61.,  34.,  41.],\n",
              "         ...,\n",
              "         [ 74.,  81.,  63.],\n",
              "         [ 57.,  55.,  34.],\n",
              "         [ 23.,  11.,  15.]],\n",
              "\n",
              "        ...,\n",
              "\n",
              "        [[197., 159., 136.],\n",
              "         [196., 158., 137.],\n",
              "         [198., 156., 132.],\n",
              "         ...,\n",
              "         [113., 102.,  96.],\n",
              "         [111., 102.,  69.],\n",
              "         [ 76.,  61.,  54.]],\n",
              "\n",
              "        [[178., 137., 115.],\n",
              "         [156., 119., 101.],\n",
              "         [177., 132., 111.],\n",
              "         ...,\n",
              "         [100.,  90.,  81.],\n",
              "         [ 90.,  80.,  53.],\n",
              "         [ 59.,  44.,  39.]],\n",
              "\n",
              "        [[137.,  96.,  94.],\n",
              "         [147., 104.,  85.],\n",
              "         [140.,  99.,  81.],\n",
              "         ...,\n",
              "         [ 75.,  68.,  60.],\n",
              "         [ 47.,  37.,  28.],\n",
              "         [ 58.,  45.,  39.]]]], dtype=float32)"
            ]
          },
          "metadata": {},
          "execution_count": 130
        }
      ]
    },
    {
      "cell_type": "code",
      "source": [
        "# 20BCE2041 -  MOGALAPU JAYA SRIKAR"
      ],
      "metadata": {
        "id": "afU5DOuEYGSb"
      },
      "execution_count": 146,
      "outputs": []
    },
    {
      "cell_type": "code",
      "source": [
        "img1 = image.load_img('/content/test_data/test_data/hsparo/100_5573.JPG',target_size=(224,224))\n",
        "img1 = image.img_to_array(img1)\n",
        "img1 = np.expand_dims(img1,axis=0)\n",
        "pred = np.argmax(model.predict(img1))\n",
        "print(pred)\n",
        "output = ['blasti','bonegl','brhkyt','cbrtsh','cmnmyn','gretit','hilpig','himbul','himgri','hsparo','indvul','jglowl','lbicrw','mgprob','rebimg','wcrsrt']\n",
        "print(output[pred])"
      ],
      "metadata": {
        "colab": {
          "base_uri": "https://localhost:8080/"
        },
        "id": "YZUm164GUoyx",
        "outputId": "9222c81a-22ba-46b1-93c5-2818938a4830"
      },
      "execution_count": 138,
      "outputs": [
        {
          "output_type": "stream",
          "name": "stdout",
          "text": [
            "1/1 [==============================] - 0s 378ms/step\n",
            "14\n",
            "rebimg\n"
          ]
        }
      ]
    },
    {
      "cell_type": "code",
      "source": [
        "img2 = image.load_img('/content/test_data/test_data/gretit/11776135285_ccf938fa2e_o.jpg',target_size=(224,224))\n",
        "img2 = image.img_to_array(img2)\n",
        "img2 = np.expand_dims(img2,axis=0)\n",
        "pred = np.argmax(model.predict(img2))\n",
        "print(pred)\n",
        "output = ['blasti','bonegl','brhkyt','cbrtsh','cmnmyn','gretit','hilpig','himbul','himgri','hsparo','indvul','jglowl','lbicrw','mgprob','rebimg','wcrsrt']\n",
        "print(output[pred])"
      ],
      "metadata": {
        "colab": {
          "base_uri": "https://localhost:8080/"
        },
        "id": "AsNJA7yoWtXS",
        "outputId": "1e6f8b2a-75f1-4670-b244-817fbff0b9c8"
      },
      "execution_count": 139,
      "outputs": [
        {
          "output_type": "stream",
          "name": "stdout",
          "text": [
            "1/1 [==============================] - 0s 382ms/step\n",
            "7\n",
            "himbul\n"
          ]
        }
      ]
    },
    {
      "cell_type": "code",
      "source": [
        "img3 = image.load_img('/content/test_data/test_data/cbrtsh/_D32_10311.jpg',target_size=(224,224))\n",
        "img3 = image.img_to_array(img3)\n",
        "img3 = np.expand_dims(img3,axis=0)\n",
        "pred = np.argmax(model.predict(img3))\n",
        "print(pred)\n",
        "output = ['blasti','bonegl','brhkyt','cbrtsh','cmnmyn','gretit','hilpig','himbul','himgri','hsparo','indvul','jglowl','lbicrw','mgprob','rebimg','wcrsrt']\n",
        "print(output[pred])"
      ],
      "metadata": {
        "colab": {
          "base_uri": "https://localhost:8080/"
        },
        "id": "jPnN5FeuXMje",
        "outputId": "151b9aee-f2df-45ee-d66d-048cbac86486"
      },
      "execution_count": 140,
      "outputs": [
        {
          "output_type": "stream",
          "name": "stdout",
          "text": [
            "1/1 [==============================] - 0s 463ms/step\n",
            "4\n",
            "cmnmyn\n"
          ]
        }
      ]
    },
    {
      "cell_type": "code",
      "source": [
        "img4 = image.load_img('/content/test_data/test_data/jglowl/_D32_10593.jpg',target_size=(224,224))\n",
        "img4 = image.img_to_array(img4)\n",
        "img4 = np.expand_dims(img4,axis=0)\n",
        "pred = np.argmax(model.predict(img4))\n",
        "print(pred)\n",
        "output = ['blasti','bonegl','brhkyt','cbrtsh','cmnmyn','gretit','hilpig','himbul','himgri','hsparo','indvul','jglowl','lbicrw','mgprob','rebimg','wcrsrt']\n",
        "print(output[pred])"
      ],
      "metadata": {
        "colab": {
          "base_uri": "https://localhost:8080/"
        },
        "id": "IqyM7acmXaoq",
        "outputId": "09a12145-73d8-49d1-fcfa-c7a2282fec61"
      },
      "execution_count": 141,
      "outputs": [
        {
          "output_type": "stream",
          "name": "stdout",
          "text": [
            "1/1 [==============================] - 0s 422ms/step\n",
            "4\n",
            "cmnmyn\n"
          ]
        }
      ]
    },
    {
      "cell_type": "code",
      "source": [
        "img5 = image.load_img('/content/test_data/test_data/lbicrw/IMG_5543.JPG',target_size=(224,224))\n",
        "img5 = image.img_to_array(img5)\n",
        "img5 = np.expand_dims(img5,axis=0)\n",
        "pred = np.argmax(model.predict(img5))\n",
        "print(pred)\n",
        "output = ['blasti','bonegl','brhkyt','cbrtsh','cmnmyn','gretit','hilpig','himbul','himgri','hsparo','indvul','jglowl','lbicrw','mgprob','rebimg','wcrsrt']\n",
        "print(output[pred])"
      ],
      "metadata": {
        "colab": {
          "base_uri": "https://localhost:8080/"
        },
        "id": "bXRaZ9R-XkEC",
        "outputId": "588883ec-53f6-4113-f409-4500b609f286"
      },
      "execution_count": 142,
      "outputs": [
        {
          "output_type": "stream",
          "name": "stdout",
          "text": [
            "1/1 [==============================] - 1s 564ms/step\n",
            "14\n",
            "rebimg\n"
          ]
        }
      ]
    },
    {
      "cell_type": "code",
      "source": [
        "# 20BCE2041 -  MOGALAPU JAYA SRIKAR"
      ],
      "metadata": {
        "id": "h9ZlEK6rX6qu"
      },
      "execution_count": 143,
      "outputs": []
    },
    {
      "cell_type": "code",
      "source": [
        "# 20BCE2041 -  MOGALAPU JAYA SRIKAR"
      ],
      "metadata": {
        "id": "vc0t81RoX_2Y"
      },
      "execution_count": 144,
      "outputs": []
    },
    {
      "cell_type": "code",
      "source": [
        "# THANK YOU"
      ],
      "metadata": {
        "id": "2u7GhHyBYCTU"
      },
      "execution_count": 145,
      "outputs": []
    }
  ]
}