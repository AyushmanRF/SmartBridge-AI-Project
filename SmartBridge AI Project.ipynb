{
  "nbformat": 4,
  "nbformat_minor": 0,
  "metadata": {
    "colab": {
      "provenance": [],
      "gpuType": "T4"
    },
    "kernelspec": {
      "name": "python3",
      "display_name": "Python 3"
    },
    "language_info": {
      "name": "python"
    },
    "accelerator": "GPU"
  },
  "cells": [
    {
      "cell_type": "code",
      "execution_count": null,
      "metadata": {
        "colab": {
          "base_uri": "https://localhost:8080/"
        },
        "id": "hkDHvXkzno1r",
        "outputId": "5dc73162-3715-4dc8-f4fd-5842115765d2"
      },
      "outputs": [
        {
          "output_type": "stream",
          "name": "stderr",
          "text": [
            "[nltk_data] Downloading package stopwords to /root/nltk_data...\n",
            "[nltk_data]   Unzipping corpora/stopwords.zip.\n"
          ]
        }
      ],
      "source": [
        "import pandas as pd\n",
        "import pickle\n",
        "import numpy as np\n",
        "import nltk\n",
        "import re\n",
        "nltk.download('stopwords')\n",
        "from nltk.corpus import stopwords\n",
        "from nltk.stem.porter import PorterStemmer"
      ]
    },
    {
      "cell_type": "code",
      "source": [
        "data = pd.read_csv('/content/tdata.csv.xls')\n",
        "data"
      ],
      "metadata": {
        "colab": {
          "base_uri": "https://localhost:8080/",
          "height": 423
        },
        "id": "ESGzVLm4oeEG",
        "outputId": "f9b73a26-4edb-4a4e-95e1-ff828da07a1d"
      },
      "execution_count": null,
      "outputs": [
        {
          "output_type": "execute_result",
          "data": {
            "text/plain": [
              "       index                                             Review Rating\n",
              "0          1  ok nothing special charge diamond member hilto...    Neg\n",
              "1          3  unique, great stay, wonderful time hotel monac...    Pos\n",
              "2          4  great stay great stay, went seahawk game aweso...    Pos\n",
              "3          5  love monaco staff husband stayed hotel crazy w...    Pos\n",
              "4          6  cozy stay rainy city, husband spent 7 nights m...    Pos\n",
              "...      ...                                                ...    ...\n",
              "12263  20485  not impressed unfriendly staff checked asked h...    Neg\n",
              "12264  20486  best kept secret 3rd time staying charm, not 5...    Pos\n",
              "12265  20488  ok just looks nice modern outside, desk staff ...    Neg\n",
              "12266  20489  hotel theft ruined vacation hotel opened sept ...    Neg\n",
              "12267  20490  people talking, ca n't believe excellent ratin...    Neg\n",
              "\n",
              "[12268 rows x 3 columns]"
            ],
            "text/html": [
              "\n",
              "  <div id=\"df-8202ab76-8b5d-4f2d-a6d4-b23f5b2a12c3\">\n",
              "    <div class=\"colab-df-container\">\n",
              "      <div>\n",
              "<style scoped>\n",
              "    .dataframe tbody tr th:only-of-type {\n",
              "        vertical-align: middle;\n",
              "    }\n",
              "\n",
              "    .dataframe tbody tr th {\n",
              "        vertical-align: top;\n",
              "    }\n",
              "\n",
              "    .dataframe thead th {\n",
              "        text-align: right;\n",
              "    }\n",
              "</style>\n",
              "<table border=\"1\" class=\"dataframe\">\n",
              "  <thead>\n",
              "    <tr style=\"text-align: right;\">\n",
              "      <th></th>\n",
              "      <th>index</th>\n",
              "      <th>Review</th>\n",
              "      <th>Rating</th>\n",
              "    </tr>\n",
              "  </thead>\n",
              "  <tbody>\n",
              "    <tr>\n",
              "      <th>0</th>\n",
              "      <td>1</td>\n",
              "      <td>ok nothing special charge diamond member hilto...</td>\n",
              "      <td>Neg</td>\n",
              "    </tr>\n",
              "    <tr>\n",
              "      <th>1</th>\n",
              "      <td>3</td>\n",
              "      <td>unique, great stay, wonderful time hotel monac...</td>\n",
              "      <td>Pos</td>\n",
              "    </tr>\n",
              "    <tr>\n",
              "      <th>2</th>\n",
              "      <td>4</td>\n",
              "      <td>great stay great stay, went seahawk game aweso...</td>\n",
              "      <td>Pos</td>\n",
              "    </tr>\n",
              "    <tr>\n",
              "      <th>3</th>\n",
              "      <td>5</td>\n",
              "      <td>love monaco staff husband stayed hotel crazy w...</td>\n",
              "      <td>Pos</td>\n",
              "    </tr>\n",
              "    <tr>\n",
              "      <th>4</th>\n",
              "      <td>6</td>\n",
              "      <td>cozy stay rainy city, husband spent 7 nights m...</td>\n",
              "      <td>Pos</td>\n",
              "    </tr>\n",
              "    <tr>\n",
              "      <th>...</th>\n",
              "      <td>...</td>\n",
              "      <td>...</td>\n",
              "      <td>...</td>\n",
              "    </tr>\n",
              "    <tr>\n",
              "      <th>12263</th>\n",
              "      <td>20485</td>\n",
              "      <td>not impressed unfriendly staff checked asked h...</td>\n",
              "      <td>Neg</td>\n",
              "    </tr>\n",
              "    <tr>\n",
              "      <th>12264</th>\n",
              "      <td>20486</td>\n",
              "      <td>best kept secret 3rd time staying charm, not 5...</td>\n",
              "      <td>Pos</td>\n",
              "    </tr>\n",
              "    <tr>\n",
              "      <th>12265</th>\n",
              "      <td>20488</td>\n",
              "      <td>ok just looks nice modern outside, desk staff ...</td>\n",
              "      <td>Neg</td>\n",
              "    </tr>\n",
              "    <tr>\n",
              "      <th>12266</th>\n",
              "      <td>20489</td>\n",
              "      <td>hotel theft ruined vacation hotel opened sept ...</td>\n",
              "      <td>Neg</td>\n",
              "    </tr>\n",
              "    <tr>\n",
              "      <th>12267</th>\n",
              "      <td>20490</td>\n",
              "      <td>people talking, ca n't believe excellent ratin...</td>\n",
              "      <td>Neg</td>\n",
              "    </tr>\n",
              "  </tbody>\n",
              "</table>\n",
              "<p>12268 rows × 3 columns</p>\n",
              "</div>\n",
              "      <button class=\"colab-df-convert\" onclick=\"convertToInteractive('df-8202ab76-8b5d-4f2d-a6d4-b23f5b2a12c3')\"\n",
              "              title=\"Convert this dataframe to an interactive table.\"\n",
              "              style=\"display:none;\">\n",
              "        \n",
              "  <svg xmlns=\"http://www.w3.org/2000/svg\" height=\"24px\"viewBox=\"0 0 24 24\"\n",
              "       width=\"24px\">\n",
              "    <path d=\"M0 0h24v24H0V0z\" fill=\"none\"/>\n",
              "    <path d=\"M18.56 5.44l.94 2.06.94-2.06 2.06-.94-2.06-.94-.94-2.06-.94 2.06-2.06.94zm-11 1L8.5 8.5l.94-2.06 2.06-.94-2.06-.94L8.5 2.5l-.94 2.06-2.06.94zm10 10l.94 2.06.94-2.06 2.06-.94-2.06-.94-.94-2.06-.94 2.06-2.06.94z\"/><path d=\"M17.41 7.96l-1.37-1.37c-.4-.4-.92-.59-1.43-.59-.52 0-1.04.2-1.43.59L10.3 9.45l-7.72 7.72c-.78.78-.78 2.05 0 2.83L4 21.41c.39.39.9.59 1.41.59.51 0 1.02-.2 1.41-.59l7.78-7.78 2.81-2.81c.8-.78.8-2.07 0-2.86zM5.41 20L4 18.59l7.72-7.72 1.47 1.35L5.41 20z\"/>\n",
              "  </svg>\n",
              "      </button>\n",
              "      \n",
              "  <style>\n",
              "    .colab-df-container {\n",
              "      display:flex;\n",
              "      flex-wrap:wrap;\n",
              "      gap: 12px;\n",
              "    }\n",
              "\n",
              "    .colab-df-convert {\n",
              "      background-color: #E8F0FE;\n",
              "      border: none;\n",
              "      border-radius: 50%;\n",
              "      cursor: pointer;\n",
              "      display: none;\n",
              "      fill: #1967D2;\n",
              "      height: 32px;\n",
              "      padding: 0 0 0 0;\n",
              "      width: 32px;\n",
              "    }\n",
              "\n",
              "    .colab-df-convert:hover {\n",
              "      background-color: #E2EBFA;\n",
              "      box-shadow: 0px 1px 2px rgba(60, 64, 67, 0.3), 0px 1px 3px 1px rgba(60, 64, 67, 0.15);\n",
              "      fill: #174EA6;\n",
              "    }\n",
              "\n",
              "    [theme=dark] .colab-df-convert {\n",
              "      background-color: #3B4455;\n",
              "      fill: #D2E3FC;\n",
              "    }\n",
              "\n",
              "    [theme=dark] .colab-df-convert:hover {\n",
              "      background-color: #434B5C;\n",
              "      box-shadow: 0px 1px 3px 1px rgba(0, 0, 0, 0.15);\n",
              "      filter: drop-shadow(0px 1px 2px rgba(0, 0, 0, 0.3));\n",
              "      fill: #FFFFFF;\n",
              "    }\n",
              "  </style>\n",
              "\n",
              "      <script>\n",
              "        const buttonEl =\n",
              "          document.querySelector('#df-8202ab76-8b5d-4f2d-a6d4-b23f5b2a12c3 button.colab-df-convert');\n",
              "        buttonEl.style.display =\n",
              "          google.colab.kernel.accessAllowed ? 'block' : 'none';\n",
              "\n",
              "        async function convertToInteractive(key) {\n",
              "          const element = document.querySelector('#df-8202ab76-8b5d-4f2d-a6d4-b23f5b2a12c3');\n",
              "          const dataTable =\n",
              "            await google.colab.kernel.invokeFunction('convertToInteractive',\n",
              "                                                     [key], {});\n",
              "          if (!dataTable) return;\n",
              "\n",
              "          const docLinkHtml = 'Like what you see? Visit the ' +\n",
              "            '<a target=\"_blank\" href=https://colab.research.google.com/notebooks/data_table.ipynb>data table notebook</a>'\n",
              "            + ' to learn more about interactive tables.';\n",
              "          element.innerHTML = '';\n",
              "          dataTable['output_type'] = 'display_data';\n",
              "          await google.colab.output.renderOutput(dataTable, element);\n",
              "          const docLink = document.createElement('div');\n",
              "          docLink.innerHTML = docLinkHtml;\n",
              "          element.appendChild(docLink);\n",
              "        }\n",
              "      </script>\n",
              "    </div>\n",
              "  </div>\n",
              "  "
            ]
          },
          "metadata": {},
          "execution_count": 2
        }
      ]
    },
    {
      "cell_type": "code",
      "source": [
        "dataone=data.iloc[0:,1:]\n",
        "dataone"
      ],
      "metadata": {
        "colab": {
          "base_uri": "https://localhost:8080/",
          "height": 423
        },
        "id": "9kTMmCA_oiYs",
        "outputId": "f680c966-1470-4b6c-9a5a-3dc1ff467488"
      },
      "execution_count": null,
      "outputs": [
        {
          "output_type": "execute_result",
          "data": {
            "text/plain": [
              "                                                  Review Rating\n",
              "0      ok nothing special charge diamond member hilto...    Neg\n",
              "1      unique, great stay, wonderful time hotel monac...    Pos\n",
              "2      great stay great stay, went seahawk game aweso...    Pos\n",
              "3      love monaco staff husband stayed hotel crazy w...    Pos\n",
              "4      cozy stay rainy city, husband spent 7 nights m...    Pos\n",
              "...                                                  ...    ...\n",
              "12263  not impressed unfriendly staff checked asked h...    Neg\n",
              "12264  best kept secret 3rd time staying charm, not 5...    Pos\n",
              "12265  ok just looks nice modern outside, desk staff ...    Neg\n",
              "12266  hotel theft ruined vacation hotel opened sept ...    Neg\n",
              "12267  people talking, ca n't believe excellent ratin...    Neg\n",
              "\n",
              "[12268 rows x 2 columns]"
            ],
            "text/html": [
              "\n",
              "  <div id=\"df-b809f373-5770-41fe-ba4e-6fe6772e37bd\">\n",
              "    <div class=\"colab-df-container\">\n",
              "      <div>\n",
              "<style scoped>\n",
              "    .dataframe tbody tr th:only-of-type {\n",
              "        vertical-align: middle;\n",
              "    }\n",
              "\n",
              "    .dataframe tbody tr th {\n",
              "        vertical-align: top;\n",
              "    }\n",
              "\n",
              "    .dataframe thead th {\n",
              "        text-align: right;\n",
              "    }\n",
              "</style>\n",
              "<table border=\"1\" class=\"dataframe\">\n",
              "  <thead>\n",
              "    <tr style=\"text-align: right;\">\n",
              "      <th></th>\n",
              "      <th>Review</th>\n",
              "      <th>Rating</th>\n",
              "    </tr>\n",
              "  </thead>\n",
              "  <tbody>\n",
              "    <tr>\n",
              "      <th>0</th>\n",
              "      <td>ok nothing special charge diamond member hilto...</td>\n",
              "      <td>Neg</td>\n",
              "    </tr>\n",
              "    <tr>\n",
              "      <th>1</th>\n",
              "      <td>unique, great stay, wonderful time hotel monac...</td>\n",
              "      <td>Pos</td>\n",
              "    </tr>\n",
              "    <tr>\n",
              "      <th>2</th>\n",
              "      <td>great stay great stay, went seahawk game aweso...</td>\n",
              "      <td>Pos</td>\n",
              "    </tr>\n",
              "    <tr>\n",
              "      <th>3</th>\n",
              "      <td>love monaco staff husband stayed hotel crazy w...</td>\n",
              "      <td>Pos</td>\n",
              "    </tr>\n",
              "    <tr>\n",
              "      <th>4</th>\n",
              "      <td>cozy stay rainy city, husband spent 7 nights m...</td>\n",
              "      <td>Pos</td>\n",
              "    </tr>\n",
              "    <tr>\n",
              "      <th>...</th>\n",
              "      <td>...</td>\n",
              "      <td>...</td>\n",
              "    </tr>\n",
              "    <tr>\n",
              "      <th>12263</th>\n",
              "      <td>not impressed unfriendly staff checked asked h...</td>\n",
              "      <td>Neg</td>\n",
              "    </tr>\n",
              "    <tr>\n",
              "      <th>12264</th>\n",
              "      <td>best kept secret 3rd time staying charm, not 5...</td>\n",
              "      <td>Pos</td>\n",
              "    </tr>\n",
              "    <tr>\n",
              "      <th>12265</th>\n",
              "      <td>ok just looks nice modern outside, desk staff ...</td>\n",
              "      <td>Neg</td>\n",
              "    </tr>\n",
              "    <tr>\n",
              "      <th>12266</th>\n",
              "      <td>hotel theft ruined vacation hotel opened sept ...</td>\n",
              "      <td>Neg</td>\n",
              "    </tr>\n",
              "    <tr>\n",
              "      <th>12267</th>\n",
              "      <td>people talking, ca n't believe excellent ratin...</td>\n",
              "      <td>Neg</td>\n",
              "    </tr>\n",
              "  </tbody>\n",
              "</table>\n",
              "<p>12268 rows × 2 columns</p>\n",
              "</div>\n",
              "      <button class=\"colab-df-convert\" onclick=\"convertToInteractive('df-b809f373-5770-41fe-ba4e-6fe6772e37bd')\"\n",
              "              title=\"Convert this dataframe to an interactive table.\"\n",
              "              style=\"display:none;\">\n",
              "        \n",
              "  <svg xmlns=\"http://www.w3.org/2000/svg\" height=\"24px\"viewBox=\"0 0 24 24\"\n",
              "       width=\"24px\">\n",
              "    <path d=\"M0 0h24v24H0V0z\" fill=\"none\"/>\n",
              "    <path d=\"M18.56 5.44l.94 2.06.94-2.06 2.06-.94-2.06-.94-.94-2.06-.94 2.06-2.06.94zm-11 1L8.5 8.5l.94-2.06 2.06-.94-2.06-.94L8.5 2.5l-.94 2.06-2.06.94zm10 10l.94 2.06.94-2.06 2.06-.94-2.06-.94-.94-2.06-.94 2.06-2.06.94z\"/><path d=\"M17.41 7.96l-1.37-1.37c-.4-.4-.92-.59-1.43-.59-.52 0-1.04.2-1.43.59L10.3 9.45l-7.72 7.72c-.78.78-.78 2.05 0 2.83L4 21.41c.39.39.9.59 1.41.59.51 0 1.02-.2 1.41-.59l7.78-7.78 2.81-2.81c.8-.78.8-2.07 0-2.86zM5.41 20L4 18.59l7.72-7.72 1.47 1.35L5.41 20z\"/>\n",
              "  </svg>\n",
              "      </button>\n",
              "      \n",
              "  <style>\n",
              "    .colab-df-container {\n",
              "      display:flex;\n",
              "      flex-wrap:wrap;\n",
              "      gap: 12px;\n",
              "    }\n",
              "\n",
              "    .colab-df-convert {\n",
              "      background-color: #E8F0FE;\n",
              "      border: none;\n",
              "      border-radius: 50%;\n",
              "      cursor: pointer;\n",
              "      display: none;\n",
              "      fill: #1967D2;\n",
              "      height: 32px;\n",
              "      padding: 0 0 0 0;\n",
              "      width: 32px;\n",
              "    }\n",
              "\n",
              "    .colab-df-convert:hover {\n",
              "      background-color: #E2EBFA;\n",
              "      box-shadow: 0px 1px 2px rgba(60, 64, 67, 0.3), 0px 1px 3px 1px rgba(60, 64, 67, 0.15);\n",
              "      fill: #174EA6;\n",
              "    }\n",
              "\n",
              "    [theme=dark] .colab-df-convert {\n",
              "      background-color: #3B4455;\n",
              "      fill: #D2E3FC;\n",
              "    }\n",
              "\n",
              "    [theme=dark] .colab-df-convert:hover {\n",
              "      background-color: #434B5C;\n",
              "      box-shadow: 0px 1px 3px 1px rgba(0, 0, 0, 0.15);\n",
              "      filter: drop-shadow(0px 1px 2px rgba(0, 0, 0, 0.3));\n",
              "      fill: #FFFFFF;\n",
              "    }\n",
              "  </style>\n",
              "\n",
              "      <script>\n",
              "        const buttonEl =\n",
              "          document.querySelector('#df-b809f373-5770-41fe-ba4e-6fe6772e37bd button.colab-df-convert');\n",
              "        buttonEl.style.display =\n",
              "          google.colab.kernel.accessAllowed ? 'block' : 'none';\n",
              "\n",
              "        async function convertToInteractive(key) {\n",
              "          const element = document.querySelector('#df-b809f373-5770-41fe-ba4e-6fe6772e37bd');\n",
              "          const dataTable =\n",
              "            await google.colab.kernel.invokeFunction('convertToInteractive',\n",
              "                                                     [key], {});\n",
              "          if (!dataTable) return;\n",
              "\n",
              "          const docLinkHtml = 'Like what you see? Visit the ' +\n",
              "            '<a target=\"_blank\" href=https://colab.research.google.com/notebooks/data_table.ipynb>data table notebook</a>'\n",
              "            + ' to learn more about interactive tables.';\n",
              "          element.innerHTML = '';\n",
              "          dataTable['output_type'] = 'display_data';\n",
              "          await google.colab.output.renderOutput(dataTable, element);\n",
              "          const docLink = document.createElement('div');\n",
              "          docLink.innerHTML = docLinkHtml;\n",
              "          element.appendChild(docLink);\n",
              "        }\n",
              "      </script>\n",
              "    </div>\n",
              "  </div>\n",
              "  "
            ]
          },
          "metadata": {},
          "execution_count": 3
        }
      ]
    },
    {
      "cell_type": "code",
      "source": [
        "Reviews=[]\n"
      ],
      "metadata": {
        "id": "KBFMaRWtok4a"
      },
      "execution_count": null,
      "outputs": []
    },
    {
      "cell_type": "code",
      "source": [
        "stemming = PorterStemmer()"
      ],
      "metadata": {
        "id": "Bl_xH3dxooNK"
      },
      "execution_count": null,
      "outputs": []
    },
    {
      "cell_type": "code",
      "source": [
        "for i in range(12268):\n",
        "  review = data['Review'][i]\n",
        "  review = re.sub('[^a-zA-Z]',' ',review)\n",
        "  review = review.lower()\n",
        "  review = review.split()\n",
        "  review = [word for word in review if word not in set(stopwords.words('english'))]\n",
        "  review = [stemming.stem(word) for word in review]\n",
        "  review = ' '.join(review)\n",
        "  Reviews.append(review)"
      ],
      "metadata": {
        "id": "dx__euWKorXh"
      },
      "execution_count": null,
      "outputs": []
    },
    {
      "cell_type": "code",
      "source": [
        "print(Reviews[0:20])"
      ],
      "metadata": {
        "colab": {
          "base_uri": "https://localhost:8080/"
        },
        "id": "bOBlhOT8pT3U",
        "outputId": "9c4d7adb-2c82-4d1a-be1a-d1aa69f82a09"
      },
      "execution_count": null,
      "outputs": [
        {
          "output_type": "stream",
          "name": "stdout",
          "text": [
            "['ok noth special charg diamond member hilton decid chain shot th anniversari seattl start book suit paid extra websit descript suit bedroom bathroom standard hotel room took print reserv desk show said thing like tv couch ect desk clerk told oh mix suit descript kimpton websit sorri free breakfast got kid embassi suit sit room bathroom bedroom unlik kimpton call suit day stay offer correct fals advertis send kimpton prefer guest websit email ask failur provid suit advertis websit reserv descript furnish hard copi reserv printout websit desk manag duti repli solut send email trip guest survey follow email mail guess tell concern guest staff rang indiffer help ask desk good breakfast spot neighborhood hood told hotel gee best breakfast spot seattl block away conveni hotel know exist arriv late night pm insid run bellman busi chate cell phone help bag prior arriv email hotel inform th anniversari half realli picki want make sure good got nice email say like deliv bottl champagn chocol cover strawberri room arriv celebr told need foam pillow arriv champagn strawberri foam pillow great room view alley high rise build good better housekeep staff cleaner room properti impress left morn shop room got short trip hour bed comfort good ac heat control x inch screen bring green shine directli eye night light sensit tape control start hotel clean busi hotel super high rate better chain hotel seattl', 'uniqu great stay wonder time hotel monaco locat excel short stroll main downtown shop area pet friendli room show sign anim hair smell monaco suit sleep area big stripe curtain pull close nice touch felt cosi goldfish name brandi enjoy n partak free wine coffe tea servic lobbi thought great featur great staff friendli free wireless internet hotel work suit laptop decor love eclect mix patten color palatt anim print bathrob feel like rock star nice n look like steril chain hotel hotel person excel stay', 'great stay great stay went seahawk game awesom downfal view build n complain room huge staff help book hotel websit seahawk packag charg park got voucher taxi problem taxi driver n want accept voucher bare spoke english funni thing speak arab call start make comment girlfriend cell phone buddi took second realiz said fact speak languag face priceless ass told said larg citi told head doorman issu call cab compani prompli answer n apolog offer pay taxi buck mile stadium game plan taxi return go humpin great walk n mind right christma wonder light homeless stow away build entranc leav polic presenc greatest area stadium activ block pike street waterfront great coffe shop way hotel mantain foyer awesom wine tast avail even best dog take st bernard time famili safe hotel locat servic desk room bathroom huge jet tub huge funni hous keep walk girlfriend get dress n hear knock turn servic scream girlfriend scream hit floor laugh start talk spanish work place recommend price check onlin deal good better besit contain deal voucher travel websit n tell', 'love monaco staff husband stay hotel crazi weekend attend memori servic best friend husband celebr th wed anniversari talk mix emot book suit hotel mont carlo loan beauti fan tan goldfish name joliet weekend visit dog work desk human companion room decor nice couch use pillow l occitan bath amen welcom sight room quiet peac wireless internet access wonder server went morn leav problem print board pass afternoon recept serv oenophil satisfi wine australia scrumptiou cooki restaur close renov stay final ate food good drink better word caution restaur larger person sit booth wo n fit lb husband tabl smack stomach coupl inch space mighti uncomfort patron larger pregnant bad design opinion place decor funki welcom way metal wood handblown glass light fixtur expect seattl capit glass art industri definit stay reason', 'cozi stay raini citi husband spent night monaco earli januari busi trip chanc come ride book mont carlo suit prove comfort longish stay room locat street build street nois problem view interest room build look dank alley midsect larg offic build suit comfort plenti room spread bathroom attract squeaki clean small comparison gener proport sit sleep area lot comfort seat option good light plenti storag cloth luggag hotel staff friendli effici housekeep staff great job pleasant request respond quickli locat quit good easi walk pike street market seattl art museum notch shop dine option posit experi', 'hotel stay hotel monaco cruis room gener decor uniqu hotel remodel pacif bell build charm sturdi everytim walk bell men felt like come home secur great singl travel locat fabul walk thing pike market space needl littl groceri drug store block away today green bravo doubl bed room room bed couch separ curtain snore mom slept curtain great food nearbi', 'excel stay hotel monaco past w e delight recept staff friendli profession room smart comfort bed particularli like recept small dog receiv staff guest spoke love mild neg distanc uphil ppmarket restaur st overal great experi', 'poor valu stay monaco seattl juli nice hotel price night hotel take beat quotient experi simpli averag noth except pay n ca n terribl disappoint wife stay nicest suit night felt like overpay best advic shop qualiti wise leagu averag marriott nice best western', 'horribl custom servic hotel stay februari rd th friend pick hotel monaco appeal websit onlin packag includ champagn late checkout free valet gift spa weekend friend check room hour earlier came later pull valet young man stood ask valet open said pull bag offer help got garment bag suitcas came car key room number say valet car park car street pull left key work ask valet park car get went room fine bottl champagn oil lotion gift spa dress went came got bed notic blood drop pillow sheet pillow disgust unbeliev call desk sent somebodi minut later swap sheet left apolog sunday morn call desk speak manag sheet aggrav rude appar manag kind supervisor weekend wait monday morn young man spoke said cover food ad person chang sheet said fresh blood rude tone checkout pm packag book staff maid tri walk room open door apolog close peopl call say check remind packag final pack thing went downstair check quickli sign paper took way took closer look room unfortun cover food offer charg valet call desk ask charg ladi answer snap say awar problem experienc monday like told earlier life treat like hotel sure hotel constantli problem lucki one stay recommend anybodi know', 'disappoint say anticip stay hotel monaco base review seen tripadvisor definit disppoint decor room hotel envis nice housekeep staff impress extrem polit cheeri help desk bellmen standard custom servic lot littl thing easili overlook broken make mirror sag post bathroom jiggli entranc handl room n feel secur handl nearli fall door husband earli morn flight mid week ask cab call suggest cab ride cost doubl privat car flat rate n case knew cost cab car bell staff insist like taxi ride cab driver later explain bell staff kick referr prefer guest citi hotel hotel staff look best interest new year plan dine restaur hotel new year day came dress dinner told desk close holiday ask nearbi respons good luck find today good luck thank help featur need hotel busi centr work downstair servic complet semi funcit internet servic sourc end spend money n work refund hour vacat time troubl shoot internet compani toll free servic line ask desk time assist told worst experi time ask desk assist got respons includ shrug say oh bad major staff attitud simpli care need help dare intrud time got snotti respons occas caught desk girl smirk thought turn n talk frustrat honesti n wait check nice decor like goldfish housekeep staff great end hotel want dash door n way concern take greet pretti ignor desk area unless approach time street westin saw noth smile face come go hotel', 'fantast stay monaco seattl hotel monaco hold high standard kimpton hotel line stay kimpton hotel citi easili say seattl hotel monaco best seen servic attent prompt base member kimpton loyalti program upgrad th floor room great view th street excel public librari kitti corner hotel highli recommend tour public librari blown away room quit spaciou beauti flat screen televis dvd cd player exercis room pretti standard kimpton size mean adequ outstand elipt cardio machin stationari bike person view screen cardio machin screen accept dvd seen kimpton hotel hotel monaco line particular hotel lobbi stylish quirki invit easi imagin spend time relax comfort stuf chair restaur attach hotel sazerac good far eaten lunch look forward breakfast tomorrow kimpton properti abl connect free highspe internet ethernet second cruis web check email offic problem opinion ca n wrong kimpton hotel seattl hotel monaco certainli excel choic', 'good choic hotel recommend sister great locat room nice comfort bed quiet staff help recommend restaur pike market block walk stay', 'servic servic servic spent week g friend labor day bumbershoot gray line airport drop corner hotel person cab total make sure flat rate town car locat central downtown street w quick walk point tourist busi ye space needl bit far monorail westlak center easi walk away tourist underground tour public market space needl emp leav bit room luggag shop great neighborhood safe clean room mediterranean suit quit larg equip two person jacuzzi tub small stand glass enclos shower room view care room clean small throw blanket adorn foot bed took tast decor wall stripe trust wont feel like stale hotel ask gold fish bring well behav dog compani servic aspect excel desk hous keep concierg room servic bell desk readi provid warm profession servic test flinch gym open hour newer cardio machin dumbbel highest weight water towel tv gold walk distanc gastronomi sazerac worth tri impress amus visit seattl monaco like bed westin better prefer monaco afford w g friend visit want bumbershoot year stay hotel monaco', 'excel stay delight surpris stay monaco thoroughli enjoy stay room comfort love amen friendli staff especi enjoy hour indulg definit come', 'hotel monaco great locat servic hotel monaco central locat provid excel servic recent stay origin check slight problem inform book queen bed expedia room king bed fortun fellow guest check time swap room futur refer book expedia recommend doubl check hotel ensur receiv correct room staff state better book hotel directli match onlin rate addit concierg marco help sat night call salti make reserv brunch day inform seat avail follow day concierg call restaur hour want dine abl book tabl great window view hotel block away pike place market seattl art museum shop district walk distanc space needl experi music project attract ammen servic provid hotel includ pet goldfish wine tast yoga mat use room seattl recommend take helicopt tour mt st helen hoffstadt visitor center', 'great locat need intern upgrad advantag north end downtown seattl great restaur nearbi good price room need updat liter thought sleep bed old pillow sheet net result bad night sleep stay locat staff friendli', 'nois aircondition standard arrang stay travel agenc unfortun warwick seattl hotel dissapoint trip night stay warwick chang room start minut stay hotel personnel make feel like guest like intrud reluct help solv complaint hotel right downtown minut realli good restaur like good thing avail room offer nd floor window directli open car park level chang room room loud sound come air condition heat unbeliev hotel hotel personnel told standard nois room tri avoid use night order sleep possibl watch tv loudli', 'good locat poor cleanli warwick hotel great locat seattl close shop pike place seattl centr realli let hotel cleanli bed linen torn curtain torn floor stain hotel advertis balconi realiti disappoint stay hotel san diego balconi tabl chair warwick balconi inch view room view space needl terrif n make poor cleanli check staff pleasant unpleas decid sampl restaur ralph deli street great snack cafe plenti better hotel seattl slightli money warwick choos e g hotel andra', 'gem hotel absolut gem small great servic room huge certainli adequ clean comfort ask room high floor great view downtown space needl best attent staff concierg friendli help shuttl driver went way liter victoria ferri pick conveni would recommend', 'bad choic book hotel hot wire call immedi request nonsmok room king bed room away elev ice person spoke pleasant state guarante request honor make note reserv check person desk rude said special request note reserv card andstat king bed way reserv stuck doubl bed locat directli accross elev ice nonsmok elev park garag hotel warwick mat garag filthi stairwel hotel face th smell urin carpet registr elev area need clean upholsteri curtain room need clean andpress sign bathroom water conserv tub facet drip continu tub drain needsattent shower curtain hole coffe maker room bed fit bed sleep directli mattress bed askew staff unfriendli short housekeep staff quit pleasant stay hotel']\n"
          ]
        }
      ]
    },
    {
      "cell_type": "code",
      "source": [
        "data"
      ],
      "metadata": {
        "colab": {
          "base_uri": "https://localhost:8080/"
        },
        "id": "sPBU8cOYpWMm",
        "outputId": "0f554824-44b3-4657-b26d-8b663e087903"
      },
      "execution_count": null,
      "outputs": [
        {
          "output_type": "execute_result",
          "data": {
            "text/plain": [
              "       index                                             Review Rating\n",
              "0          1  ok nothing special charge diamond member hilto...    Neg\n",
              "1          3  unique, great stay, wonderful time hotel monac...    Pos\n",
              "2          4  great stay great stay, went seahawk game aweso...    Pos\n",
              "3          5  love monaco staff husband stayed hotel crazy w...    Pos\n",
              "4          6  cozy stay rainy city, husband spent 7 nights m...    Pos\n",
              "...      ...                                                ...    ...\n",
              "12263  20485  not impressed unfriendly staff checked asked h...    Neg\n",
              "12264  20486  best kept secret 3rd time staying charm, not 5...    Pos\n",
              "12265  20488  ok just looks nice modern outside, desk staff ...    Neg\n",
              "12266  20489  hotel theft ruined vacation hotel opened sept ...    Neg\n",
              "12267  20490  people talking, ca n't believe excellent ratin...    Neg\n",
              "\n",
              "[12268 rows x 3 columns]"
            ],
            "text/html": [
              "\n",
              "  <div id=\"df-dee7c4cf-d1e2-4137-8787-e328ecf31a44\">\n",
              "    <div class=\"colab-df-container\">\n",
              "      <div>\n",
              "<style scoped>\n",
              "    .dataframe tbody tr th:only-of-type {\n",
              "        vertical-align: middle;\n",
              "    }\n",
              "\n",
              "    .dataframe tbody tr th {\n",
              "        vertical-align: top;\n",
              "    }\n",
              "\n",
              "    .dataframe thead th {\n",
              "        text-align: right;\n",
              "    }\n",
              "</style>\n",
              "<table border=\"1\" class=\"dataframe\">\n",
              "  <thead>\n",
              "    <tr style=\"text-align: right;\">\n",
              "      <th></th>\n",
              "      <th>index</th>\n",
              "      <th>Review</th>\n",
              "      <th>Rating</th>\n",
              "    </tr>\n",
              "  </thead>\n",
              "  <tbody>\n",
              "    <tr>\n",
              "      <th>0</th>\n",
              "      <td>1</td>\n",
              "      <td>ok nothing special charge diamond member hilto...</td>\n",
              "      <td>Neg</td>\n",
              "    </tr>\n",
              "    <tr>\n",
              "      <th>1</th>\n",
              "      <td>3</td>\n",
              "      <td>unique, great stay, wonderful time hotel monac...</td>\n",
              "      <td>Pos</td>\n",
              "    </tr>\n",
              "    <tr>\n",
              "      <th>2</th>\n",
              "      <td>4</td>\n",
              "      <td>great stay great stay, went seahawk game aweso...</td>\n",
              "      <td>Pos</td>\n",
              "    </tr>\n",
              "    <tr>\n",
              "      <th>3</th>\n",
              "      <td>5</td>\n",
              "      <td>love monaco staff husband stayed hotel crazy w...</td>\n",
              "      <td>Pos</td>\n",
              "    </tr>\n",
              "    <tr>\n",
              "      <th>4</th>\n",
              "      <td>6</td>\n",
              "      <td>cozy stay rainy city, husband spent 7 nights m...</td>\n",
              "      <td>Pos</td>\n",
              "    </tr>\n",
              "    <tr>\n",
              "      <th>...</th>\n",
              "      <td>...</td>\n",
              "      <td>...</td>\n",
              "      <td>...</td>\n",
              "    </tr>\n",
              "    <tr>\n",
              "      <th>12263</th>\n",
              "      <td>20485</td>\n",
              "      <td>not impressed unfriendly staff checked asked h...</td>\n",
              "      <td>Neg</td>\n",
              "    </tr>\n",
              "    <tr>\n",
              "      <th>12264</th>\n",
              "      <td>20486</td>\n",
              "      <td>best kept secret 3rd time staying charm, not 5...</td>\n",
              "      <td>Pos</td>\n",
              "    </tr>\n",
              "    <tr>\n",
              "      <th>12265</th>\n",
              "      <td>20488</td>\n",
              "      <td>ok just looks nice modern outside, desk staff ...</td>\n",
              "      <td>Neg</td>\n",
              "    </tr>\n",
              "    <tr>\n",
              "      <th>12266</th>\n",
              "      <td>20489</td>\n",
              "      <td>hotel theft ruined vacation hotel opened sept ...</td>\n",
              "      <td>Neg</td>\n",
              "    </tr>\n",
              "    <tr>\n",
              "      <th>12267</th>\n",
              "      <td>20490</td>\n",
              "      <td>people talking, ca n't believe excellent ratin...</td>\n",
              "      <td>Neg</td>\n",
              "    </tr>\n",
              "  </tbody>\n",
              "</table>\n",
              "<p>12268 rows × 3 columns</p>\n",
              "</div>\n",
              "      <button class=\"colab-df-convert\" onclick=\"convertToInteractive('df-dee7c4cf-d1e2-4137-8787-e328ecf31a44')\"\n",
              "              title=\"Convert this dataframe to an interactive table.\"\n",
              "              style=\"display:none;\">\n",
              "        \n",
              "  <svg xmlns=\"http://www.w3.org/2000/svg\" height=\"24px\"viewBox=\"0 0 24 24\"\n",
              "       width=\"24px\">\n",
              "    <path d=\"M0 0h24v24H0V0z\" fill=\"none\"/>\n",
              "    <path d=\"M18.56 5.44l.94 2.06.94-2.06 2.06-.94-2.06-.94-.94-2.06-.94 2.06-2.06.94zm-11 1L8.5 8.5l.94-2.06 2.06-.94-2.06-.94L8.5 2.5l-.94 2.06-2.06.94zm10 10l.94 2.06.94-2.06 2.06-.94-2.06-.94-.94-2.06-.94 2.06-2.06.94z\"/><path d=\"M17.41 7.96l-1.37-1.37c-.4-.4-.92-.59-1.43-.59-.52 0-1.04.2-1.43.59L10.3 9.45l-7.72 7.72c-.78.78-.78 2.05 0 2.83L4 21.41c.39.39.9.59 1.41.59.51 0 1.02-.2 1.41-.59l7.78-7.78 2.81-2.81c.8-.78.8-2.07 0-2.86zM5.41 20L4 18.59l7.72-7.72 1.47 1.35L5.41 20z\"/>\n",
              "  </svg>\n",
              "      </button>\n",
              "      \n",
              "  <style>\n",
              "    .colab-df-container {\n",
              "      display:flex;\n",
              "      flex-wrap:wrap;\n",
              "      gap: 12px;\n",
              "    }\n",
              "\n",
              "    .colab-df-convert {\n",
              "      background-color: #E8F0FE;\n",
              "      border: none;\n",
              "      border-radius: 50%;\n",
              "      cursor: pointer;\n",
              "      display: none;\n",
              "      fill: #1967D2;\n",
              "      height: 32px;\n",
              "      padding: 0 0 0 0;\n",
              "      width: 32px;\n",
              "    }\n",
              "\n",
              "    .colab-df-convert:hover {\n",
              "      background-color: #E2EBFA;\n",
              "      box-shadow: 0px 1px 2px rgba(60, 64, 67, 0.3), 0px 1px 3px 1px rgba(60, 64, 67, 0.15);\n",
              "      fill: #174EA6;\n",
              "    }\n",
              "\n",
              "    [theme=dark] .colab-df-convert {\n",
              "      background-color: #3B4455;\n",
              "      fill: #D2E3FC;\n",
              "    }\n",
              "\n",
              "    [theme=dark] .colab-df-convert:hover {\n",
              "      background-color: #434B5C;\n",
              "      box-shadow: 0px 1px 3px 1px rgba(0, 0, 0, 0.15);\n",
              "      filter: drop-shadow(0px 1px 2px rgba(0, 0, 0, 0.3));\n",
              "      fill: #FFFFFF;\n",
              "    }\n",
              "  </style>\n",
              "\n",
              "      <script>\n",
              "        const buttonEl =\n",
              "          document.querySelector('#df-dee7c4cf-d1e2-4137-8787-e328ecf31a44 button.colab-df-convert');\n",
              "        buttonEl.style.display =\n",
              "          google.colab.kernel.accessAllowed ? 'block' : 'none';\n",
              "\n",
              "        async function convertToInteractive(key) {\n",
              "          const element = document.querySelector('#df-dee7c4cf-d1e2-4137-8787-e328ecf31a44');\n",
              "          const dataTable =\n",
              "            await google.colab.kernel.invokeFunction('convertToInteractive',\n",
              "                                                     [key], {});\n",
              "          if (!dataTable) return;\n",
              "\n",
              "          const docLinkHtml = 'Like what you see? Visit the ' +\n",
              "            '<a target=\"_blank\" href=https://colab.research.google.com/notebooks/data_table.ipynb>data table notebook</a>'\n",
              "            + ' to learn more about interactive tables.';\n",
              "          element.innerHTML = '';\n",
              "          dataTable['output_type'] = 'display_data';\n",
              "          await google.colab.output.renderOutput(dataTable, element);\n",
              "          const docLink = document.createElement('div');\n",
              "          docLink.innerHTML = docLinkHtml;\n",
              "          element.appendChild(docLink);\n",
              "        }\n",
              "      </script>\n",
              "    </div>\n",
              "  </div>\n",
              "  "
            ]
          },
          "metadata": {},
          "execution_count": 8
        }
      ]
    },
    {
      "cell_type": "code",
      "source": [
        "dataone"
      ],
      "metadata": {
        "colab": {
          "base_uri": "https://localhost:8080/"
        },
        "id": "FGpNgkflpYXb",
        "outputId": "ec85e8c8-132e-436e-b2d6-6db7e021ea65"
      },
      "execution_count": null,
      "outputs": [
        {
          "output_type": "execute_result",
          "data": {
            "text/plain": [
              "                                                  Review Rating\n",
              "0      ok nothing special charge diamond member hilto...    Neg\n",
              "1      unique, great stay, wonderful time hotel monac...    Pos\n",
              "2      great stay great stay, went seahawk game aweso...    Pos\n",
              "3      love monaco staff husband stayed hotel crazy w...    Pos\n",
              "4      cozy stay rainy city, husband spent 7 nights m...    Pos\n",
              "...                                                  ...    ...\n",
              "12263  not impressed unfriendly staff checked asked h...    Neg\n",
              "12264  best kept secret 3rd time staying charm, not 5...    Pos\n",
              "12265  ok just looks nice modern outside, desk staff ...    Neg\n",
              "12266  hotel theft ruined vacation hotel opened sept ...    Neg\n",
              "12267  people talking, ca n't believe excellent ratin...    Neg\n",
              "\n",
              "[12268 rows x 2 columns]"
            ],
            "text/html": [
              "\n",
              "  <div id=\"df-4c33eb2a-f9e3-471a-b6d4-38106ef8dd23\">\n",
              "    <div class=\"colab-df-container\">\n",
              "      <div>\n",
              "<style scoped>\n",
              "    .dataframe tbody tr th:only-of-type {\n",
              "        vertical-align: middle;\n",
              "    }\n",
              "\n",
              "    .dataframe tbody tr th {\n",
              "        vertical-align: top;\n",
              "    }\n",
              "\n",
              "    .dataframe thead th {\n",
              "        text-align: right;\n",
              "    }\n",
              "</style>\n",
              "<table border=\"1\" class=\"dataframe\">\n",
              "  <thead>\n",
              "    <tr style=\"text-align: right;\">\n",
              "      <th></th>\n",
              "      <th>Review</th>\n",
              "      <th>Rating</th>\n",
              "    </tr>\n",
              "  </thead>\n",
              "  <tbody>\n",
              "    <tr>\n",
              "      <th>0</th>\n",
              "      <td>ok nothing special charge diamond member hilto...</td>\n",
              "      <td>Neg</td>\n",
              "    </tr>\n",
              "    <tr>\n",
              "      <th>1</th>\n",
              "      <td>unique, great stay, wonderful time hotel monac...</td>\n",
              "      <td>Pos</td>\n",
              "    </tr>\n",
              "    <tr>\n",
              "      <th>2</th>\n",
              "      <td>great stay great stay, went seahawk game aweso...</td>\n",
              "      <td>Pos</td>\n",
              "    </tr>\n",
              "    <tr>\n",
              "      <th>3</th>\n",
              "      <td>love monaco staff husband stayed hotel crazy w...</td>\n",
              "      <td>Pos</td>\n",
              "    </tr>\n",
              "    <tr>\n",
              "      <th>4</th>\n",
              "      <td>cozy stay rainy city, husband spent 7 nights m...</td>\n",
              "      <td>Pos</td>\n",
              "    </tr>\n",
              "    <tr>\n",
              "      <th>...</th>\n",
              "      <td>...</td>\n",
              "      <td>...</td>\n",
              "    </tr>\n",
              "    <tr>\n",
              "      <th>12263</th>\n",
              "      <td>not impressed unfriendly staff checked asked h...</td>\n",
              "      <td>Neg</td>\n",
              "    </tr>\n",
              "    <tr>\n",
              "      <th>12264</th>\n",
              "      <td>best kept secret 3rd time staying charm, not 5...</td>\n",
              "      <td>Pos</td>\n",
              "    </tr>\n",
              "    <tr>\n",
              "      <th>12265</th>\n",
              "      <td>ok just looks nice modern outside, desk staff ...</td>\n",
              "      <td>Neg</td>\n",
              "    </tr>\n",
              "    <tr>\n",
              "      <th>12266</th>\n",
              "      <td>hotel theft ruined vacation hotel opened sept ...</td>\n",
              "      <td>Neg</td>\n",
              "    </tr>\n",
              "    <tr>\n",
              "      <th>12267</th>\n",
              "      <td>people talking, ca n't believe excellent ratin...</td>\n",
              "      <td>Neg</td>\n",
              "    </tr>\n",
              "  </tbody>\n",
              "</table>\n",
              "<p>12268 rows × 2 columns</p>\n",
              "</div>\n",
              "      <button class=\"colab-df-convert\" onclick=\"convertToInteractive('df-4c33eb2a-f9e3-471a-b6d4-38106ef8dd23')\"\n",
              "              title=\"Convert this dataframe to an interactive table.\"\n",
              "              style=\"display:none;\">\n",
              "        \n",
              "  <svg xmlns=\"http://www.w3.org/2000/svg\" height=\"24px\"viewBox=\"0 0 24 24\"\n",
              "       width=\"24px\">\n",
              "    <path d=\"M0 0h24v24H0V0z\" fill=\"none\"/>\n",
              "    <path d=\"M18.56 5.44l.94 2.06.94-2.06 2.06-.94-2.06-.94-.94-2.06-.94 2.06-2.06.94zm-11 1L8.5 8.5l.94-2.06 2.06-.94-2.06-.94L8.5 2.5l-.94 2.06-2.06.94zm10 10l.94 2.06.94-2.06 2.06-.94-2.06-.94-.94-2.06-.94 2.06-2.06.94z\"/><path d=\"M17.41 7.96l-1.37-1.37c-.4-.4-.92-.59-1.43-.59-.52 0-1.04.2-1.43.59L10.3 9.45l-7.72 7.72c-.78.78-.78 2.05 0 2.83L4 21.41c.39.39.9.59 1.41.59.51 0 1.02-.2 1.41-.59l7.78-7.78 2.81-2.81c.8-.78.8-2.07 0-2.86zM5.41 20L4 18.59l7.72-7.72 1.47 1.35L5.41 20z\"/>\n",
              "  </svg>\n",
              "      </button>\n",
              "      \n",
              "  <style>\n",
              "    .colab-df-container {\n",
              "      display:flex;\n",
              "      flex-wrap:wrap;\n",
              "      gap: 12px;\n",
              "    }\n",
              "\n",
              "    .colab-df-convert {\n",
              "      background-color: #E8F0FE;\n",
              "      border: none;\n",
              "      border-radius: 50%;\n",
              "      cursor: pointer;\n",
              "      display: none;\n",
              "      fill: #1967D2;\n",
              "      height: 32px;\n",
              "      padding: 0 0 0 0;\n",
              "      width: 32px;\n",
              "    }\n",
              "\n",
              "    .colab-df-convert:hover {\n",
              "      background-color: #E2EBFA;\n",
              "      box-shadow: 0px 1px 2px rgba(60, 64, 67, 0.3), 0px 1px 3px 1px rgba(60, 64, 67, 0.15);\n",
              "      fill: #174EA6;\n",
              "    }\n",
              "\n",
              "    [theme=dark] .colab-df-convert {\n",
              "      background-color: #3B4455;\n",
              "      fill: #D2E3FC;\n",
              "    }\n",
              "\n",
              "    [theme=dark] .colab-df-convert:hover {\n",
              "      background-color: #434B5C;\n",
              "      box-shadow: 0px 1px 3px 1px rgba(0, 0, 0, 0.15);\n",
              "      filter: drop-shadow(0px 1px 2px rgba(0, 0, 0, 0.3));\n",
              "      fill: #FFFFFF;\n",
              "    }\n",
              "  </style>\n",
              "\n",
              "      <script>\n",
              "        const buttonEl =\n",
              "          document.querySelector('#df-4c33eb2a-f9e3-471a-b6d4-38106ef8dd23 button.colab-df-convert');\n",
              "        buttonEl.style.display =\n",
              "          google.colab.kernel.accessAllowed ? 'block' : 'none';\n",
              "\n",
              "        async function convertToInteractive(key) {\n",
              "          const element = document.querySelector('#df-4c33eb2a-f9e3-471a-b6d4-38106ef8dd23');\n",
              "          const dataTable =\n",
              "            await google.colab.kernel.invokeFunction('convertToInteractive',\n",
              "                                                     [key], {});\n",
              "          if (!dataTable) return;\n",
              "\n",
              "          const docLinkHtml = 'Like what you see? Visit the ' +\n",
              "            '<a target=\"_blank\" href=https://colab.research.google.com/notebooks/data_table.ipynb>data table notebook</a>'\n",
              "            + ' to learn more about interactive tables.';\n",
              "          element.innerHTML = '';\n",
              "          dataTable['output_type'] = 'display_data';\n",
              "          await google.colab.output.renderOutput(dataTable, element);\n",
              "          const docLink = document.createElement('div');\n",
              "          docLink.innerHTML = docLinkHtml;\n",
              "          element.appendChild(docLink);\n",
              "        }\n",
              "      </script>\n",
              "    </div>\n",
              "  </div>\n",
              "  "
            ]
          },
          "metadata": {},
          "execution_count": 9
        }
      ]
    },
    {
      "cell_type": "code",
      "source": [
        "dataone['Rating']=dataone['Rating'].replace({'Pos':1,'Neg':0})\n",
        "print(dataone)"
      ],
      "metadata": {
        "colab": {
          "base_uri": "https://localhost:8080/"
        },
        "id": "bTFYD1t7pbap",
        "outputId": "87215de2-60f4-448f-bb09-80cd4afe7b05"
      },
      "execution_count": null,
      "outputs": [
        {
          "output_type": "stream",
          "name": "stdout",
          "text": [
            "                                                  Review  Rating\n",
            "0      ok nothing special charge diamond member hilto...       0\n",
            "1      unique, great stay, wonderful time hotel monac...       1\n",
            "2      great stay great stay, went seahawk game aweso...       1\n",
            "3      love monaco staff husband stayed hotel crazy w...       1\n",
            "4      cozy stay rainy city, husband spent 7 nights m...       1\n",
            "...                                                  ...     ...\n",
            "12263  not impressed unfriendly staff checked asked h...       0\n",
            "12264  best kept secret 3rd time staying charm, not 5...       1\n",
            "12265  ok just looks nice modern outside, desk staff ...       0\n",
            "12266  hotel theft ruined vacation hotel opened sept ...       0\n",
            "12267  people talking, ca n't believe excellent ratin...       0\n",
            "\n",
            "[12268 rows x 2 columns]\n"
          ]
        }
      ]
    },
    {
      "cell_type": "code",
      "source": [
        "dataone"
      ],
      "metadata": {
        "colab": {
          "base_uri": "https://localhost:8080/"
        },
        "id": "DsgzULVTpeFM",
        "outputId": "8a31d2c3-bfb2-43a8-86da-1895a119c433"
      },
      "execution_count": null,
      "outputs": [
        {
          "output_type": "execute_result",
          "data": {
            "text/plain": [
              "                                                  Review  Rating\n",
              "0      ok nothing special charge diamond member hilto...       0\n",
              "1      unique, great stay, wonderful time hotel monac...       1\n",
              "2      great stay great stay, went seahawk game aweso...       1\n",
              "3      love monaco staff husband stayed hotel crazy w...       1\n",
              "4      cozy stay rainy city, husband spent 7 nights m...       1\n",
              "...                                                  ...     ...\n",
              "12263  not impressed unfriendly staff checked asked h...       0\n",
              "12264  best kept secret 3rd time staying charm, not 5...       1\n",
              "12265  ok just looks nice modern outside, desk staff ...       0\n",
              "12266  hotel theft ruined vacation hotel opened sept ...       0\n",
              "12267  people talking, ca n't believe excellent ratin...       0\n",
              "\n",
              "[12268 rows x 2 columns]"
            ],
            "text/html": [
              "\n",
              "  <div id=\"df-892f2eea-ffe7-4401-a8be-c9627d931bd0\">\n",
              "    <div class=\"colab-df-container\">\n",
              "      <div>\n",
              "<style scoped>\n",
              "    .dataframe tbody tr th:only-of-type {\n",
              "        vertical-align: middle;\n",
              "    }\n",
              "\n",
              "    .dataframe tbody tr th {\n",
              "        vertical-align: top;\n",
              "    }\n",
              "\n",
              "    .dataframe thead th {\n",
              "        text-align: right;\n",
              "    }\n",
              "</style>\n",
              "<table border=\"1\" class=\"dataframe\">\n",
              "  <thead>\n",
              "    <tr style=\"text-align: right;\">\n",
              "      <th></th>\n",
              "      <th>Review</th>\n",
              "      <th>Rating</th>\n",
              "    </tr>\n",
              "  </thead>\n",
              "  <tbody>\n",
              "    <tr>\n",
              "      <th>0</th>\n",
              "      <td>ok nothing special charge diamond member hilto...</td>\n",
              "      <td>0</td>\n",
              "    </tr>\n",
              "    <tr>\n",
              "      <th>1</th>\n",
              "      <td>unique, great stay, wonderful time hotel monac...</td>\n",
              "      <td>1</td>\n",
              "    </tr>\n",
              "    <tr>\n",
              "      <th>2</th>\n",
              "      <td>great stay great stay, went seahawk game aweso...</td>\n",
              "      <td>1</td>\n",
              "    </tr>\n",
              "    <tr>\n",
              "      <th>3</th>\n",
              "      <td>love monaco staff husband stayed hotel crazy w...</td>\n",
              "      <td>1</td>\n",
              "    </tr>\n",
              "    <tr>\n",
              "      <th>4</th>\n",
              "      <td>cozy stay rainy city, husband spent 7 nights m...</td>\n",
              "      <td>1</td>\n",
              "    </tr>\n",
              "    <tr>\n",
              "      <th>...</th>\n",
              "      <td>...</td>\n",
              "      <td>...</td>\n",
              "    </tr>\n",
              "    <tr>\n",
              "      <th>12263</th>\n",
              "      <td>not impressed unfriendly staff checked asked h...</td>\n",
              "      <td>0</td>\n",
              "    </tr>\n",
              "    <tr>\n",
              "      <th>12264</th>\n",
              "      <td>best kept secret 3rd time staying charm, not 5...</td>\n",
              "      <td>1</td>\n",
              "    </tr>\n",
              "    <tr>\n",
              "      <th>12265</th>\n",
              "      <td>ok just looks nice modern outside, desk staff ...</td>\n",
              "      <td>0</td>\n",
              "    </tr>\n",
              "    <tr>\n",
              "      <th>12266</th>\n",
              "      <td>hotel theft ruined vacation hotel opened sept ...</td>\n",
              "      <td>0</td>\n",
              "    </tr>\n",
              "    <tr>\n",
              "      <th>12267</th>\n",
              "      <td>people talking, ca n't believe excellent ratin...</td>\n",
              "      <td>0</td>\n",
              "    </tr>\n",
              "  </tbody>\n",
              "</table>\n",
              "<p>12268 rows × 2 columns</p>\n",
              "</div>\n",
              "      <button class=\"colab-df-convert\" onclick=\"convertToInteractive('df-892f2eea-ffe7-4401-a8be-c9627d931bd0')\"\n",
              "              title=\"Convert this dataframe to an interactive table.\"\n",
              "              style=\"display:none;\">\n",
              "        \n",
              "  <svg xmlns=\"http://www.w3.org/2000/svg\" height=\"24px\"viewBox=\"0 0 24 24\"\n",
              "       width=\"24px\">\n",
              "    <path d=\"M0 0h24v24H0V0z\" fill=\"none\"/>\n",
              "    <path d=\"M18.56 5.44l.94 2.06.94-2.06 2.06-.94-2.06-.94-.94-2.06-.94 2.06-2.06.94zm-11 1L8.5 8.5l.94-2.06 2.06-.94-2.06-.94L8.5 2.5l-.94 2.06-2.06.94zm10 10l.94 2.06.94-2.06 2.06-.94-2.06-.94-.94-2.06-.94 2.06-2.06.94z\"/><path d=\"M17.41 7.96l-1.37-1.37c-.4-.4-.92-.59-1.43-.59-.52 0-1.04.2-1.43.59L10.3 9.45l-7.72 7.72c-.78.78-.78 2.05 0 2.83L4 21.41c.39.39.9.59 1.41.59.51 0 1.02-.2 1.41-.59l7.78-7.78 2.81-2.81c.8-.78.8-2.07 0-2.86zM5.41 20L4 18.59l7.72-7.72 1.47 1.35L5.41 20z\"/>\n",
              "  </svg>\n",
              "      </button>\n",
              "      \n",
              "  <style>\n",
              "    .colab-df-container {\n",
              "      display:flex;\n",
              "      flex-wrap:wrap;\n",
              "      gap: 12px;\n",
              "    }\n",
              "\n",
              "    .colab-df-convert {\n",
              "      background-color: #E8F0FE;\n",
              "      border: none;\n",
              "      border-radius: 50%;\n",
              "      cursor: pointer;\n",
              "      display: none;\n",
              "      fill: #1967D2;\n",
              "      height: 32px;\n",
              "      padding: 0 0 0 0;\n",
              "      width: 32px;\n",
              "    }\n",
              "\n",
              "    .colab-df-convert:hover {\n",
              "      background-color: #E2EBFA;\n",
              "      box-shadow: 0px 1px 2px rgba(60, 64, 67, 0.3), 0px 1px 3px 1px rgba(60, 64, 67, 0.15);\n",
              "      fill: #174EA6;\n",
              "    }\n",
              "\n",
              "    [theme=dark] .colab-df-convert {\n",
              "      background-color: #3B4455;\n",
              "      fill: #D2E3FC;\n",
              "    }\n",
              "\n",
              "    [theme=dark] .colab-df-convert:hover {\n",
              "      background-color: #434B5C;\n",
              "      box-shadow: 0px 1px 3px 1px rgba(0, 0, 0, 0.15);\n",
              "      filter: drop-shadow(0px 1px 2px rgba(0, 0, 0, 0.3));\n",
              "      fill: #FFFFFF;\n",
              "    }\n",
              "  </style>\n",
              "\n",
              "      <script>\n",
              "        const buttonEl =\n",
              "          document.querySelector('#df-892f2eea-ffe7-4401-a8be-c9627d931bd0 button.colab-df-convert');\n",
              "        buttonEl.style.display =\n",
              "          google.colab.kernel.accessAllowed ? 'block' : 'none';\n",
              "\n",
              "        async function convertToInteractive(key) {\n",
              "          const element = document.querySelector('#df-892f2eea-ffe7-4401-a8be-c9627d931bd0');\n",
              "          const dataTable =\n",
              "            await google.colab.kernel.invokeFunction('convertToInteractive',\n",
              "                                                     [key], {});\n",
              "          if (!dataTable) return;\n",
              "\n",
              "          const docLinkHtml = 'Like what you see? Visit the ' +\n",
              "            '<a target=\"_blank\" href=https://colab.research.google.com/notebooks/data_table.ipynb>data table notebook</a>'\n",
              "            + ' to learn more about interactive tables.';\n",
              "          element.innerHTML = '';\n",
              "          dataTable['output_type'] = 'display_data';\n",
              "          await google.colab.output.renderOutput(dataTable, element);\n",
              "          const docLink = document.createElement('div');\n",
              "          docLink.innerHTML = docLinkHtml;\n",
              "          element.appendChild(docLink);\n",
              "        }\n",
              "      </script>\n",
              "    </div>\n",
              "  </div>\n",
              "  "
            ]
          },
          "metadata": {},
          "execution_count": 11
        }
      ]
    },
    {
      "cell_type": "code",
      "source": [
        "from sklearn.feature_extraction.text import CountVectorizer\n",
        "\n",
        "count = CountVectorizer()"
      ],
      "metadata": {
        "id": "qC0ar-BZpg8q"
      },
      "execution_count": null,
      "outputs": []
    },
    {
      "cell_type": "code",
      "source": [
        "x = count.fit_transform(Reviews).toarray()\n",
        "x"
      ],
      "metadata": {
        "colab": {
          "base_uri": "https://localhost:8080/"
        },
        "id": "rfhfb9mNpjun",
        "outputId": "671f8b95-1266-4e27-d538-e752d2cefaaf"
      },
      "execution_count": null,
      "outputs": [
        {
          "output_type": "execute_result",
          "data": {
            "text/plain": [
              "array([[0, 0, 0, ..., 0, 0, 0],\n",
              "       [0, 0, 0, ..., 0, 0, 0],\n",
              "       [0, 0, 0, ..., 0, 0, 0],\n",
              "       ...,\n",
              "       [0, 0, 0, ..., 0, 0, 0],\n",
              "       [0, 0, 0, ..., 0, 0, 0],\n",
              "       [0, 0, 0, ..., 0, 0, 0]])"
            ]
          },
          "metadata": {},
          "execution_count": 13
        }
      ]
    },
    {
      "cell_type": "code",
      "source": [
        "y = dataone['Rating'].values\n",
        "y"
      ],
      "metadata": {
        "colab": {
          "base_uri": "https://localhost:8080/"
        },
        "id": "B3Fn46pgpmbh",
        "outputId": "c8fb5470-ee45-4301-8c47-da47b4588d1a"
      },
      "execution_count": null,
      "outputs": [
        {
          "output_type": "execute_result",
          "data": {
            "text/plain": [
              "array([0, 1, 1, ..., 0, 0, 0])"
            ]
          },
          "metadata": {},
          "execution_count": 14
        }
      ]
    },
    {
      "cell_type": "code",
      "source": [
        "from sklearn.model_selection import train_test_split"
      ],
      "metadata": {
        "id": "Zk1fxBpeppbM"
      },
      "execution_count": null,
      "outputs": []
    },
    {
      "cell_type": "code",
      "source": [
        "xtrain,xtest,ytrain,ytest = train_test_split(x,y,test_size=0.2,random_state=15)"
      ],
      "metadata": {
        "id": "37kGT_lcpr5J"
      },
      "execution_count": null,
      "outputs": []
    },
    {
      "cell_type": "code",
      "source": [
        "x.shape, y.shape"
      ],
      "metadata": {
        "colab": {
          "base_uri": "https://localhost:8080/"
        },
        "id": "arezC7O7pvMR",
        "outputId": "103b7823-184f-4439-8ec6-8a06c1ef023b"
      },
      "execution_count": null,
      "outputs": [
        {
          "output_type": "execute_result",
          "data": {
            "text/plain": [
              "((12268, 27552), (12268,))"
            ]
          },
          "metadata": {},
          "execution_count": 17
        }
      ]
    },
    {
      "cell_type": "code",
      "source": [
        "xtrain.shape, xtest.shape"
      ],
      "metadata": {
        "colab": {
          "base_uri": "https://localhost:8080/"
        },
        "id": "QTYsQ6-hpxZD",
        "outputId": "46a83a3c-85ef-4282-a550-19acc6cca4d9"
      },
      "execution_count": null,
      "outputs": [
        {
          "output_type": "execute_result",
          "data": {
            "text/plain": [
              "((9814, 27552), (2454, 27552))"
            ]
          },
          "metadata": {},
          "execution_count": 18
        }
      ]
    },
    {
      "cell_type": "code",
      "source": [
        "ytrain.shape, ytest.shape"
      ],
      "metadata": {
        "colab": {
          "base_uri": "https://localhost:8080/"
        },
        "id": "ES23thbip0Ho",
        "outputId": "dc40afb9-7c57-4287-c60e-83f0ebae73f9"
      },
      "execution_count": null,
      "outputs": [
        {
          "output_type": "execute_result",
          "data": {
            "text/plain": [
              "((9814,), (2454,))"
            ]
          },
          "metadata": {},
          "execution_count": 19
        }
      ]
    },
    {
      "cell_type": "code",
      "source": [
        "with open('count_vectorizer.pkl', 'wb') as file:\n",
        "    pickle.dump(count, file)"
      ],
      "metadata": {
        "id": "vxoT06IzOxee"
      },
      "execution_count": null,
      "outputs": []
    },
    {
      "cell_type": "code",
      "source": [
        "from tensorflow.keras.models import Sequential\n",
        "from tensorflow.keras.layers import Dense\n",
        "\n",
        "model = Sequential()\n",
        "model.add(Dense(5000,activation='relu'))\n",
        "model.add(Dense(6000,activation='relu'))\n",
        "model.add(Dense(3000,activation='relu'))\n",
        "model.add(Dense(1,activation='sigmoid'))"
      ],
      "metadata": {
        "id": "SKrZF66sp3i7"
      },
      "execution_count": null,
      "outputs": []
    },
    {
      "cell_type": "code",
      "source": [
        "model.compile(loss='binary_crossentropy', optimizer='adam',metrics=['accuracy'])"
      ],
      "metadata": {
        "id": "H0KADHkPqBDX"
      },
      "execution_count": null,
      "outputs": []
    },
    {
      "cell_type": "code",
      "source": [
        "model. fit(xtrain,ytrain,epochs=25,batch_size=5,validation_data=(xtest,ytest))"
      ],
      "metadata": {
        "colab": {
          "base_uri": "https://localhost:8080/"
        },
        "id": "3CioaGRGqFAP",
        "outputId": "aff1745e-fcd2-4ae6-b2bd-04a6c4fc514a"
      },
      "execution_count": null,
      "outputs": [
        {
          "output_type": "stream",
          "name": "stdout",
          "text": [
            "Epoch 1/25\n",
            "1963/1963 [==============================] - 82s 39ms/step - loss: 0.2460 - accuracy: 0.9341 - val_loss: 0.1612 - val_accuracy: 0.9613\n",
            "Epoch 2/25\n",
            "1963/1963 [==============================] - 73s 37ms/step - loss: 0.0836 - accuracy: 0.9814 - val_loss: 0.1647 - val_accuracy: 0.9633\n",
            "Epoch 3/25\n",
            "1963/1963 [==============================] - 75s 38ms/step - loss: 0.0689 - accuracy: 0.9876 - val_loss: 0.4342 - val_accuracy: 0.9515\n",
            "Epoch 4/25\n",
            "1963/1963 [==============================] - 75s 38ms/step - loss: 0.0543 - accuracy: 0.9908 - val_loss: 0.5227 - val_accuracy: 0.9588\n",
            "Epoch 5/25\n",
            "1963/1963 [==============================] - 73s 37ms/step - loss: 0.0307 - accuracy: 0.9952 - val_loss: 0.8646 - val_accuracy: 0.9641\n",
            "Epoch 6/25\n",
            "1963/1963 [==============================] - 73s 37ms/step - loss: 0.0275 - accuracy: 0.9978 - val_loss: 0.6372 - val_accuracy: 0.9597\n",
            "Epoch 7/25\n",
            "1963/1963 [==============================] - 73s 37ms/step - loss: 0.0164 - accuracy: 0.9967 - val_loss: 1.0757 - val_accuracy: 0.9621\n",
            "Epoch 8/25\n",
            "1963/1963 [==============================] - 73s 37ms/step - loss: 0.0315 - accuracy: 0.9960 - val_loss: 1.2501 - val_accuracy: 0.9637\n",
            "Epoch 9/25\n",
            "1963/1963 [==============================] - 73s 37ms/step - loss: 0.0058 - accuracy: 0.9986 - val_loss: 1.2327 - val_accuracy: 0.9601\n",
            "Epoch 10/25\n",
            "1963/1963 [==============================] - 73s 37ms/step - loss: 0.0179 - accuracy: 0.9977 - val_loss: 0.8854 - val_accuracy: 0.9625\n",
            "Epoch 11/25\n",
            "1963/1963 [==============================] - 75s 38ms/step - loss: 0.0311 - accuracy: 0.9977 - val_loss: 0.6628 - val_accuracy: 0.9617\n",
            "Epoch 12/25\n",
            "1963/1963 [==============================] - 75s 38ms/step - loss: 0.0120 - accuracy: 0.9981 - val_loss: 0.4909 - val_accuracy: 0.9633\n",
            "Epoch 13/25\n",
            "1963/1963 [==============================] - 73s 37ms/step - loss: 0.0153 - accuracy: 0.9985 - val_loss: 0.6284 - val_accuracy: 0.9633\n",
            "Epoch 14/25\n",
            "1963/1963 [==============================] - 75s 38ms/step - loss: 0.0059 - accuracy: 0.9982 - val_loss: 1.4733 - val_accuracy: 0.9650\n",
            "Epoch 15/25\n",
            "1963/1963 [==============================] - 75s 38ms/step - loss: 0.0052 - accuracy: 0.9989 - val_loss: 1.9034 - val_accuracy: 0.9658\n",
            "Epoch 16/25\n",
            "1963/1963 [==============================] - 75s 38ms/step - loss: 0.0263 - accuracy: 0.9963 - val_loss: 2.0886 - val_accuracy: 0.9645\n",
            "Epoch 17/25\n",
            "1963/1963 [==============================] - 75s 38ms/step - loss: 0.0120 - accuracy: 0.9986 - val_loss: 2.0787 - val_accuracy: 0.9593\n",
            "Epoch 18/25\n",
            "1963/1963 [==============================] - 73s 37ms/step - loss: 0.0076 - accuracy: 0.9990 - val_loss: 3.0835 - val_accuracy: 0.9621\n",
            "Epoch 19/25\n",
            "1963/1963 [==============================] - 75s 38ms/step - loss: 0.0018 - accuracy: 0.9999 - val_loss: 2.9388 - val_accuracy: 0.9662\n",
            "Epoch 20/25\n",
            "1963/1963 [==============================] - 75s 38ms/step - loss: 7.5715e-05 - accuracy: 1.0000 - val_loss: 2.9668 - val_accuracy: 0.9662\n",
            "Epoch 21/25\n",
            "1963/1963 [==============================] - 75s 38ms/step - loss: 7.3798e-05 - accuracy: 1.0000 - val_loss: 2.9826 - val_accuracy: 0.9658\n",
            "Epoch 22/25\n",
            "1963/1963 [==============================] - 75s 38ms/step - loss: 7.1496e-05 - accuracy: 1.0000 - val_loss: 3.0237 - val_accuracy: 0.9662\n",
            "Epoch 23/25\n",
            "1963/1963 [==============================] - 75s 38ms/step - loss: 6.8318e-05 - accuracy: 1.0000 - val_loss: 3.0509 - val_accuracy: 0.9658\n",
            "Epoch 24/25\n",
            "1963/1963 [==============================] - 73s 37ms/step - loss: 6.5669e-05 - accuracy: 1.0000 - val_loss: 3.0750 - val_accuracy: 0.9658\n",
            "Epoch 25/25\n",
            "1963/1963 [==============================] - 73s 37ms/step - loss: 6.3021e-05 - accuracy: 1.0000 - val_loss: 3.1085 - val_accuracy: 0.9658\n"
          ]
        },
        {
          "output_type": "execute_result",
          "data": {
            "text/plain": [
              "<keras.callbacks.History at 0x7fa5f18f18d0>"
            ]
          },
          "metadata": {},
          "execution_count": 22
        }
      ]
    },
    {
      "cell_type": "code",
      "source": [
        "testdata= 'not so good'\n",
        "testdata = re.sub('[^a-zA-Z]',' ',testdata)\n",
        "testdata = testdata.lower()\n",
        "testdata = testdata.split()\n",
        "testdata = [word for word in testdata if word not in set(stopwords.words('english'))]\n",
        "testdata = [stemming.stem(word) for word in testdata]\n",
        "testdata = ' '.join(testdata)\n",
        "testdata = count.transform([testdata]).toarray()\n",
        "prediction = model.predict(testdata)\n",
        "print(testdata)\n",
        "print(prediction)\n",
        "if prediction>0.5:\n",
        "  print('Positive')\n",
        "else:\n",
        "  print('Negative')"
      ],
      "metadata": {
        "colab": {
          "base_uri": "https://localhost:8080/"
        },
        "id": "F_S5ACIrxPEh",
        "outputId": "9a493d43-0343-4463-a1f5-d625bdff36e4"
      },
      "execution_count": null,
      "outputs": [
        {
          "output_type": "stream",
          "name": "stdout",
          "text": [
            "1/1 [==============================] - 0s 19ms/step\n",
            "[[0 0 0 ... 0 0 0]]\n",
            "[[0.33171353]]\n",
            "Negative\n"
          ]
        }
      ]
    }
  ]
}