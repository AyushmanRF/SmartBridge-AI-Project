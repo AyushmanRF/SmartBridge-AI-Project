{
 "cells": [
  {
   "cell_type": "code",
   "execution_count": 1,
   "id": "9b61d054",
   "metadata": {},
   "outputs": [
    {
     "name": "stdout",
     "output_type": "stream",
     "text": [
      "   Feature 1  Feature 2  Feature 3  Feature 4\n",
      "0   0.496714  -0.138264   0.647689   1.523030\n",
      "1  -0.234153  -0.234137   1.579213   0.767435\n",
      "2  -0.469474   0.542560  -0.463418  -0.465730\n",
      "3   0.241962  -1.913280  -1.724918  -0.562288\n"
     ]
    }
   ],
   "source": [
    "#TASK 1 : Create a pandas dataframe (DataFrame name as 'df') with numpy random values (4 features and 4 observation)\n",
    "\n",
    "import pandas as pd\n",
    "import numpy as np\n",
    "np.random.seed(42)\n",
    "data = np.random.randn(4, 4)\n",
    "df = pd.DataFrame(data, columns=['Feature 1', 'Feature 2', 'Feature 3', 'Feature 4'])\n",
    "print(df)"
   ]
  },
  {
   "cell_type": "code",
   "execution_count": 3,
   "id": "ad0990f0",
   "metadata": {},
   "outputs": [
    {
     "name": "stdout",
     "output_type": "stream",
     "text": [
      "   Random value 1  Random value 2  Random value 3  Random value 4\n",
      "0        0.496714       -0.138264        0.647689        1.523030\n",
      "1       -0.234153       -0.234137        1.579213        0.767435\n",
      "2       -0.469474        0.542560       -0.463418       -0.465730\n",
      "3        0.241962       -1.913280       -1.724918       -0.562288\n"
     ]
    }
   ],
   "source": [
    "#TASK 2 :  Rename the task - 1 'df' dataframe column names to 'Random value 1', 'Random value 2', 'Random value 3' & 'Random value 4'\n",
    "\n",
    "new_column_names = {'Feature 1': 'Random value 1','Feature 2': 'Random value 2','Feature 3': 'Random value 3',\n",
    "                    'Feature 4': 'Random value 4'}\n",
    "df = df.rename(columns=new_column_names)\n",
    "print(df)"
   ]
  },
  {
   "cell_type": "code",
   "execution_count": 4,
   "id": "ee2ac1a1",
   "metadata": {},
   "outputs": [
    {
     "name": "stdout",
     "output_type": "stream",
     "text": [
      "       Random value 1  Random value 2  Random value 3  Random value 4\n",
      "count        4.000000        4.000000        4.000000        4.000000\n",
      "mean         0.008762       -0.435780        0.009641        0.315612\n",
      "std          0.439772        1.043924        1.426317        1.007175\n",
      "min         -0.469474       -1.913280       -1.724918       -0.562288\n",
      "25%         -0.292984       -0.653923       -0.778793       -0.489869\n",
      "50%          0.003904       -0.186201        0.092135        0.150852\n",
      "75%          0.305650        0.031942        0.880570        0.956334\n",
      "max          0.496714        0.542560        1.579213        1.523030\n"
     ]
    }
   ],
   "source": [
    "#TASK 3 :  Find the descriptive statistics of the 'df' dataframe.\n",
    "\n",
    "statistics = df.describe()\n",
    "print(statistics)"
   ]
  },
  {
   "cell_type": "code",
   "execution_count": 5,
   "id": "47128fb3",
   "metadata": {},
   "outputs": [
    {
     "name": "stdout",
     "output_type": "stream",
     "text": [
      "Null values:\n",
      " Random value 1    0\n",
      "Random value 2    0\n",
      "Random value 3    0\n",
      "Random value 4    0\n",
      "dtype: int64\n",
      "\n",
      "Data types:\n",
      " Random value 1    float64\n",
      "Random value 2    float64\n",
      "Random value 3    float64\n",
      "Random value 4    float64\n",
      "dtype: object\n"
     ]
    }
   ],
   "source": [
    "#TASK 4 : Check for the null values in 'df' and find the data type of the columns.\n",
    "\n",
    "null_values = df.isnull().sum()\n",
    "print(\"Null values:\\n\", null_values)\n",
    "data_types = df.dtypes\n",
    "print(\"\\nData types:\\n\", data_types)"
   ]
  },
  {
   "cell_type": "code",
   "execution_count": 6,
   "id": "7cfca702",
   "metadata": {},
   "outputs": [
    {
     "name": "stdout",
     "output_type": "stream",
     "text": [
      "Using loc:\n",
      "    Random value 2  Random value 3\n",
      "0       -0.138264        0.647689\n",
      "1       -0.234137        1.579213\n",
      "2        0.542560       -0.463418\n",
      "3       -1.913280       -1.724918\n",
      "\n",
      "Using iloc:\n",
      "    Random value 2  Random value 3\n",
      "0       -0.138264        0.647689\n",
      "1       -0.234137        1.579213\n",
      "2        0.542560       -0.463418\n",
      "3       -1.913280       -1.724918\n"
     ]
    }
   ],
   "source": [
    "#TASK 5 : Display the 'Random value 2' & 'Random value 3' columns with location method and index location method\n",
    "\n",
    "loc_columns = df.loc[:, ['Random value 2', 'Random value 3']]\n",
    "print(\"Using loc:\\n\", loc_columns)\n",
    "iloc_columns = df.iloc[:, [1, 2]]\n",
    "print(\"\\nUsing iloc:\\n\", iloc_columns)"
   ]
  }
 ],
 "metadata": {
  "kernelspec": {
   "display_name": "Python 3 (ipykernel)",
   "language": "python",
   "name": "python3"
  },
  "language_info": {
   "codemirror_mode": {
    "name": "ipython",
    "version": 3
   },
   "file_extension": ".py",
   "mimetype": "text/x-python",
   "name": "python",
   "nbconvert_exporter": "python",
   "pygments_lexer": "ipython3",
   "version": "3.9.13"
  }
 },
 "nbformat": 4,
 "nbformat_minor": 5
}
